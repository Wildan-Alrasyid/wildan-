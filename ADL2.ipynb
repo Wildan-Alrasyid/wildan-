{
  "nbformat": 4,
  "nbformat_minor": 0,
  "metadata": {
    "colab": {
      "name": "ADL2.ipynb",
      "provenance": [],
      "authorship_tag": "ABX9TyN4ZMcSUMYn1JFuTZV0Mtj9",
      "include_colab_link": true
    },
    "kernelspec": {
      "name": "python3",
      "display_name": "Python 3"
    },
    "language_info": {
      "name": "python"
    }
  },
  "cells": [
    {
      "cell_type": "markdown",
      "metadata": {
        "id": "view-in-github",
        "colab_type": "text"
      },
      "source": [
        "<a href=\"https://colab.research.google.com/github/Wildan-Alrasyid/wildan-/blob/main/ADL2.ipynb\" target=\"_parent\"><img src=\"https://colab.research.google.com/assets/colab-badge.svg\" alt=\"Open In Colab\"/></a>"
      ]
    },
    {
      "cell_type": "code",
      "execution_count": null,
      "metadata": {
        "id": "Mqa51MPtYh2g"
      },
      "outputs": [],
      "source": [
        "import torch"
      ]
    },
    {
      "cell_type": "code",
      "source": [
        "x = torch.arange(12, dtype=torch.float32)\n",
        "x"
      ],
      "metadata": {
        "colab": {
          "base_uri": "https://localhost:8080/"
        },
        "id": "AkxSMwnzY0Cq",
        "outputId": "4a02fcc3-f9d5-48ac-c421-77499f975092"
      },
      "execution_count": null,
      "outputs": [
        {
          "output_type": "execute_result",
          "data": {
            "text/plain": [
              "tensor([ 0.,  1.,  2.,  3.,  4.,  5.,  6.,  7.,  8.,  9., 10., 11.])"
            ]
          },
          "metadata": {},
          "execution_count": 2
        }
      ]
    },
    {
      "cell_type": "code",
      "source": [
        "x.shape"
      ],
      "metadata": {
        "colab": {
          "base_uri": "https://localhost:8080/"
        },
        "id": "XnTyxUEJY580",
        "outputId": "817e3fbb-00fc-42e3-d94d-a2515c36f958"
      },
      "execution_count": null,
      "outputs": [
        {
          "output_type": "execute_result",
          "data": {
            "text/plain": [
              "torch.Size([12])"
            ]
          },
          "metadata": {},
          "execution_count": 3
        }
      ]
    },
    {
      "cell_type": "code",
      "source": [
        "x.numel()\n"
      ],
      "metadata": {
        "colab": {
          "base_uri": "https://localhost:8080/"
        },
        "id": "MiiC2aF4ZFsw",
        "outputId": "4a561b04-7681-4052-f46a-9d993e17a62e"
      },
      "execution_count": null,
      "outputs": [
        {
          "output_type": "execute_result",
          "data": {
            "text/plain": [
              "12"
            ]
          },
          "metadata": {},
          "execution_count": 4
        }
      ]
    },
    {
      "cell_type": "code",
      "source": [
        "X = x.reshape(3, 4)\n",
        "X\n"
      ],
      "metadata": {
        "colab": {
          "base_uri": "https://localhost:8080/"
        },
        "id": "2ARnH3MLZKxC",
        "outputId": "86604341-da21-47db-f78c-9b70689dab03"
      },
      "execution_count": null,
      "outputs": [
        {
          "output_type": "execute_result",
          "data": {
            "text/plain": [
              "tensor([[ 0.,  1.,  2.,  3.],\n",
              "        [ 4.,  5.,  6.,  7.],\n",
              "        [ 8.,  9., 10., 11.]])"
            ]
          },
          "metadata": {},
          "execution_count": 6
        }
      ]
    },
    {
      "cell_type": "code",
      "source": [
        "torch.zeros((2, 3, 4))"
      ],
      "metadata": {
        "colab": {
          "base_uri": "https://localhost:8080/"
        },
        "id": "UmnyRlYzZVI0",
        "outputId": "182895fe-f936-4a1e-f2a4-02158923835a"
      },
      "execution_count": null,
      "outputs": [
        {
          "output_type": "execute_result",
          "data": {
            "text/plain": [
              "tensor([[[0., 0., 0., 0.],\n",
              "         [0., 0., 0., 0.],\n",
              "         [0., 0., 0., 0.]],\n",
              "\n",
              "        [[0., 0., 0., 0.],\n",
              "         [0., 0., 0., 0.],\n",
              "         [0., 0., 0., 0.]]])"
            ]
          },
          "metadata": {},
          "execution_count": 7
        }
      ]
    },
    {
      "cell_type": "code",
      "source": [
        "torch.ones((2, 3, 4))"
      ],
      "metadata": {
        "colab": {
          "base_uri": "https://localhost:8080/"
        },
        "id": "SB6-tCvDZbaG",
        "outputId": "1eff324e-7909-4ad4-d2ad-9ce1b8cb3006"
      },
      "execution_count": null,
      "outputs": [
        {
          "output_type": "execute_result",
          "data": {
            "text/plain": [
              "tensor([[[1., 1., 1., 1.],\n",
              "         [1., 1., 1., 1.],\n",
              "         [1., 1., 1., 1.]],\n",
              "\n",
              "        [[1., 1., 1., 1.],\n",
              "         [1., 1., 1., 1.],\n",
              "         [1., 1., 1., 1.]]])"
            ]
          },
          "metadata": {},
          "execution_count": 8
        }
      ]
    },
    {
      "cell_type": "code",
      "source": [
        "torch.randn(3, 4)"
      ],
      "metadata": {
        "colab": {
          "base_uri": "https://localhost:8080/"
        },
        "id": "h1nuf0kcZfjl",
        "outputId": "0f162559-499c-4a14-9e5e-afc2f0a8eb8d"
      },
      "execution_count": null,
      "outputs": [
        {
          "output_type": "execute_result",
          "data": {
            "text/plain": [
              "tensor([[ 0.8279,  0.9684,  0.1636, -2.8479],\n",
              "        [ 0.2166, -0.6495,  2.2421,  0.8983],\n",
              "        [ 0.6635, -1.5072, -0.4810, -1.3381]])"
            ]
          },
          "metadata": {},
          "execution_count": 9
        }
      ]
    },
    {
      "cell_type": "code",
      "source": [
        "torch.tensor([[2, 1, 4, 3], [1, 2, 3, 4], [4, 3, 2, 1]])"
      ],
      "metadata": {
        "colab": {
          "base_uri": "https://localhost:8080/"
        },
        "id": "OMf0LnjLZlM7",
        "outputId": "857cd796-214f-46ce-f0de-d3733841ddd3"
      },
      "execution_count": null,
      "outputs": [
        {
          "output_type": "execute_result",
          "data": {
            "text/plain": [
              "tensor([[2, 1, 4, 3],\n",
              "        [1, 2, 3, 4],\n",
              "        [4, 3, 2, 1]])"
            ]
          },
          "metadata": {},
          "execution_count": 10
        }
      ]
    },
    {
      "cell_type": "code",
      "source": [
        "x = torch.tensor([1.0, 2, 4, 8])\n",
        "y = torch.tensor([2, 2, 2, 2])\n",
        "x + y, x - y, x * y, x / y, x ** y  # The ** operator is exponentiation"
      ],
      "metadata": {
        "colab": {
          "base_uri": "https://localhost:8080/"
        },
        "id": "E8vdkAC_aNdu",
        "outputId": "bf4162e8-dadb-4996-b79a-5048b161bce9"
      },
      "execution_count": null,
      "outputs": [
        {
          "output_type": "execute_result",
          "data": {
            "text/plain": [
              "(tensor([ 3.,  4.,  6., 10.]),\n",
              " tensor([-1.,  0.,  2.,  6.]),\n",
              " tensor([ 2.,  4.,  8., 16.]),\n",
              " tensor([0.5000, 1.0000, 2.0000, 4.0000]),\n",
              " tensor([ 1.,  4., 16., 64.]))"
            ]
          },
          "metadata": {},
          "execution_count": 11
        }
      ]
    },
    {
      "cell_type": "code",
      "source": [
        "torch.exp(x)"
      ],
      "metadata": {
        "colab": {
          "base_uri": "https://localhost:8080/"
        },
        "id": "PIoBuzb0aViB",
        "outputId": "c6d4fe59-a1ca-47ad-a6ff-c38b217104ed"
      },
      "execution_count": null,
      "outputs": [
        {
          "output_type": "execute_result",
          "data": {
            "text/plain": [
              "tensor([2.7183e+00, 7.3891e+00, 5.4598e+01, 2.9810e+03])"
            ]
          },
          "metadata": {},
          "execution_count": 12
        }
      ]
    },
    {
      "cell_type": "code",
      "source": [
        "X = torch.arange(12, dtype=torch.float32).reshape((3,4))\n",
        "Y = torch.tensor([[2.0, 1, 4, 3], [1, 2, 3, 4], [4, 3, 2, 1]])\n",
        "torch.cat((X, Y), dim=0), torch.cat((X, Y), dim=1)"
      ],
      "metadata": {
        "colab": {
          "base_uri": "https://localhost:8080/"
        },
        "id": "yeuDCkjjacgp",
        "outputId": "b6a69dd9-8b03-4512-ad73-07080ddafcad"
      },
      "execution_count": null,
      "outputs": [
        {
          "output_type": "execute_result",
          "data": {
            "text/plain": [
              "(tensor([[ 0.,  1.,  2.,  3.],\n",
              "         [ 4.,  5.,  6.,  7.],\n",
              "         [ 8.,  9., 10., 11.],\n",
              "         [ 2.,  1.,  4.,  3.],\n",
              "         [ 1.,  2.,  3.,  4.],\n",
              "         [ 4.,  3.,  2.,  1.]]),\n",
              " tensor([[ 0.,  1.,  2.,  3.,  2.,  1.,  4.,  3.],\n",
              "         [ 4.,  5.,  6.,  7.,  1.,  2.,  3.,  4.],\n",
              "         [ 8.,  9., 10., 11.,  4.,  3.,  2.,  1.]]))"
            ]
          },
          "metadata": {},
          "execution_count": 13
        }
      ]
    },
    {
      "cell_type": "code",
      "source": [
        "X == Y"
      ],
      "metadata": {
        "colab": {
          "base_uri": "https://localhost:8080/"
        },
        "id": "lsIu0sE4apgA",
        "outputId": "168bb3a1-3bd8-4883-e504-3e061e49368d"
      },
      "execution_count": null,
      "outputs": [
        {
          "output_type": "execute_result",
          "data": {
            "text/plain": [
              "tensor([[False,  True, False,  True],\n",
              "        [False, False, False, False],\n",
              "        [False, False, False, False]])"
            ]
          },
          "metadata": {},
          "execution_count": 14
        }
      ]
    },
    {
      "cell_type": "code",
      "source": [
        "X.sum()"
      ],
      "metadata": {
        "colab": {
          "base_uri": "https://localhost:8080/"
        },
        "id": "RcY_M6bRaxLc",
        "outputId": "4386de64-6d32-4a8d-83a0-61abc7bdc408"
      },
      "execution_count": null,
      "outputs": [
        {
          "output_type": "execute_result",
          "data": {
            "text/plain": [
              "tensor(66.)"
            ]
          },
          "metadata": {},
          "execution_count": 15
        }
      ]
    },
    {
      "cell_type": "code",
      "source": [
        "a = torch.arange(3).reshape((3, 1))\n",
        "b = torch.arange(2).reshape((1, 2))\n",
        "a, b"
      ],
      "metadata": {
        "colab": {
          "base_uri": "https://localhost:8080/"
        },
        "id": "LG6Mnd_ta6N_",
        "outputId": "f87c60c2-7962-4ca8-8296-8582bfa45998"
      },
      "execution_count": null,
      "outputs": [
        {
          "output_type": "execute_result",
          "data": {
            "text/plain": [
              "(tensor([[0],\n",
              "         [1],\n",
              "         [2]]), tensor([[0, 1]]))"
            ]
          },
          "metadata": {},
          "execution_count": 16
        }
      ]
    },
    {
      "cell_type": "code",
      "source": [
        "a + b"
      ],
      "metadata": {
        "colab": {
          "base_uri": "https://localhost:8080/"
        },
        "id": "SufmtDUrbGI3",
        "outputId": "67cc5283-7551-4450-970a-5a38f88ff95c"
      },
      "execution_count": null,
      "outputs": [
        {
          "output_type": "execute_result",
          "data": {
            "text/plain": [
              "tensor([[0, 1],\n",
              "        [1, 2],\n",
              "        [2, 3]])"
            ]
          },
          "metadata": {},
          "execution_count": 17
        }
      ]
    },
    {
      "cell_type": "code",
      "source": [
        "X[-1], X[1:3]"
      ],
      "metadata": {
        "colab": {
          "base_uri": "https://localhost:8080/"
        },
        "id": "qQyeItoNbQSx",
        "outputId": "e7f3f3eb-f348-48ce-8fa3-ac3360dfcfc2"
      },
      "execution_count": null,
      "outputs": [
        {
          "output_type": "execute_result",
          "data": {
            "text/plain": [
              "(tensor([ 8.,  9., 10., 11.]), tensor([[ 4.,  5.,  6.,  7.],\n",
              "         [ 8.,  9., 10., 11.]]))"
            ]
          },
          "metadata": {},
          "execution_count": 18
        }
      ]
    },
    {
      "cell_type": "code",
      "source": [
        "X[1, 2] = 9\n",
        "X"
      ],
      "metadata": {
        "colab": {
          "base_uri": "https://localhost:8080/"
        },
        "id": "UGKKBfdkbWqr",
        "outputId": "c2891408-8704-4751-f605-ceff337e55c3"
      },
      "execution_count": null,
      "outputs": [
        {
          "output_type": "execute_result",
          "data": {
            "text/plain": [
              "tensor([[ 0.,  1.,  2.,  3.],\n",
              "        [ 4.,  5.,  9.,  7.],\n",
              "        [ 8.,  9., 10., 11.]])"
            ]
          },
          "metadata": {},
          "execution_count": 19
        }
      ]
    },
    {
      "cell_type": "code",
      "source": [
        "X[0:2, :] = 12\n",
        "X"
      ],
      "metadata": {
        "colab": {
          "base_uri": "https://localhost:8080/"
        },
        "id": "eMcVKI6VbbBH",
        "outputId": "b7218a8c-880d-4f61-f407-0381d37f52ce"
      },
      "execution_count": null,
      "outputs": [
        {
          "output_type": "execute_result",
          "data": {
            "text/plain": [
              "tensor([[12., 12., 12., 12.],\n",
              "        [12., 12., 12., 12.],\n",
              "        [ 8.,  9., 10., 11.]])"
            ]
          },
          "metadata": {},
          "execution_count": 20
        }
      ]
    },
    {
      "cell_type": "code",
      "source": [
        "before = id(Y)\n",
        "Y = Y + X\n",
        "id(Y) == before"
      ],
      "metadata": {
        "colab": {
          "base_uri": "https://localhost:8080/"
        },
        "id": "Z7sprMv6boGj",
        "outputId": "2b70030c-9bb2-468d-e700-a1520f4d3171"
      },
      "execution_count": null,
      "outputs": [
        {
          "output_type": "execute_result",
          "data": {
            "text/plain": [
              "False"
            ]
          },
          "metadata": {},
          "execution_count": 21
        }
      ]
    },
    {
      "cell_type": "code",
      "source": [
        "Z = torch.zeros_like(Y)\n",
        "print('id(Z):', id(Z))\n",
        "Z[:] = X + Y\n",
        "print('id(Z):', id(Z))"
      ],
      "metadata": {
        "colab": {
          "base_uri": "https://localhost:8080/"
        },
        "id": "_90n3VqabyG7",
        "outputId": "5b381971-70e6-450c-e0f1-f0920d11a1d3"
      },
      "execution_count": null,
      "outputs": [
        {
          "output_type": "stream",
          "name": "stdout",
          "text": [
            "id(Z): 139618746435920\n",
            "id(Z): 139618746435920\n"
          ]
        }
      ]
    },
    {
      "cell_type": "code",
      "source": [
        "before = id(X)\n",
        "X += Y\n",
        "id(X) == before"
      ],
      "metadata": {
        "colab": {
          "base_uri": "https://localhost:8080/"
        },
        "id": "a04U3zSwb4hL",
        "outputId": "580241ca-74a3-4c40-e4cb-8376e9a77fed"
      },
      "execution_count": null,
      "outputs": [
        {
          "output_type": "execute_result",
          "data": {
            "text/plain": [
              "True"
            ]
          },
          "metadata": {},
          "execution_count": 23
        }
      ]
    },
    {
      "cell_type": "code",
      "source": [
        "A = X.numpy()\n",
        "B = torch.from_numpy(A)\n",
        "type(A), type(B)"
      ],
      "metadata": {
        "colab": {
          "base_uri": "https://localhost:8080/"
        },
        "id": "mzSz349qb-db",
        "outputId": "3fe67d49-1552-4f55-fcb5-6cbd1ccfb2b9"
      },
      "execution_count": null,
      "outputs": [
        {
          "output_type": "execute_result",
          "data": {
            "text/plain": [
              "(numpy.ndarray, torch.Tensor)"
            ]
          },
          "metadata": {},
          "execution_count": 24
        }
      ]
    },
    {
      "cell_type": "code",
      "source": [
        "a = torch.tensor([3.5])\n",
        "a, a.item(), float(a), int(a)"
      ],
      "metadata": {
        "colab": {
          "base_uri": "https://localhost:8080/"
        },
        "id": "1NrT2o_AcI50",
        "outputId": "8e769e02-eb29-4fc8-ab31-d39e4a4dd960"
      },
      "execution_count": null,
      "outputs": [
        {
          "output_type": "execute_result",
          "data": {
            "text/plain": [
              "(tensor([3.5000]), 3.5, 3.5, 3)"
            ]
          },
          "metadata": {},
          "execution_count": 25
        }
      ]
    },
    {
      "cell_type": "code",
      "source": [
        "import os\n",
        "\n",
        "os.makedirs(os.path.join('..', 'data'), exist_ok=True)\n",
        "data_file = os.path.join('..', 'data', 'house_tiny.csv')\n",
        "with open(data_file, 'w') as f:\n",
        "    f.write('NumRooms,Alley,Price\\n')  # Column names\n",
        "    f.write('NA,Pave,127500\\n')  # Each row represents a data example\n",
        "    f.write('2,NA,106000\\n')\n",
        "    f.write('4,NA,178100\\n')\n",
        "    f.write('NA,NA,140000\\n')"
      ],
      "metadata": {
        "id": "cwKXdP8Rc2ag"
      },
      "execution_count": null,
      "outputs": []
    },
    {
      "cell_type": "code",
      "source": [
        "# If pandas is not installed, just uncomment the following line:\n",
        "# !pip install pandas\n",
        "import pandas as pd\n",
        "\n",
        "data = pd.read_csv(data_file)\n",
        "print(data)"
      ],
      "metadata": {
        "colab": {
          "base_uri": "https://localhost:8080/"
        },
        "id": "h2PtdUVTdFZV",
        "outputId": "b6fb01d7-4f94-4fc1-c789-00c3eb71bdf7"
      },
      "execution_count": null,
      "outputs": [
        {
          "output_type": "stream",
          "name": "stdout",
          "text": [
            "   NumRooms Alley   Price\n",
            "0       NaN  Pave  127500\n",
            "1       2.0   NaN  106000\n",
            "2       4.0   NaN  178100\n",
            "3       NaN   NaN  140000\n"
          ]
        }
      ]
    },
    {
      "cell_type": "code",
      "source": [
        "inputs, outputs = data.iloc[:, 0:2], data.iloc[:, 2]\n",
        "inputs = inputs.fillna(inputs.mean())\n",
        "print(inputs)"
      ],
      "metadata": {
        "colab": {
          "base_uri": "https://localhost:8080/"
        },
        "id": "oMozzvkZdTQI",
        "outputId": "8db033d4-4fbc-4eb2-cbe8-f3258effae75"
      },
      "execution_count": null,
      "outputs": [
        {
          "output_type": "stream",
          "name": "stdout",
          "text": [
            "   NumRooms Alley\n",
            "0       3.0  Pave\n",
            "1       2.0   NaN\n",
            "2       4.0   NaN\n",
            "3       3.0   NaN\n"
          ]
        },
        {
          "output_type": "stream",
          "name": "stderr",
          "text": [
            "/usr/local/lib/python3.7/dist-packages/ipykernel_launcher.py:2: FutureWarning: Dropping of nuisance columns in DataFrame reductions (with 'numeric_only=None') is deprecated; in a future version this will raise TypeError.  Select only valid columns before calling the reduction.\n",
            "  \n"
          ]
        }
      ]
    },
    {
      "cell_type": "code",
      "source": [
        "inputs = pd.get_dummies(inputs, dummy_na=True)\n",
        "print(inputs)"
      ],
      "metadata": {
        "colab": {
          "base_uri": "https://localhost:8080/"
        },
        "id": "GXTbaBfEdmRf",
        "outputId": "4e2d60e9-7a2c-4400-cce2-4b386728d248"
      },
      "execution_count": null,
      "outputs": [
        {
          "output_type": "stream",
          "name": "stdout",
          "text": [
            "   NumRooms  Alley_Pave  Alley_nan\n",
            "0       3.0           1          0\n",
            "1       2.0           0          1\n",
            "2       4.0           0          1\n",
            "3       3.0           0          1\n"
          ]
        }
      ]
    },
    {
      "cell_type": "code",
      "source": [
        "import torch\n",
        "\n",
        "X, y = torch.tensor(inputs.values), torch.tensor(outputs.values)\n",
        "X, y"
      ],
      "metadata": {
        "colab": {
          "base_uri": "https://localhost:8080/"
        },
        "id": "TxmKTXfUdwVp",
        "outputId": "f1adcf59-1b0d-452f-fde5-151c73357a40"
      },
      "execution_count": null,
      "outputs": [
        {
          "output_type": "execute_result",
          "data": {
            "text/plain": [
              "(tensor([[3., 1., 0.],\n",
              "         [2., 0., 1.],\n",
              "         [4., 0., 1.],\n",
              "         [3., 0., 1.]], dtype=torch.float64),\n",
              " tensor([127500, 106000, 178100, 140000]))"
            ]
          },
          "metadata": {},
          "execution_count": 30
        }
      ]
    },
    {
      "cell_type": "code",
      "source": [
        "import torch\n",
        "\n",
        "x = torch.tensor(3.0)\n",
        "y = torch.tensor(2.0)\n",
        "\n",
        "x + y, x * y, x / y, x**y"
      ],
      "metadata": {
        "colab": {
          "base_uri": "https://localhost:8080/"
        },
        "id": "j3dYlOCAeGTd",
        "outputId": "0ad0444b-8feb-43b2-ec96-c9b1f3d92153"
      },
      "execution_count": null,
      "outputs": [
        {
          "output_type": "execute_result",
          "data": {
            "text/plain": [
              "(tensor(5.), tensor(6.), tensor(1.5000), tensor(9.))"
            ]
          },
          "metadata": {},
          "execution_count": 31
        }
      ]
    },
    {
      "cell_type": "code",
      "source": [
        "x = torch.arange(4)\n",
        "x"
      ],
      "metadata": {
        "colab": {
          "base_uri": "https://localhost:8080/"
        },
        "id": "y0vCn81TeMbe",
        "outputId": "3423dcaf-5ae0-4730-8189-f641552bc88e"
      },
      "execution_count": null,
      "outputs": [
        {
          "output_type": "execute_result",
          "data": {
            "text/plain": [
              "tensor([0, 1, 2, 3])"
            ]
          },
          "metadata": {},
          "execution_count": 32
        }
      ]
    },
    {
      "cell_type": "code",
      "source": [
        "x[3]"
      ],
      "metadata": {
        "colab": {
          "base_uri": "https://localhost:8080/"
        },
        "id": "XsD5v5LDeTLU",
        "outputId": "d626d8c9-59a0-42f3-d93b-60ab614c3edb"
      },
      "execution_count": null,
      "outputs": [
        {
          "output_type": "execute_result",
          "data": {
            "text/plain": [
              "tensor(3)"
            ]
          },
          "metadata": {},
          "execution_count": 33
        }
      ]
    },
    {
      "cell_type": "code",
      "source": [
        "len(x)"
      ],
      "metadata": {
        "colab": {
          "base_uri": "https://localhost:8080/"
        },
        "id": "iPvkCFgReZQQ",
        "outputId": "c4d3038e-a331-4f9b-c1f8-adb938b22feb"
      },
      "execution_count": null,
      "outputs": [
        {
          "output_type": "execute_result",
          "data": {
            "text/plain": [
              "4"
            ]
          },
          "metadata": {},
          "execution_count": 34
        }
      ]
    },
    {
      "cell_type": "code",
      "source": [
        "x.shape"
      ],
      "metadata": {
        "colab": {
          "base_uri": "https://localhost:8080/"
        },
        "id": "YykG7d7aehkD",
        "outputId": "69981f36-6191-45f0-f715-2570085059d2"
      },
      "execution_count": null,
      "outputs": [
        {
          "output_type": "execute_result",
          "data": {
            "text/plain": [
              "torch.Size([4])"
            ]
          },
          "metadata": {},
          "execution_count": 35
        }
      ]
    },
    {
      "cell_type": "code",
      "source": [
        "A = torch.arange(20).reshape(5, 4)\n",
        "A"
      ],
      "metadata": {
        "colab": {
          "base_uri": "https://localhost:8080/"
        },
        "id": "jy53agQ7ernE",
        "outputId": "6b61f007-dd69-4782-9b0c-87c0b5bdf00d"
      },
      "execution_count": null,
      "outputs": [
        {
          "output_type": "execute_result",
          "data": {
            "text/plain": [
              "tensor([[ 0,  1,  2,  3],\n",
              "        [ 4,  5,  6,  7],\n",
              "        [ 8,  9, 10, 11],\n",
              "        [12, 13, 14, 15],\n",
              "        [16, 17, 18, 19]])"
            ]
          },
          "metadata": {},
          "execution_count": 36
        }
      ]
    },
    {
      "cell_type": "code",
      "source": [
        "A.T"
      ],
      "metadata": {
        "colab": {
          "base_uri": "https://localhost:8080/"
        },
        "id": "frOUS53dexbV",
        "outputId": "2b87ef58-e9ca-4b30-b595-984932e2d59f"
      },
      "execution_count": null,
      "outputs": [
        {
          "output_type": "execute_result",
          "data": {
            "text/plain": [
              "tensor([[ 0,  4,  8, 12, 16],\n",
              "        [ 1,  5,  9, 13, 17],\n",
              "        [ 2,  6, 10, 14, 18],\n",
              "        [ 3,  7, 11, 15, 19]])"
            ]
          },
          "metadata": {},
          "execution_count": 37
        }
      ]
    },
    {
      "cell_type": "code",
      "source": [
        "B = torch.tensor([[1, 2, 3], [2, 0, 4], [3, 4, 5]])\n",
        "B"
      ],
      "metadata": {
        "colab": {
          "base_uri": "https://localhost:8080/"
        },
        "id": "X97MZX83e5IB",
        "outputId": "e009dbc8-6312-48ec-8e51-6774f91c0c18"
      },
      "execution_count": null,
      "outputs": [
        {
          "output_type": "execute_result",
          "data": {
            "text/plain": [
              "tensor([[1, 2, 3],\n",
              "        [2, 0, 4],\n",
              "        [3, 4, 5]])"
            ]
          },
          "metadata": {},
          "execution_count": 38
        }
      ]
    },
    {
      "cell_type": "code",
      "source": [
        "B == B.T"
      ],
      "metadata": {
        "colab": {
          "base_uri": "https://localhost:8080/"
        },
        "id": "WmVlUt-se-sc",
        "outputId": "3d5865b4-3f0b-4e11-f3b0-f82d8cce932d"
      },
      "execution_count": null,
      "outputs": [
        {
          "output_type": "execute_result",
          "data": {
            "text/plain": [
              "tensor([[True, True, True],\n",
              "        [True, True, True],\n",
              "        [True, True, True]])"
            ]
          },
          "metadata": {},
          "execution_count": 39
        }
      ]
    },
    {
      "cell_type": "code",
      "source": [
        "X = torch.arange(24).reshape(2, 3, 4)\n",
        "X"
      ],
      "metadata": {
        "colab": {
          "base_uri": "https://localhost:8080/"
        },
        "id": "Tbq15nqqfF0q",
        "outputId": "2a01e512-e428-443c-ff83-426ee7f8cea8"
      },
      "execution_count": null,
      "outputs": [
        {
          "output_type": "execute_result",
          "data": {
            "text/plain": [
              "tensor([[[ 0,  1,  2,  3],\n",
              "         [ 4,  5,  6,  7],\n",
              "         [ 8,  9, 10, 11]],\n",
              "\n",
              "        [[12, 13, 14, 15],\n",
              "         [16, 17, 18, 19],\n",
              "         [20, 21, 22, 23]]])"
            ]
          },
          "metadata": {},
          "execution_count": 40
        }
      ]
    },
    {
      "cell_type": "code",
      "source": [
        "A = torch.arange(20, dtype=torch.float32).reshape(5, 4)\n",
        "B = A.clone()  # Assign a copy of `A` to `B` by allocating new memory\n",
        "A, A + B"
      ],
      "metadata": {
        "colab": {
          "base_uri": "https://localhost:8080/"
        },
        "id": "MCV8Z7CSfKy2",
        "outputId": "f3794167-f7b7-429c-9260-de0a143fc919"
      },
      "execution_count": null,
      "outputs": [
        {
          "output_type": "execute_result",
          "data": {
            "text/plain": [
              "(tensor([[ 0.,  1.,  2.,  3.],\n",
              "         [ 4.,  5.,  6.,  7.],\n",
              "         [ 8.,  9., 10., 11.],\n",
              "         [12., 13., 14., 15.],\n",
              "         [16., 17., 18., 19.]]), tensor([[ 0.,  2.,  4.,  6.],\n",
              "         [ 8., 10., 12., 14.],\n",
              "         [16., 18., 20., 22.],\n",
              "         [24., 26., 28., 30.],\n",
              "         [32., 34., 36., 38.]]))"
            ]
          },
          "metadata": {},
          "execution_count": 41
        }
      ]
    },
    {
      "cell_type": "code",
      "source": [
        "A * B"
      ],
      "metadata": {
        "colab": {
          "base_uri": "https://localhost:8080/"
        },
        "id": "718T9JUdfQzn",
        "outputId": "cc81e216-8b99-41e3-a80c-a2071e98de00"
      },
      "execution_count": null,
      "outputs": [
        {
          "output_type": "execute_result",
          "data": {
            "text/plain": [
              "tensor([[  0.,   1.,   4.,   9.],\n",
              "        [ 16.,  25.,  36.,  49.],\n",
              "        [ 64.,  81., 100., 121.],\n",
              "        [144., 169., 196., 225.],\n",
              "        [256., 289., 324., 361.]])"
            ]
          },
          "metadata": {},
          "execution_count": 42
        }
      ]
    },
    {
      "cell_type": "code",
      "source": [
        "a = 2\n",
        "X = torch.arange(24).reshape(2, 3, 4)\n",
        "a + X, (a * X).shape"
      ],
      "metadata": {
        "colab": {
          "base_uri": "https://localhost:8080/"
        },
        "id": "wdau3mEGfWnA",
        "outputId": "dc62089b-5e3c-401d-f21f-0ab5d1db9027"
      },
      "execution_count": null,
      "outputs": [
        {
          "output_type": "execute_result",
          "data": {
            "text/plain": [
              "(tensor([[[ 2,  3,  4,  5],\n",
              "          [ 6,  7,  8,  9],\n",
              "          [10, 11, 12, 13]],\n",
              " \n",
              "         [[14, 15, 16, 17],\n",
              "          [18, 19, 20, 21],\n",
              "          [22, 23, 24, 25]]]), torch.Size([2, 3, 4]))"
            ]
          },
          "metadata": {},
          "execution_count": 43
        }
      ]
    },
    {
      "cell_type": "code",
      "source": [
        "x = torch.arange(4, dtype=torch.float32)\n",
        "x, x.sum()"
      ],
      "metadata": {
        "colab": {
          "base_uri": "https://localhost:8080/"
        },
        "id": "FWCERZGgfcpy",
        "outputId": "9e107674-23da-4027-bd18-b5b49613b7c2"
      },
      "execution_count": null,
      "outputs": [
        {
          "output_type": "execute_result",
          "data": {
            "text/plain": [
              "(tensor([0., 1., 2., 3.]), tensor(6.))"
            ]
          },
          "metadata": {},
          "execution_count": 44
        }
      ]
    },
    {
      "cell_type": "code",
      "source": [
        "A.shape, A.sum()"
      ],
      "metadata": {
        "colab": {
          "base_uri": "https://localhost:8080/"
        },
        "id": "_fGzwt4nfiD5",
        "outputId": "2b486b54-5ca4-45d1-b9fe-26b73b7cfa49"
      },
      "execution_count": null,
      "outputs": [
        {
          "output_type": "execute_result",
          "data": {
            "text/plain": [
              "(torch.Size([5, 4]), tensor(190.))"
            ]
          },
          "metadata": {},
          "execution_count": 45
        }
      ]
    },
    {
      "cell_type": "code",
      "source": [
        "A_sum_axis0 = A.sum(axis=0)\n",
        "A_sum_axis0, A_sum_axis0.shape"
      ],
      "metadata": {
        "colab": {
          "base_uri": "https://localhost:8080/"
        },
        "id": "eMh6T2dvfpXP",
        "outputId": "c31b9eff-b12c-4ed3-a522-b496b5f0fc0e"
      },
      "execution_count": null,
      "outputs": [
        {
          "output_type": "execute_result",
          "data": {
            "text/plain": [
              "(tensor([40., 45., 50., 55.]), torch.Size([4]))"
            ]
          },
          "metadata": {},
          "execution_count": 46
        }
      ]
    },
    {
      "cell_type": "code",
      "source": [
        "A_sum_axis1 = A.sum(axis=1)\n",
        "A_sum_axis1, A_sum_axis1.shape"
      ],
      "metadata": {
        "colab": {
          "base_uri": "https://localhost:8080/"
        },
        "id": "3z9b_BeYfzFr",
        "outputId": "b6d0c65c-aec3-4e3f-c164-c956f3e6a5a2"
      },
      "execution_count": null,
      "outputs": [
        {
          "output_type": "execute_result",
          "data": {
            "text/plain": [
              "(tensor([ 6., 22., 38., 54., 70.]), torch.Size([5]))"
            ]
          },
          "metadata": {},
          "execution_count": 47
        }
      ]
    },
    {
      "cell_type": "code",
      "source": [
        "A.sum(axis=[0, 1])  # Same as `A.sum()`"
      ],
      "metadata": {
        "colab": {
          "base_uri": "https://localhost:8080/"
        },
        "id": "scg-cQpWf6Gu",
        "outputId": "a2d49d3a-16f3-483b-beef-c16a4618d7d2"
      },
      "execution_count": null,
      "outputs": [
        {
          "output_type": "execute_result",
          "data": {
            "text/plain": [
              "tensor(190.)"
            ]
          },
          "metadata": {},
          "execution_count": 48
        }
      ]
    },
    {
      "cell_type": "code",
      "source": [
        "A.mean(), A.sum() / A.numel()"
      ],
      "metadata": {
        "colab": {
          "base_uri": "https://localhost:8080/"
        },
        "id": "ef6jZJD0gIAF",
        "outputId": "a23a678b-c3a0-4864-d182-07a0b72ecaed"
      },
      "execution_count": null,
      "outputs": [
        {
          "output_type": "execute_result",
          "data": {
            "text/plain": [
              "(tensor(9.5000), tensor(9.5000))"
            ]
          },
          "metadata": {},
          "execution_count": 49
        }
      ]
    },
    {
      "cell_type": "code",
      "source": [
        "A.mean(axis=0), A.sum(axis=0) / A.shape[0]"
      ],
      "metadata": {
        "colab": {
          "base_uri": "https://localhost:8080/"
        },
        "id": "W27tEu_PgNLZ",
        "outputId": "ae7f9b94-724a-4ac0-ecd4-58e43570f133"
      },
      "execution_count": null,
      "outputs": [
        {
          "output_type": "execute_result",
          "data": {
            "text/plain": [
              "(tensor([ 8.,  9., 10., 11.]), tensor([ 8.,  9., 10., 11.]))"
            ]
          },
          "metadata": {},
          "execution_count": 50
        }
      ]
    },
    {
      "cell_type": "code",
      "source": [
        "sum_A = A.sum(axis=1, keepdims=True)\n",
        "sum_A"
      ],
      "metadata": {
        "colab": {
          "base_uri": "https://localhost:8080/"
        },
        "id": "WSfPmelrgRkN",
        "outputId": "13b9460b-bc11-4aa8-cb66-fef13414a81e"
      },
      "execution_count": null,
      "outputs": [
        {
          "output_type": "execute_result",
          "data": {
            "text/plain": [
              "tensor([[ 6.],\n",
              "        [22.],\n",
              "        [38.],\n",
              "        [54.],\n",
              "        [70.]])"
            ]
          },
          "metadata": {},
          "execution_count": 51
        }
      ]
    },
    {
      "cell_type": "code",
      "source": [
        "A / sum_A"
      ],
      "metadata": {
        "colab": {
          "base_uri": "https://localhost:8080/"
        },
        "id": "zjyqIJV8glEX",
        "outputId": "54d01462-bba4-413b-a443-72787e8e8943"
      },
      "execution_count": null,
      "outputs": [
        {
          "output_type": "execute_result",
          "data": {
            "text/plain": [
              "tensor([[0.0000, 0.1667, 0.3333, 0.5000],\n",
              "        [0.1818, 0.2273, 0.2727, 0.3182],\n",
              "        [0.2105, 0.2368, 0.2632, 0.2895],\n",
              "        [0.2222, 0.2407, 0.2593, 0.2778],\n",
              "        [0.2286, 0.2429, 0.2571, 0.2714]])"
            ]
          },
          "metadata": {},
          "execution_count": 52
        }
      ]
    },
    {
      "cell_type": "code",
      "source": [
        "A.cumsum(axis=0)"
      ],
      "metadata": {
        "colab": {
          "base_uri": "https://localhost:8080/"
        },
        "id": "f_EyFEE7gzbM",
        "outputId": "f3b8a508-0b3d-4eec-95a9-31b5b35663e5"
      },
      "execution_count": null,
      "outputs": [
        {
          "output_type": "execute_result",
          "data": {
            "text/plain": [
              "tensor([[ 0.,  1.,  2.,  3.],\n",
              "        [ 4.,  6.,  8., 10.],\n",
              "        [12., 15., 18., 21.],\n",
              "        [24., 28., 32., 36.],\n",
              "        [40., 45., 50., 55.]])"
            ]
          },
          "metadata": {},
          "execution_count": 53
        }
      ]
    },
    {
      "cell_type": "code",
      "source": [
        "y = torch.ones(4, dtype = torch.float32)\n",
        "x, y, torch.dot(x, y)"
      ],
      "metadata": {
        "colab": {
          "base_uri": "https://localhost:8080/"
        },
        "id": "nCW85n80g-dg",
        "outputId": "eafff6ca-4909-403e-9131-65d55b679c33"
      },
      "execution_count": null,
      "outputs": [
        {
          "output_type": "execute_result",
          "data": {
            "text/plain": [
              "(tensor([0., 1., 2., 3.]), tensor([1., 1., 1., 1.]), tensor(6.))"
            ]
          },
          "metadata": {},
          "execution_count": 54
        }
      ]
    },
    {
      "cell_type": "code",
      "source": [
        "torch.sum(x * y)"
      ],
      "metadata": {
        "colab": {
          "base_uri": "https://localhost:8080/"
        },
        "id": "nr4x8SZfhDc3",
        "outputId": "9fa5593e-dad0-44bc-dd22-0b9b4abfc5e1"
      },
      "execution_count": null,
      "outputs": [
        {
          "output_type": "execute_result",
          "data": {
            "text/plain": [
              "tensor(6.)"
            ]
          },
          "metadata": {},
          "execution_count": 55
        }
      ]
    },
    {
      "cell_type": "code",
      "source": [
        "A.shape, x.shape, torch.mv(A, x)"
      ],
      "metadata": {
        "colab": {
          "base_uri": "https://localhost:8080/"
        },
        "id": "d9AdWQqRhQyN",
        "outputId": "69266c5e-77cf-460b-f2c1-fb3217572e61"
      },
      "execution_count": null,
      "outputs": [
        {
          "output_type": "execute_result",
          "data": {
            "text/plain": [
              "(torch.Size([5, 4]), torch.Size([4]), tensor([ 14.,  38.,  62.,  86., 110.]))"
            ]
          },
          "metadata": {},
          "execution_count": 56
        }
      ]
    },
    {
      "cell_type": "code",
      "source": [
        "B = torch.ones(4, 3)\n",
        "torch.mm(A, B)"
      ],
      "metadata": {
        "colab": {
          "base_uri": "https://localhost:8080/"
        },
        "id": "2p8zIeaThf6Q",
        "outputId": "01e53665-ed9b-4f03-87c0-78647a943395"
      },
      "execution_count": null,
      "outputs": [
        {
          "output_type": "execute_result",
          "data": {
            "text/plain": [
              "tensor([[ 6.,  6.,  6.],\n",
              "        [22., 22., 22.],\n",
              "        [38., 38., 38.],\n",
              "        [54., 54., 54.],\n",
              "        [70., 70., 70.]])"
            ]
          },
          "metadata": {},
          "execution_count": 57
        }
      ]
    },
    {
      "cell_type": "code",
      "source": [
        "u = torch.tensor([3.0, -4.0])\n",
        "torch.norm(u)"
      ],
      "metadata": {
        "colab": {
          "base_uri": "https://localhost:8080/"
        },
        "id": "-YBx36jWhjid",
        "outputId": "680b6b37-051f-43f0-c065-b5bc794315de"
      },
      "execution_count": null,
      "outputs": [
        {
          "output_type": "execute_result",
          "data": {
            "text/plain": [
              "tensor(5.)"
            ]
          },
          "metadata": {},
          "execution_count": 58
        }
      ]
    },
    {
      "cell_type": "code",
      "source": [
        "torch.abs(u).sum()"
      ],
      "metadata": {
        "colab": {
          "base_uri": "https://localhost:8080/"
        },
        "id": "A5AOnF5bhu3T",
        "outputId": "3b60b22f-fc8b-490f-8254-f81087b9f54d"
      },
      "execution_count": null,
      "outputs": [
        {
          "output_type": "execute_result",
          "data": {
            "text/plain": [
              "tensor(7.)"
            ]
          },
          "metadata": {},
          "execution_count": 59
        }
      ]
    },
    {
      "cell_type": "code",
      "source": [
        "torch.norm(torch.ones((4, 9)))"
      ],
      "metadata": {
        "colab": {
          "base_uri": "https://localhost:8080/"
        },
        "id": "_u-D5hoMh0I9",
        "outputId": "76ef7789-5e80-459e-dbc6-50f039a27dda"
      },
      "execution_count": null,
      "outputs": [
        {
          "output_type": "execute_result",
          "data": {
            "text/plain": [
              "tensor(6.)"
            ]
          },
          "metadata": {},
          "execution_count": 60
        }
      ]
    },
    {
      "cell_type": "code",
      "source": [
        "!pip install d2l"
      ],
      "metadata": {
        "colab": {
          "base_uri": "https://localhost:8080/",
          "height": 1000
        },
        "id": "8oLbmNwLGy7P",
        "outputId": "51d63ea1-6ce8-4108-bc76-3a1513dd5320"
      },
      "execution_count": null,
      "outputs": [
        {
          "output_type": "stream",
          "name": "stdout",
          "text": [
            "Collecting d2l\n",
            "  Downloading d2l-0.17.3-py3-none-any.whl (82 kB)\n",
            "\u001b[K     |████████████████████████████████| 82 kB 612 kB/s \n",
            "\u001b[?25hCollecting matplotlib==3.3.3\n",
            "  Downloading matplotlib-3.3.3-cp37-cp37m-manylinux1_x86_64.whl (11.6 MB)\n",
            "\u001b[K     |████████████████████████████████| 11.6 MB 16.6 MB/s \n",
            "\u001b[?25hCollecting requests==2.25.1\n",
            "  Downloading requests-2.25.1-py2.py3-none-any.whl (61 kB)\n",
            "\u001b[K     |████████████████████████████████| 61 kB 9.0 MB/s \n",
            "\u001b[?25hRequirement already satisfied: jupyter==1.0.0 in /usr/local/lib/python3.7/dist-packages (from d2l) (1.0.0)\n",
            "Collecting numpy==1.18.5\n",
            "  Downloading numpy-1.18.5-cp37-cp37m-manylinux1_x86_64.whl (20.1 MB)\n",
            "\u001b[K     |████████████████████████████████| 20.1 MB 9.4 MB/s \n",
            "\u001b[?25hCollecting pandas==1.2.2\n",
            "  Downloading pandas-1.2.2-cp37-cp37m-manylinux1_x86_64.whl (9.9 MB)\n",
            "\u001b[K     |████████████████████████████████| 9.9 MB 18.4 MB/s \n",
            "\u001b[?25hRequirement already satisfied: ipywidgets in /usr/local/lib/python3.7/dist-packages (from jupyter==1.0.0->d2l) (7.6.5)\n",
            "Requirement already satisfied: qtconsole in /usr/local/lib/python3.7/dist-packages (from jupyter==1.0.0->d2l) (5.2.2)\n",
            "Requirement already satisfied: notebook in /usr/local/lib/python3.7/dist-packages (from jupyter==1.0.0->d2l) (5.3.1)\n",
            "Requirement already satisfied: ipykernel in /usr/local/lib/python3.7/dist-packages (from jupyter==1.0.0->d2l) (4.10.1)\n",
            "Requirement already satisfied: nbconvert in /usr/local/lib/python3.7/dist-packages (from jupyter==1.0.0->d2l) (5.6.1)\n",
            "Requirement already satisfied: jupyter-console in /usr/local/lib/python3.7/dist-packages (from jupyter==1.0.0->d2l) (5.2.0)\n",
            "Requirement already satisfied: pillow>=6.2.0 in /usr/local/lib/python3.7/dist-packages (from matplotlib==3.3.3->d2l) (7.1.2)\n",
            "Requirement already satisfied: kiwisolver>=1.0.1 in /usr/local/lib/python3.7/dist-packages (from matplotlib==3.3.3->d2l) (1.3.2)\n",
            "Requirement already satisfied: pyparsing!=2.0.4,!=2.1.2,!=2.1.6,>=2.0.3 in /usr/local/lib/python3.7/dist-packages (from matplotlib==3.3.3->d2l) (3.0.7)\n",
            "Requirement already satisfied: cycler>=0.10 in /usr/local/lib/python3.7/dist-packages (from matplotlib==3.3.3->d2l) (0.11.0)\n",
            "Requirement already satisfied: python-dateutil>=2.1 in /usr/local/lib/python3.7/dist-packages (from matplotlib==3.3.3->d2l) (2.8.2)\n",
            "Requirement already satisfied: pytz>=2017.3 in /usr/local/lib/python3.7/dist-packages (from pandas==1.2.2->d2l) (2018.9)\n",
            "Requirement already satisfied: certifi>=2017.4.17 in /usr/local/lib/python3.7/dist-packages (from requests==2.25.1->d2l) (2021.10.8)\n",
            "Requirement already satisfied: chardet<5,>=3.0.2 in /usr/local/lib/python3.7/dist-packages (from requests==2.25.1->d2l) (3.0.4)\n",
            "Requirement already satisfied: urllib3<1.27,>=1.21.1 in /usr/local/lib/python3.7/dist-packages (from requests==2.25.1->d2l) (1.24.3)\n",
            "Requirement already satisfied: idna<3,>=2.5 in /usr/local/lib/python3.7/dist-packages (from requests==2.25.1->d2l) (2.10)\n",
            "Requirement already satisfied: six>=1.5 in /usr/local/lib/python3.7/dist-packages (from python-dateutil>=2.1->matplotlib==3.3.3->d2l) (1.15.0)\n",
            "Requirement already satisfied: jupyter-client in /usr/local/lib/python3.7/dist-packages (from ipykernel->jupyter==1.0.0->d2l) (5.3.5)\n",
            "Requirement already satisfied: ipython>=4.0.0 in /usr/local/lib/python3.7/dist-packages (from ipykernel->jupyter==1.0.0->d2l) (5.5.0)\n",
            "Requirement already satisfied: tornado>=4.0 in /usr/local/lib/python3.7/dist-packages (from ipykernel->jupyter==1.0.0->d2l) (5.1.1)\n",
            "Requirement already satisfied: traitlets>=4.1.0 in /usr/local/lib/python3.7/dist-packages (from ipykernel->jupyter==1.0.0->d2l) (5.1.1)\n",
            "Requirement already satisfied: pygments in /usr/local/lib/python3.7/dist-packages (from ipython>=4.0.0->ipykernel->jupyter==1.0.0->d2l) (2.6.1)\n",
            "Requirement already satisfied: simplegeneric>0.8 in /usr/local/lib/python3.7/dist-packages (from ipython>=4.0.0->ipykernel->jupyter==1.0.0->d2l) (0.8.1)\n",
            "Requirement already satisfied: setuptools>=18.5 in /usr/local/lib/python3.7/dist-packages (from ipython>=4.0.0->ipykernel->jupyter==1.0.0->d2l) (57.4.0)\n",
            "Requirement already satisfied: prompt-toolkit<2.0.0,>=1.0.4 in /usr/local/lib/python3.7/dist-packages (from ipython>=4.0.0->ipykernel->jupyter==1.0.0->d2l) (1.0.18)\n",
            "Requirement already satisfied: pexpect in /usr/local/lib/python3.7/dist-packages (from ipython>=4.0.0->ipykernel->jupyter==1.0.0->d2l) (4.8.0)\n",
            "Requirement already satisfied: decorator in /usr/local/lib/python3.7/dist-packages (from ipython>=4.0.0->ipykernel->jupyter==1.0.0->d2l) (4.4.2)\n",
            "Requirement already satisfied: pickleshare in /usr/local/lib/python3.7/dist-packages (from ipython>=4.0.0->ipykernel->jupyter==1.0.0->d2l) (0.7.5)\n",
            "Requirement already satisfied: wcwidth in /usr/local/lib/python3.7/dist-packages (from prompt-toolkit<2.0.0,>=1.0.4->ipython>=4.0.0->ipykernel->jupyter==1.0.0->d2l) (0.2.5)\n",
            "Requirement already satisfied: widgetsnbextension~=3.5.0 in /usr/local/lib/python3.7/dist-packages (from ipywidgets->jupyter==1.0.0->d2l) (3.5.2)\n",
            "Requirement already satisfied: jupyterlab-widgets>=1.0.0 in /usr/local/lib/python3.7/dist-packages (from ipywidgets->jupyter==1.0.0->d2l) (1.0.2)\n",
            "Requirement already satisfied: nbformat>=4.2.0 in /usr/local/lib/python3.7/dist-packages (from ipywidgets->jupyter==1.0.0->d2l) (5.1.3)\n",
            "Requirement already satisfied: ipython-genutils~=0.2.0 in /usr/local/lib/python3.7/dist-packages (from ipywidgets->jupyter==1.0.0->d2l) (0.2.0)\n",
            "Requirement already satisfied: jupyter-core in /usr/local/lib/python3.7/dist-packages (from nbformat>=4.2.0->ipywidgets->jupyter==1.0.0->d2l) (4.9.2)\n",
            "Requirement already satisfied: jsonschema!=2.5.0,>=2.4 in /usr/local/lib/python3.7/dist-packages (from nbformat>=4.2.0->ipywidgets->jupyter==1.0.0->d2l) (4.3.3)\n",
            "Requirement already satisfied: attrs>=17.4.0 in /usr/local/lib/python3.7/dist-packages (from jsonschema!=2.5.0,>=2.4->nbformat>=4.2.0->ipywidgets->jupyter==1.0.0->d2l) (21.4.0)\n",
            "Requirement already satisfied: importlib-metadata in /usr/local/lib/python3.7/dist-packages (from jsonschema!=2.5.0,>=2.4->nbformat>=4.2.0->ipywidgets->jupyter==1.0.0->d2l) (4.11.1)\n",
            "Requirement already satisfied: pyrsistent!=0.17.0,!=0.17.1,!=0.17.2,>=0.14.0 in /usr/local/lib/python3.7/dist-packages (from jsonschema!=2.5.0,>=2.4->nbformat>=4.2.0->ipywidgets->jupyter==1.0.0->d2l) (0.18.1)\n",
            "Requirement already satisfied: typing-extensions in /usr/local/lib/python3.7/dist-packages (from jsonschema!=2.5.0,>=2.4->nbformat>=4.2.0->ipywidgets->jupyter==1.0.0->d2l) (3.10.0.2)\n",
            "Requirement already satisfied: importlib-resources>=1.4.0 in /usr/local/lib/python3.7/dist-packages (from jsonschema!=2.5.0,>=2.4->nbformat>=4.2.0->ipywidgets->jupyter==1.0.0->d2l) (5.4.0)\n",
            "Requirement already satisfied: zipp>=3.1.0 in /usr/local/lib/python3.7/dist-packages (from importlib-resources>=1.4.0->jsonschema!=2.5.0,>=2.4->nbformat>=4.2.0->ipywidgets->jupyter==1.0.0->d2l) (3.7.0)\n",
            "Requirement already satisfied: Send2Trash in /usr/local/lib/python3.7/dist-packages (from notebook->jupyter==1.0.0->d2l) (1.8.0)\n",
            "Requirement already satisfied: jinja2 in /usr/local/lib/python3.7/dist-packages (from notebook->jupyter==1.0.0->d2l) (2.11.3)\n",
            "Requirement already satisfied: terminado>=0.8.1 in /usr/local/lib/python3.7/dist-packages (from notebook->jupyter==1.0.0->d2l) (0.13.1)\n",
            "Requirement already satisfied: pyzmq>=13 in /usr/local/lib/python3.7/dist-packages (from jupyter-client->ipykernel->jupyter==1.0.0->d2l) (22.3.0)\n",
            "Requirement already satisfied: ptyprocess in /usr/local/lib/python3.7/dist-packages (from terminado>=0.8.1->notebook->jupyter==1.0.0->d2l) (0.7.0)\n",
            "Requirement already satisfied: MarkupSafe>=0.23 in /usr/local/lib/python3.7/dist-packages (from jinja2->notebook->jupyter==1.0.0->d2l) (2.0.1)\n",
            "Requirement already satisfied: bleach in /usr/local/lib/python3.7/dist-packages (from nbconvert->jupyter==1.0.0->d2l) (4.1.0)\n",
            "Requirement already satisfied: testpath in /usr/local/lib/python3.7/dist-packages (from nbconvert->jupyter==1.0.0->d2l) (0.5.0)\n",
            "Requirement already satisfied: mistune<2,>=0.8.1 in /usr/local/lib/python3.7/dist-packages (from nbconvert->jupyter==1.0.0->d2l) (0.8.4)\n",
            "Requirement already satisfied: pandocfilters>=1.4.1 in /usr/local/lib/python3.7/dist-packages (from nbconvert->jupyter==1.0.0->d2l) (1.5.0)\n",
            "Requirement already satisfied: defusedxml in /usr/local/lib/python3.7/dist-packages (from nbconvert->jupyter==1.0.0->d2l) (0.7.1)\n",
            "Requirement already satisfied: entrypoints>=0.2.2 in /usr/local/lib/python3.7/dist-packages (from nbconvert->jupyter==1.0.0->d2l) (0.4)\n",
            "Requirement already satisfied: packaging in /usr/local/lib/python3.7/dist-packages (from bleach->nbconvert->jupyter==1.0.0->d2l) (21.3)\n",
            "Requirement already satisfied: webencodings in /usr/local/lib/python3.7/dist-packages (from bleach->nbconvert->jupyter==1.0.0->d2l) (0.5.1)\n",
            "Requirement already satisfied: qtpy in /usr/local/lib/python3.7/dist-packages (from qtconsole->jupyter==1.0.0->d2l) (2.0.1)\n",
            "Installing collected packages: numpy, requests, pandas, matplotlib, d2l\n",
            "  Attempting uninstall: numpy\n",
            "    Found existing installation: numpy 1.21.5\n",
            "    Uninstalling numpy-1.21.5:\n",
            "      Successfully uninstalled numpy-1.21.5\n",
            "  Attempting uninstall: requests\n",
            "    Found existing installation: requests 2.23.0\n",
            "    Uninstalling requests-2.23.0:\n",
            "      Successfully uninstalled requests-2.23.0\n",
            "  Attempting uninstall: pandas\n",
            "    Found existing installation: pandas 1.3.5\n",
            "    Uninstalling pandas-1.3.5:\n",
            "      Successfully uninstalled pandas-1.3.5\n",
            "  Attempting uninstall: matplotlib\n",
            "    Found existing installation: matplotlib 3.2.2\n",
            "    Uninstalling matplotlib-3.2.2:\n",
            "      Successfully uninstalled matplotlib-3.2.2\n",
            "\u001b[31mERROR: pip's dependency resolver does not currently take into account all the packages that are installed. This behaviour is the source of the following dependency conflicts.\n",
            "tensorflow 2.8.0 requires tf-estimator-nightly==2.8.0.dev2021122109, which is not installed.\n",
            "tensorflow 2.8.0 requires numpy>=1.20, but you have numpy 1.18.5 which is incompatible.\n",
            "tables 3.7.0 requires numpy>=1.19.0, but you have numpy 1.18.5 which is incompatible.\n",
            "google-colab 1.0.0 requires requests~=2.23.0, but you have requests 2.25.1 which is incompatible.\n",
            "datascience 0.10.6 requires folium==0.2.1, but you have folium 0.8.3 which is incompatible.\n",
            "albumentations 0.1.12 requires imgaug<0.2.7,>=0.2.5, but you have imgaug 0.2.9 which is incompatible.\u001b[0m\n",
            "Successfully installed d2l-0.17.3 matplotlib-3.3.3 numpy-1.18.5 pandas-1.2.2 requests-2.25.1\n"
          ]
        },
        {
          "output_type": "display_data",
          "data": {
            "application/vnd.colab-display-data+json": {
              "pip_warning": {
                "packages": [
                  "matplotlib",
                  "mpl_toolkits",
                  "numpy",
                  "pandas"
                ]
              }
            }
          },
          "metadata": {}
        }
      ]
    },
    {
      "cell_type": "code",
      "source": [
        "!pip install matplotlib==3.0.2"
      ],
      "metadata": {
        "colab": {
          "base_uri": "https://localhost:8080/",
          "height": 470
        },
        "id": "bxIPCkizKZBD",
        "outputId": "133e37a7-3329-432f-9670-ffe434e30b25"
      },
      "execution_count": null,
      "outputs": [
        {
          "output_type": "stream",
          "name": "stdout",
          "text": [
            "Collecting matplotlib==3.0.2\n",
            "  Downloading matplotlib-3.0.2-cp37-cp37m-manylinux1_x86_64.whl (12.9 MB)\n",
            "\u001b[K     |████████████████████████████████| 12.9 MB 7.8 MB/s \n",
            "\u001b[?25hRequirement already satisfied: cycler>=0.10 in /usr/local/lib/python3.7/dist-packages (from matplotlib==3.0.2) (0.11.0)\n",
            "Requirement already satisfied: kiwisolver>=1.0.1 in /usr/local/lib/python3.7/dist-packages (from matplotlib==3.0.2) (1.3.2)\n",
            "Requirement already satisfied: pyparsing!=2.0.4,!=2.1.2,!=2.1.6,>=2.0.1 in /usr/local/lib/python3.7/dist-packages (from matplotlib==3.0.2) (3.0.7)\n",
            "Requirement already satisfied: numpy>=1.10.0 in /usr/local/lib/python3.7/dist-packages (from matplotlib==3.0.2) (1.18.5)\n",
            "Requirement already satisfied: python-dateutil>=2.1 in /usr/local/lib/python3.7/dist-packages (from matplotlib==3.0.2) (2.8.2)\n",
            "Requirement already satisfied: six>=1.5 in /usr/local/lib/python3.7/dist-packages (from python-dateutil>=2.1->matplotlib==3.0.2) (1.15.0)\n",
            "Installing collected packages: matplotlib\n",
            "  Attempting uninstall: matplotlib\n",
            "    Found existing installation: matplotlib 3.3.3\n",
            "    Uninstalling matplotlib-3.3.3:\n",
            "      Successfully uninstalled matplotlib-3.3.3\n",
            "\u001b[31mERROR: pip's dependency resolver does not currently take into account all the packages that are installed. This behaviour is the source of the following dependency conflicts.\n",
            "plotnine 0.6.0 requires matplotlib>=3.1.1, but you have matplotlib 3.0.2 which is incompatible.\n",
            "mizani 0.6.0 requires matplotlib>=3.1.1, but you have matplotlib 3.0.2 which is incompatible.\n",
            "d2l 0.17.3 requires matplotlib==3.3.3, but you have matplotlib 3.0.2 which is incompatible.\n",
            "albumentations 0.1.12 requires imgaug<0.2.7,>=0.2.5, but you have imgaug 0.2.9 which is incompatible.\u001b[0m\n",
            "Successfully installed matplotlib-3.0.2\n"
          ]
        },
        {
          "output_type": "display_data",
          "data": {
            "application/vnd.colab-display-data+json": {
              "pip_warning": {
                "packages": [
                  "matplotlib",
                  "mpl_toolkits"
                ]
              }
            }
          },
          "metadata": {}
        }
      ]
    },
    {
      "cell_type": "code",
      "source": [
        "%matplotlib inline\n",
        "import numpy as np\n",
        "from IPython import display\n",
        "from d2l import torch as d2l\n",
        "\n",
        "\n",
        "def f(x):\n",
        "    return 3 * x ** 2 - 4 * x"
      ],
      "metadata": {
        "id": "iR7XhDK_iPNG"
      },
      "execution_count": null,
      "outputs": []
    },
    {
      "cell_type": "code",
      "source": [
        "def numerical_lim(f, x, h):\n",
        "    return (f(x + h) - f(x)) / h\n",
        "\n",
        "h = 0.1\n",
        "for i in range(5):\n",
        "    print(f'h={h:.5f}, numerical limit={numerical_lim(f, 1, h):.5f}')\n",
        "    h *= 0.1"
      ],
      "metadata": {
        "colab": {
          "base_uri": "https://localhost:8080/"
        },
        "id": "y_-nU1_hi349",
        "outputId": "5d1d7061-e267-49e3-fd1c-8a71eafccc07"
      },
      "execution_count": null,
      "outputs": [
        {
          "output_type": "stream",
          "name": "stdout",
          "text": [
            "h=0.10000, numerical limit=2.30000\n",
            "h=0.01000, numerical limit=2.03000\n",
            "h=0.00100, numerical limit=2.00300\n",
            "h=0.00010, numerical limit=2.00030\n",
            "h=0.00001, numerical limit=2.00003\n"
          ]
        }
      ]
    },
    {
      "cell_type": "code",
      "source": [
        "def use_svg_display():  \n",
        "    \"\"\"Use the svg format to display a plot in Jupyter.\"\"\"\n",
        "    display.set_matplotlib_formats('svg')"
      ],
      "metadata": {
        "id": "ucL1kiiMH63-"
      },
      "execution_count": null,
      "outputs": []
    },
    {
      "cell_type": "code",
      "source": [
        "def set_figsize(figsize=(3.5, 2.5)):  \n",
        "    \"\"\"Set the figure size for matplotlib.\"\"\"\n",
        "    use_svg_display()\n",
        "    d2l.plt.rcParams['figure.figsize'] = figsize"
      ],
      "metadata": {
        "id": "bIp0Zm6UISso"
      },
      "execution_count": null,
      "outputs": []
    },
    {
      "cell_type": "code",
      "source": [
        "def set_axes(axes, xlabel, ylabel, xlim, ylim, xscale, yscale, legend):\n",
        "    \"\"\"Set the axes for matplotlib.\"\"\"\n",
        "    axes.set_xlabel(xlabel)\n",
        "    axes.set_ylabel(ylabel)\n",
        "    axes.set_xscale(xscale)\n",
        "    axes.set_yscale(yscale)\n",
        "    axes.set_xlim(xlim)\n",
        "    axes.set_ylim(ylim)\n",
        "    if legend:\n",
        "        axes.legend(legend)\n",
        "    axes.grid()"
      ],
      "metadata": {
        "id": "du-Urk6fIeyA"
      },
      "execution_count": null,
      "outputs": []
    },
    {
      "cell_type": "code",
      "source": [
        "def plot(X, Y=None, xlabel=None, ylabel=None, legend=None, xlim=None,\n",
        "         ylim=None, xscale='linear', yscale='linear',\n",
        "         fmts=('-', 'm--', 'g-.', 'r:'), figsize=(3.5, 2.5), axes=None):\n",
        "    \"\"\"Plot data points.\"\"\"\n",
        "    if legend is None:\n",
        "        legend = []\n",
        "\n",
        "    set_figsize(figsize)\n",
        "    axes = axes if axes else d2l.plt.gca()\n",
        "\n",
        "    # Return True if `X` (tensor or list) has 1 axis\n",
        "    def has_one_axis(X):\n",
        "        return (hasattr(X, \"ndim\") and X.ndim == 1 or isinstance(X, list)\n",
        "                and not hasattr(X[0], \"__len__\"))\n",
        "\n",
        "    if has_one_axis(X):\n",
        "        X = [X]\n",
        "    if Y is None:\n",
        "        X, Y = [[]] * len(X), X\n",
        "    elif has_one_axis(Y):\n",
        "        Y = [Y]\n",
        "    if len(X) != len(Y):\n",
        "        X = X * len(Y)\n",
        "    axes.cla()\n",
        "    for x, y, fmt in zip(X, Y, fmts):\n",
        "        if len(x):\n",
        "            axes.plot(x, y, fmt)\n",
        "        else:\n",
        "            axes.plot(y, fmt)\n",
        "    set_axes(axes, xlabel, ylabel, xlim, ylim, xscale, yscale, legend)"
      ],
      "metadata": {
        "id": "eagq2zGjIorM"
      },
      "execution_count": null,
      "outputs": []
    },
    {
      "cell_type": "code",
      "source": [
        "x = np.arange(0, 3, 0.1)\n",
        "plot(x, [f(x), 2 * x - 3], 'x', 'f(x)', legend=['f(x)', 'Tangent line (x=1)'])"
      ],
      "metadata": {
        "colab": {
          "base_uri": "https://localhost:8080/",
          "height": 262
        },
        "id": "2JHiXQ_pJD4N",
        "outputId": "bfade6a6-ccf7-4b03-d0ce-11dd2fae73f5"
      },
      "execution_count": null,
      "outputs": [
        {
          "output_type": "display_data",
          "data": {
            "text/plain": [
              "<Figure size 252x180 with 1 Axes>"
            ],
            "image/svg+xml": "<?xml version=\"1.0\" encoding=\"utf-8\" standalone=\"no\"?>\n<!DOCTYPE svg PUBLIC \"-//W3C//DTD SVG 1.1//EN\"\n  \"http://www.w3.org/Graphics/SVG/1.1/DTD/svg11.dtd\">\n<!-- Created with matplotlib (https://matplotlib.org/) -->\n<svg height=\"180.65625pt\" version=\"1.1\" viewBox=\"0 0 243.529359 180.65625\" width=\"243.529359pt\" xmlns=\"http://www.w3.org/2000/svg\" xmlns:xlink=\"http://www.w3.org/1999/xlink\">\n <defs>\n  <style type=\"text/css\">\n*{stroke-linecap:butt;stroke-linejoin:round;}\n  </style>\n </defs>\n <g id=\"figure_1\">\n  <g id=\"patch_1\">\n   <path d=\"M 0 180.65625 \nL 243.529359 180.65625 \nL 243.529359 0 \nL 0 0 \nz\n\" style=\"fill:none;\"/>\n  </g>\n  <g id=\"axes_1\">\n   <g id=\"patch_2\">\n    <path d=\"M 40.603125 143.1 \nL 235.903125 143.1 \nL 235.903125 7.2 \nL 40.603125 7.2 \nz\n\" style=\"fill:#ffffff;\"/>\n   </g>\n   <g id=\"matplotlib.axis_1\">\n    <g id=\"xtick_1\">\n     <g id=\"line2d_1\">\n      <path clip-path=\"url(#p568bd1f090)\" d=\"M 49.480398 143.1 \nL 49.480398 7.2 \n\" style=\"fill:none;stroke:#b0b0b0;stroke-linecap:square;stroke-width:0.8;\"/>\n     </g>\n     <g id=\"line2d_2\">\n      <defs>\n       <path d=\"M 0 0 \nL 0 3.5 \n\" id=\"mf3da96e62e\" style=\"stroke:#000000;stroke-width:0.8;\"/>\n      </defs>\n      <g>\n       <use style=\"stroke:#000000;stroke-width:0.8;\" x=\"49.480398\" xlink:href=\"#mf3da96e62e\" y=\"143.1\"/>\n      </g>\n     </g>\n     <g id=\"text_1\">\n      <!-- 0 -->\n      <defs>\n       <path d=\"M 31.78125 66.40625 \nQ 24.171875 66.40625 20.328125 58.90625 \nQ 16.5 51.421875 16.5 36.375 \nQ 16.5 21.390625 20.328125 13.890625 \nQ 24.171875 6.390625 31.78125 6.390625 \nQ 39.453125 6.390625 43.28125 13.890625 \nQ 47.125 21.390625 47.125 36.375 \nQ 47.125 51.421875 43.28125 58.90625 \nQ 39.453125 66.40625 31.78125 66.40625 \nz\nM 31.78125 74.21875 \nQ 44.046875 74.21875 50.515625 64.515625 \nQ 56.984375 54.828125 56.984375 36.375 \nQ 56.984375 17.96875 50.515625 8.265625 \nQ 44.046875 -1.421875 31.78125 -1.421875 \nQ 19.53125 -1.421875 13.0625 8.265625 \nQ 6.59375 17.96875 6.59375 36.375 \nQ 6.59375 54.828125 13.0625 64.515625 \nQ 19.53125 74.21875 31.78125 74.21875 \nz\n\" id=\"DejaVuSans-48\"/>\n      </defs>\n      <g transform=\"translate(46.299148 157.698438)scale(0.1 -0.1)\">\n       <use xlink:href=\"#DejaVuSans-48\"/>\n      </g>\n     </g>\n    </g>\n    <g id=\"xtick_2\">\n     <g id=\"line2d_3\">\n      <path clip-path=\"url(#p568bd1f090)\" d=\"M 110.702968 143.1 \nL 110.702968 7.2 \n\" style=\"fill:none;stroke:#b0b0b0;stroke-linecap:square;stroke-width:0.8;\"/>\n     </g>\n     <g id=\"line2d_4\">\n      <g>\n       <use style=\"stroke:#000000;stroke-width:0.8;\" x=\"110.702968\" xlink:href=\"#mf3da96e62e\" y=\"143.1\"/>\n      </g>\n     </g>\n     <g id=\"text_2\">\n      <!-- 1 -->\n      <defs>\n       <path d=\"M 12.40625 8.296875 \nL 28.515625 8.296875 \nL 28.515625 63.921875 \nL 10.984375 60.40625 \nL 10.984375 69.390625 \nL 28.421875 72.90625 \nL 38.28125 72.90625 \nL 38.28125 8.296875 \nL 54.390625 8.296875 \nL 54.390625 0 \nL 12.40625 0 \nz\n\" id=\"DejaVuSans-49\"/>\n      </defs>\n      <g transform=\"translate(107.521718 157.698438)scale(0.1 -0.1)\">\n       <use xlink:href=\"#DejaVuSans-49\"/>\n      </g>\n     </g>\n    </g>\n    <g id=\"xtick_3\">\n     <g id=\"line2d_5\">\n      <path clip-path=\"url(#p568bd1f090)\" d=\"M 171.925539 143.1 \nL 171.925539 7.2 \n\" style=\"fill:none;stroke:#b0b0b0;stroke-linecap:square;stroke-width:0.8;\"/>\n     </g>\n     <g id=\"line2d_6\">\n      <g>\n       <use style=\"stroke:#000000;stroke-width:0.8;\" x=\"171.925539\" xlink:href=\"#mf3da96e62e\" y=\"143.1\"/>\n      </g>\n     </g>\n     <g id=\"text_3\">\n      <!-- 2 -->\n      <defs>\n       <path d=\"M 19.1875 8.296875 \nL 53.609375 8.296875 \nL 53.609375 0 \nL 7.328125 0 \nL 7.328125 8.296875 \nQ 12.9375 14.109375 22.625 23.890625 \nQ 32.328125 33.6875 34.8125 36.53125 \nQ 39.546875 41.84375 41.421875 45.53125 \nQ 43.3125 49.21875 43.3125 52.78125 \nQ 43.3125 58.59375 39.234375 62.25 \nQ 35.15625 65.921875 28.609375 65.921875 \nQ 23.96875 65.921875 18.8125 64.3125 \nQ 13.671875 62.703125 7.8125 59.421875 \nL 7.8125 69.390625 \nQ 13.765625 71.78125 18.9375 73 \nQ 24.125 74.21875 28.421875 74.21875 \nQ 39.75 74.21875 46.484375 68.546875 \nQ 53.21875 62.890625 53.21875 53.421875 \nQ 53.21875 48.921875 51.53125 44.890625 \nQ 49.859375 40.875 45.40625 35.40625 \nQ 44.1875 33.984375 37.640625 27.21875 \nQ 31.109375 20.453125 19.1875 8.296875 \nz\n\" id=\"DejaVuSans-50\"/>\n      </defs>\n      <g transform=\"translate(168.744289 157.698438)scale(0.1 -0.1)\">\n       <use xlink:href=\"#DejaVuSans-50\"/>\n      </g>\n     </g>\n    </g>\n    <g id=\"xtick_4\">\n     <g id=\"line2d_7\">\n      <path clip-path=\"url(#p568bd1f090)\" d=\"M 233.148109 143.1 \nL 233.148109 7.2 \n\" style=\"fill:none;stroke:#b0b0b0;stroke-linecap:square;stroke-width:0.8;\"/>\n     </g>\n     <g id=\"line2d_8\">\n      <g>\n       <use style=\"stroke:#000000;stroke-width:0.8;\" x=\"233.148109\" xlink:href=\"#mf3da96e62e\" y=\"143.1\"/>\n      </g>\n     </g>\n     <g id=\"text_4\">\n      <!-- 3 -->\n      <defs>\n       <path d=\"M 40.578125 39.3125 \nQ 47.65625 37.796875 51.625 33 \nQ 55.609375 28.21875 55.609375 21.1875 \nQ 55.609375 10.40625 48.1875 4.484375 \nQ 40.765625 -1.421875 27.09375 -1.421875 \nQ 22.515625 -1.421875 17.65625 -0.515625 \nQ 12.796875 0.390625 7.625 2.203125 \nL 7.625 11.71875 \nQ 11.71875 9.328125 16.59375 8.109375 \nQ 21.484375 6.890625 26.8125 6.890625 \nQ 36.078125 6.890625 40.9375 10.546875 \nQ 45.796875 14.203125 45.796875 21.1875 \nQ 45.796875 27.640625 41.28125 31.265625 \nQ 36.765625 34.90625 28.71875 34.90625 \nL 20.21875 34.90625 \nL 20.21875 43.015625 \nL 29.109375 43.015625 \nQ 36.375 43.015625 40.234375 45.921875 \nQ 44.09375 48.828125 44.09375 54.296875 \nQ 44.09375 59.90625 40.109375 62.90625 \nQ 36.140625 65.921875 28.71875 65.921875 \nQ 24.65625 65.921875 20.015625 65.03125 \nQ 15.375 64.15625 9.8125 62.3125 \nL 9.8125 71.09375 \nQ 15.4375 72.65625 20.34375 73.4375 \nQ 25.25 74.21875 29.59375 74.21875 \nQ 40.828125 74.21875 47.359375 69.109375 \nQ 53.90625 64.015625 53.90625 55.328125 \nQ 53.90625 49.265625 50.4375 45.09375 \nQ 46.96875 40.921875 40.578125 39.3125 \nz\n\" id=\"DejaVuSans-51\"/>\n      </defs>\n      <g transform=\"translate(229.966859 157.698438)scale(0.1 -0.1)\">\n       <use xlink:href=\"#DejaVuSans-51\"/>\n      </g>\n     </g>\n    </g>\n    <g id=\"text_5\">\n     <!-- x -->\n     <defs>\n      <path d=\"M 54.890625 54.6875 \nL 35.109375 28.078125 \nL 55.90625 0 \nL 45.3125 0 \nL 29.390625 21.484375 \nL 13.484375 0 \nL 2.875 0 \nL 24.125 28.609375 \nL 4.6875 54.6875 \nL 15.28125 54.6875 \nL 29.78125 35.203125 \nL 44.28125 54.6875 \nz\n\" id=\"DejaVuSans-120\"/>\n     </defs>\n     <g transform=\"translate(135.29375 171.376563)scale(0.1 -0.1)\">\n      <use xlink:href=\"#DejaVuSans-120\"/>\n     </g>\n    </g>\n   </g>\n   <g id=\"matplotlib.axis_2\">\n    <g id=\"ytick_1\">\n     <g id=\"line2d_9\">\n      <path clip-path=\"url(#p568bd1f090)\" d=\"M 40.603125 114.635514 \nL 235.903125 114.635514 \n\" style=\"fill:none;stroke:#b0b0b0;stroke-linecap:square;stroke-width:0.8;\"/>\n     </g>\n     <g id=\"line2d_10\">\n      <defs>\n       <path d=\"M 0 0 \nL -3.5 0 \n\" id=\"mfe3a8bc489\" style=\"stroke:#000000;stroke-width:0.8;\"/>\n      </defs>\n      <g>\n       <use style=\"stroke:#000000;stroke-width:0.8;\" x=\"40.603125\" xlink:href=\"#mfe3a8bc489\" y=\"114.635514\"/>\n      </g>\n     </g>\n     <g id=\"text_6\">\n      <!-- 0 -->\n      <g transform=\"translate(27.240625 118.434732)scale(0.1 -0.1)\">\n       <use xlink:href=\"#DejaVuSans-48\"/>\n      </g>\n     </g>\n    </g>\n    <g id=\"ytick_2\">\n     <g id=\"line2d_11\">\n      <path clip-path=\"url(#p568bd1f090)\" d=\"M 40.603125 77.490157 \nL 235.903125 77.490157 \n\" style=\"fill:none;stroke:#b0b0b0;stroke-linecap:square;stroke-width:0.8;\"/>\n     </g>\n     <g id=\"line2d_12\">\n      <g>\n       <use style=\"stroke:#000000;stroke-width:0.8;\" x=\"40.603125\" xlink:href=\"#mfe3a8bc489\" y=\"77.490157\"/>\n      </g>\n     </g>\n     <g id=\"text_7\">\n      <!-- 5 -->\n      <defs>\n       <path d=\"M 10.796875 72.90625 \nL 49.515625 72.90625 \nL 49.515625 64.59375 \nL 19.828125 64.59375 \nL 19.828125 46.734375 \nQ 21.96875 47.46875 24.109375 47.828125 \nQ 26.265625 48.1875 28.421875 48.1875 \nQ 40.625 48.1875 47.75 41.5 \nQ 54.890625 34.8125 54.890625 23.390625 \nQ 54.890625 11.625 47.5625 5.09375 \nQ 40.234375 -1.421875 26.90625 -1.421875 \nQ 22.3125 -1.421875 17.546875 -0.640625 \nQ 12.796875 0.140625 7.71875 1.703125 \nL 7.71875 11.625 \nQ 12.109375 9.234375 16.796875 8.0625 \nQ 21.484375 6.890625 26.703125 6.890625 \nQ 35.15625 6.890625 40.078125 11.328125 \nQ 45.015625 15.765625 45.015625 23.390625 \nQ 45.015625 31 40.078125 35.4375 \nQ 35.15625 39.890625 26.703125 39.890625 \nQ 22.75 39.890625 18.8125 39.015625 \nQ 14.890625 38.140625 10.796875 36.28125 \nz\n\" id=\"DejaVuSans-53\"/>\n      </defs>\n      <g transform=\"translate(27.240625 81.289376)scale(0.1 -0.1)\">\n       <use xlink:href=\"#DejaVuSans-53\"/>\n      </g>\n     </g>\n    </g>\n    <g id=\"ytick_3\">\n     <g id=\"line2d_13\">\n      <path clip-path=\"url(#p568bd1f090)\" d=\"M 40.603125 40.344801 \nL 235.903125 40.344801 \n\" style=\"fill:none;stroke:#b0b0b0;stroke-linecap:square;stroke-width:0.8;\"/>\n     </g>\n     <g id=\"line2d_14\">\n      <g>\n       <use style=\"stroke:#000000;stroke-width:0.8;\" x=\"40.603125\" xlink:href=\"#mfe3a8bc489\" y=\"40.344801\"/>\n      </g>\n     </g>\n     <g id=\"text_8\">\n      <!-- 10 -->\n      <g transform=\"translate(20.878125 44.14402)scale(0.1 -0.1)\">\n       <use xlink:href=\"#DejaVuSans-49\"/>\n       <use x=\"63.623047\" xlink:href=\"#DejaVuSans-48\"/>\n      </g>\n     </g>\n    </g>\n    <g id=\"text_9\">\n     <!-- f(x) -->\n     <defs>\n      <path d=\"M 37.109375 75.984375 \nL 37.109375 68.5 \nL 28.515625 68.5 \nQ 23.6875 68.5 21.796875 66.546875 \nQ 19.921875 64.59375 19.921875 59.515625 \nL 19.921875 54.6875 \nL 34.71875 54.6875 \nL 34.71875 47.703125 \nL 19.921875 47.703125 \nL 19.921875 0 \nL 10.890625 0 \nL 10.890625 47.703125 \nL 2.296875 47.703125 \nL 2.296875 54.6875 \nL 10.890625 54.6875 \nL 10.890625 58.5 \nQ 10.890625 67.625 15.140625 71.796875 \nQ 19.390625 75.984375 28.609375 75.984375 \nz\n\" id=\"DejaVuSans-102\"/>\n      <path d=\"M 31 75.875 \nQ 24.46875 64.65625 21.28125 53.65625 \nQ 18.109375 42.671875 18.109375 31.390625 \nQ 18.109375 20.125 21.3125 9.0625 \nQ 24.515625 -2 31 -13.1875 \nL 23.1875 -13.1875 \nQ 15.875 -1.703125 12.234375 9.375 \nQ 8.59375 20.453125 8.59375 31.390625 \nQ 8.59375 42.28125 12.203125 53.3125 \nQ 15.828125 64.359375 23.1875 75.875 \nz\n\" id=\"DejaVuSans-40\"/>\n      <path d=\"M 8.015625 75.875 \nL 15.828125 75.875 \nQ 23.140625 64.359375 26.78125 53.3125 \nQ 30.421875 42.28125 30.421875 31.390625 \nQ 30.421875 20.453125 26.78125 9.375 \nQ 23.140625 -1.703125 15.828125 -13.1875 \nL 8.015625 -13.1875 \nQ 14.5 -2 17.703125 9.0625 \nQ 20.90625 20.125 20.90625 31.390625 \nQ 20.90625 42.671875 17.703125 53.65625 \nQ 14.5 64.65625 8.015625 75.875 \nz\n\" id=\"DejaVuSans-41\"/>\n     </defs>\n     <g transform=\"translate(14.798437 83.771094)rotate(-90)scale(0.1 -0.1)\">\n      <use xlink:href=\"#DejaVuSans-102\"/>\n      <use x=\"35.205078\" xlink:href=\"#DejaVuSans-40\"/>\n      <use x=\"74.21875\" xlink:href=\"#DejaVuSans-120\"/>\n      <use x=\"133.398438\" xlink:href=\"#DejaVuSans-41\"/>\n     </g>\n    </g>\n   </g>\n   <g id=\"line2d_15\">\n    <path clip-path=\"url(#p568bd1f090)\" d=\"M 49.480398 114.635514 \nL 55.602655 117.38427 \nL 61.724912 119.687282 \nL 67.847169 121.54455 \nL 73.969426 122.956073 \nL 80.091683 123.921853 \nL 86.21394 124.441888 \nL 92.336197 124.516178 \nL 98.458454 124.144725 \nL 104.580711 123.327527 \nL 110.702968 122.064585 \nL 116.825225 120.355898 \nL 122.947482 118.201468 \nL 129.069739 115.601293 \nL 135.191996 112.555374 \nL 141.314254 109.06371 \nL 147.436511 105.126302 \nL 153.558768 100.74315 \nL 159.681025 95.914254 \nL 165.803282 90.639614 \nL 171.925539 84.919229 \nL 178.047796 78.7531 \nL 184.170053 72.141226 \nL 190.29231 65.083608 \nL 196.414567 57.580247 \nL 202.536824 49.63114 \nL 208.659081 41.23629 \nL 214.781338 32.395695 \nL 220.903595 23.109356 \nL 227.025852 13.377273 \n\" style=\"fill:none;stroke:#1f77b4;stroke-linecap:square;stroke-width:1.5;\"/>\n   </g>\n   <g id=\"line2d_16\">\n    <path clip-path=\"url(#p568bd1f090)\" d=\"M 49.480398 136.922727 \nL 55.602655 135.436913 \nL 61.724912 133.951099 \nL 67.847169 132.465285 \nL 73.969426 130.97947 \nL 80.091683 129.493656 \nL 86.21394 128.007842 \nL 92.336197 126.522028 \nL 98.458454 125.036213 \nL 104.580711 123.550399 \nL 110.702968 122.064585 \nL 116.825225 120.578771 \nL 122.947482 119.092956 \nL 129.069739 117.607142 \nL 135.191996 116.121328 \nL 141.314254 114.635514 \nL 147.436511 113.149699 \nL 153.558768 111.663885 \nL 159.681025 110.178071 \nL 165.803282 108.692257 \nL 171.925539 107.206442 \nL 178.047796 105.720628 \nL 184.170053 104.234814 \nL 190.29231 102.749 \nL 196.414567 101.263185 \nL 202.536824 99.777371 \nL 208.659081 98.291557 \nL 214.781338 96.805743 \nL 220.903595 95.319928 \nL 227.025852 93.834114 \n\" style=\"fill:none;stroke:#bf00bf;stroke-dasharray:5.55,2.4;stroke-dashoffset:0;stroke-width:1.5;\"/>\n   </g>\n   <g id=\"patch_3\">\n    <path d=\"M 40.603125 143.1 \nL 40.603125 7.2 \n\" style=\"fill:none;stroke:#000000;stroke-linecap:square;stroke-linejoin:miter;stroke-width:0.8;\"/>\n   </g>\n   <g id=\"patch_4\">\n    <path d=\"M 235.903125 143.1 \nL 235.903125 7.2 \n\" style=\"fill:none;stroke:#000000;stroke-linecap:square;stroke-linejoin:miter;stroke-width:0.8;\"/>\n   </g>\n   <g id=\"patch_5\">\n    <path d=\"M 40.603125 143.1 \nL 235.903125 143.1 \n\" style=\"fill:none;stroke:#000000;stroke-linecap:square;stroke-linejoin:miter;stroke-width:0.8;\"/>\n   </g>\n   <g id=\"patch_6\">\n    <path d=\"M 40.603125 7.2 \nL 235.903125 7.2 \n\" style=\"fill:none;stroke:#000000;stroke-linecap:square;stroke-linejoin:miter;stroke-width:0.8;\"/>\n   </g>\n   <g id=\"legend_1\">\n    <g id=\"patch_7\">\n     <path d=\"M 47.603125 44.55625 \nL 172.153125 44.55625 \nQ 174.153125 44.55625 174.153125 42.55625 \nL 174.153125 14.2 \nQ 174.153125 12.2 172.153125 12.2 \nL 47.603125 12.2 \nQ 45.603125 12.2 45.603125 14.2 \nL 45.603125 42.55625 \nQ 45.603125 44.55625 47.603125 44.55625 \nz\n\" style=\"fill:#ffffff;opacity:0.8;stroke:#cccccc;stroke-linejoin:miter;\"/>\n    </g>\n    <g id=\"line2d_17\">\n     <path d=\"M 49.603125 20.298437 \nL 69.603125 20.298437 \n\" style=\"fill:none;stroke:#1f77b4;stroke-linecap:square;stroke-width:1.5;\"/>\n    </g>\n    <g id=\"line2d_18\"/>\n    <g id=\"text_10\">\n     <!-- f(x) -->\n     <g transform=\"translate(77.603125 23.798437)scale(0.1 -0.1)\">\n      <use xlink:href=\"#DejaVuSans-102\"/>\n      <use x=\"35.205078\" xlink:href=\"#DejaVuSans-40\"/>\n      <use x=\"74.21875\" xlink:href=\"#DejaVuSans-120\"/>\n      <use x=\"133.398438\" xlink:href=\"#DejaVuSans-41\"/>\n     </g>\n    </g>\n    <g id=\"line2d_19\">\n     <path d=\"M 49.603125 34.976562 \nL 69.603125 34.976562 \n\" style=\"fill:none;stroke:#bf00bf;stroke-dasharray:5.55,2.4;stroke-dashoffset:0;stroke-width:1.5;\"/>\n    </g>\n    <g id=\"line2d_20\"/>\n    <g id=\"text_11\">\n     <!-- Tangent line (x=1) -->\n     <defs>\n      <path d=\"M -0.296875 72.90625 \nL 61.375 72.90625 \nL 61.375 64.59375 \nL 35.5 64.59375 \nL 35.5 0 \nL 25.59375 0 \nL 25.59375 64.59375 \nL -0.296875 64.59375 \nz\n\" id=\"DejaVuSans-84\"/>\n      <path d=\"M 34.28125 27.484375 \nQ 23.390625 27.484375 19.1875 25 \nQ 14.984375 22.515625 14.984375 16.5 \nQ 14.984375 11.71875 18.140625 8.90625 \nQ 21.296875 6.109375 26.703125 6.109375 \nQ 34.1875 6.109375 38.703125 11.40625 \nQ 43.21875 16.703125 43.21875 25.484375 \nL 43.21875 27.484375 \nz\nM 52.203125 31.203125 \nL 52.203125 0 \nL 43.21875 0 \nL 43.21875 8.296875 \nQ 40.140625 3.328125 35.546875 0.953125 \nQ 30.953125 -1.421875 24.3125 -1.421875 \nQ 15.921875 -1.421875 10.953125 3.296875 \nQ 6 8.015625 6 15.921875 \nQ 6 25.140625 12.171875 29.828125 \nQ 18.359375 34.515625 30.609375 34.515625 \nL 43.21875 34.515625 \nL 43.21875 35.40625 \nQ 43.21875 41.609375 39.140625 45 \nQ 35.0625 48.390625 27.6875 48.390625 \nQ 23 48.390625 18.546875 47.265625 \nQ 14.109375 46.140625 10.015625 43.890625 \nL 10.015625 52.203125 \nQ 14.9375 54.109375 19.578125 55.046875 \nQ 24.21875 56 28.609375 56 \nQ 40.484375 56 46.34375 49.84375 \nQ 52.203125 43.703125 52.203125 31.203125 \nz\n\" id=\"DejaVuSans-97\"/>\n      <path d=\"M 54.890625 33.015625 \nL 54.890625 0 \nL 45.90625 0 \nL 45.90625 32.71875 \nQ 45.90625 40.484375 42.875 44.328125 \nQ 39.84375 48.1875 33.796875 48.1875 \nQ 26.515625 48.1875 22.3125 43.546875 \nQ 18.109375 38.921875 18.109375 30.90625 \nL 18.109375 0 \nL 9.078125 0 \nL 9.078125 54.6875 \nL 18.109375 54.6875 \nL 18.109375 46.1875 \nQ 21.34375 51.125 25.703125 53.5625 \nQ 30.078125 56 35.796875 56 \nQ 45.21875 56 50.046875 50.171875 \nQ 54.890625 44.34375 54.890625 33.015625 \nz\n\" id=\"DejaVuSans-110\"/>\n      <path d=\"M 45.40625 27.984375 \nQ 45.40625 37.75 41.375 43.109375 \nQ 37.359375 48.484375 30.078125 48.484375 \nQ 22.859375 48.484375 18.828125 43.109375 \nQ 14.796875 37.75 14.796875 27.984375 \nQ 14.796875 18.265625 18.828125 12.890625 \nQ 22.859375 7.515625 30.078125 7.515625 \nQ 37.359375 7.515625 41.375 12.890625 \nQ 45.40625 18.265625 45.40625 27.984375 \nz\nM 54.390625 6.78125 \nQ 54.390625 -7.171875 48.1875 -13.984375 \nQ 42 -20.796875 29.203125 -20.796875 \nQ 24.46875 -20.796875 20.265625 -20.09375 \nQ 16.0625 -19.390625 12.109375 -17.921875 \nL 12.109375 -9.1875 \nQ 16.0625 -11.328125 19.921875 -12.34375 \nQ 23.78125 -13.375 27.78125 -13.375 \nQ 36.625 -13.375 41.015625 -8.765625 \nQ 45.40625 -4.15625 45.40625 5.171875 \nL 45.40625 9.625 \nQ 42.625 4.78125 38.28125 2.390625 \nQ 33.9375 0 27.875 0 \nQ 17.828125 0 11.671875 7.65625 \nQ 5.515625 15.328125 5.515625 27.984375 \nQ 5.515625 40.671875 11.671875 48.328125 \nQ 17.828125 56 27.875 56 \nQ 33.9375 56 38.28125 53.609375 \nQ 42.625 51.21875 45.40625 46.390625 \nL 45.40625 54.6875 \nL 54.390625 54.6875 \nz\n\" id=\"DejaVuSans-103\"/>\n      <path d=\"M 56.203125 29.59375 \nL 56.203125 25.203125 \nL 14.890625 25.203125 \nQ 15.484375 15.921875 20.484375 11.0625 \nQ 25.484375 6.203125 34.421875 6.203125 \nQ 39.59375 6.203125 44.453125 7.46875 \nQ 49.3125 8.734375 54.109375 11.28125 \nL 54.109375 2.78125 \nQ 49.265625 0.734375 44.1875 -0.34375 \nQ 39.109375 -1.421875 33.890625 -1.421875 \nQ 20.796875 -1.421875 13.15625 6.1875 \nQ 5.515625 13.8125 5.515625 26.8125 \nQ 5.515625 40.234375 12.765625 48.109375 \nQ 20.015625 56 32.328125 56 \nQ 43.359375 56 49.78125 48.890625 \nQ 56.203125 41.796875 56.203125 29.59375 \nz\nM 47.21875 32.234375 \nQ 47.125 39.59375 43.09375 43.984375 \nQ 39.0625 48.390625 32.421875 48.390625 \nQ 24.90625 48.390625 20.390625 44.140625 \nQ 15.875 39.890625 15.1875 32.171875 \nz\n\" id=\"DejaVuSans-101\"/>\n      <path d=\"M 18.3125 70.21875 \nL 18.3125 54.6875 \nL 36.8125 54.6875 \nL 36.8125 47.703125 \nL 18.3125 47.703125 \nL 18.3125 18.015625 \nQ 18.3125 11.328125 20.140625 9.421875 \nQ 21.96875 7.515625 27.59375 7.515625 \nL 36.8125 7.515625 \nL 36.8125 0 \nL 27.59375 0 \nQ 17.1875 0 13.234375 3.875 \nQ 9.28125 7.765625 9.28125 18.015625 \nL 9.28125 47.703125 \nL 2.6875 47.703125 \nL 2.6875 54.6875 \nL 9.28125 54.6875 \nL 9.28125 70.21875 \nz\n\" id=\"DejaVuSans-116\"/>\n      <path id=\"DejaVuSans-32\"/>\n      <path d=\"M 9.421875 75.984375 \nL 18.40625 75.984375 \nL 18.40625 0 \nL 9.421875 0 \nz\n\" id=\"DejaVuSans-108\"/>\n      <path d=\"M 9.421875 54.6875 \nL 18.40625 54.6875 \nL 18.40625 0 \nL 9.421875 0 \nz\nM 9.421875 75.984375 \nL 18.40625 75.984375 \nL 18.40625 64.59375 \nL 9.421875 64.59375 \nz\n\" id=\"DejaVuSans-105\"/>\n      <path d=\"M 10.59375 45.40625 \nL 73.1875 45.40625 \nL 73.1875 37.203125 \nL 10.59375 37.203125 \nz\nM 10.59375 25.484375 \nL 73.1875 25.484375 \nL 73.1875 17.1875 \nL 10.59375 17.1875 \nz\n\" id=\"DejaVuSans-61\"/>\n     </defs>\n     <g transform=\"translate(77.603125 38.476562)scale(0.1 -0.1)\">\n      <use xlink:href=\"#DejaVuSans-84\"/>\n      <use x=\"44.583984\" xlink:href=\"#DejaVuSans-97\"/>\n      <use x=\"105.863281\" xlink:href=\"#DejaVuSans-110\"/>\n      <use x=\"169.242188\" xlink:href=\"#DejaVuSans-103\"/>\n      <use x=\"232.71875\" xlink:href=\"#DejaVuSans-101\"/>\n      <use x=\"294.242188\" xlink:href=\"#DejaVuSans-110\"/>\n      <use x=\"357.621094\" xlink:href=\"#DejaVuSans-116\"/>\n      <use x=\"396.830078\" xlink:href=\"#DejaVuSans-32\"/>\n      <use x=\"428.617188\" xlink:href=\"#DejaVuSans-108\"/>\n      <use x=\"456.400391\" xlink:href=\"#DejaVuSans-105\"/>\n      <use x=\"484.183594\" xlink:href=\"#DejaVuSans-110\"/>\n      <use x=\"547.5625\" xlink:href=\"#DejaVuSans-101\"/>\n      <use x=\"609.085938\" xlink:href=\"#DejaVuSans-32\"/>\n      <use x=\"640.873047\" xlink:href=\"#DejaVuSans-40\"/>\n      <use x=\"679.886719\" xlink:href=\"#DejaVuSans-120\"/>\n      <use x=\"739.066406\" xlink:href=\"#DejaVuSans-61\"/>\n      <use x=\"822.855469\" xlink:href=\"#DejaVuSans-49\"/>\n      <use x=\"886.478516\" xlink:href=\"#DejaVuSans-41\"/>\n     </g>\n    </g>\n   </g>\n  </g>\n </g>\n <defs>\n  <clipPath id=\"p568bd1f090\">\n   <rect height=\"135.9\" width=\"195.3\" x=\"40.603125\" y=\"7.2\"/>\n  </clipPath>\n </defs>\n</svg>\n"
          },
          "metadata": {
            "needs_background": "light"
          }
        }
      ]
    },
    {
      "cell_type": "code",
      "source": [
        "import torch\n",
        "\n",
        "x = torch.arange(4.0)\n",
        "x"
      ],
      "metadata": {
        "colab": {
          "base_uri": "https://localhost:8080/"
        },
        "id": "BNWZffVLKwnO",
        "outputId": "38bc9cb6-e9bd-4cc1-b66f-096af1cd46f1"
      },
      "execution_count": null,
      "outputs": [
        {
          "output_type": "execute_result",
          "data": {
            "text/plain": [
              "tensor([0., 1., 2., 3.])"
            ]
          },
          "metadata": {},
          "execution_count": 18
        }
      ]
    },
    {
      "cell_type": "code",
      "source": [
        "x.requires_grad_(True)  # Same as `x = torch.arange(4.0, requires_grad=True)`\n",
        "x.grad  # The default value is None"
      ],
      "metadata": {
        "id": "XIMZ_3fMK18R"
      },
      "execution_count": null,
      "outputs": []
    },
    {
      "cell_type": "code",
      "source": [
        "y = 2 * torch.dot(x, x)\n",
        "y"
      ],
      "metadata": {
        "colab": {
          "base_uri": "https://localhost:8080/"
        },
        "id": "2UfQmJ-RLSZa",
        "outputId": "4821fa37-7a68-4114-da08-78c822a856ec"
      },
      "execution_count": null,
      "outputs": [
        {
          "output_type": "execute_result",
          "data": {
            "text/plain": [
              "tensor(28., grad_fn=<MulBackward0>)"
            ]
          },
          "metadata": {},
          "execution_count": 20
        }
      ]
    },
    {
      "cell_type": "code",
      "source": [
        "y.backward()\n",
        "x.grad"
      ],
      "metadata": {
        "colab": {
          "base_uri": "https://localhost:8080/"
        },
        "id": "Iu17y2B1LWZh",
        "outputId": "adb8f2c6-99fa-45d7-f951-7d3240d9b874"
      },
      "execution_count": null,
      "outputs": [
        {
          "output_type": "execute_result",
          "data": {
            "text/plain": [
              "tensor([ 0.,  4.,  8., 12.])"
            ]
          },
          "metadata": {},
          "execution_count": 21
        }
      ]
    },
    {
      "cell_type": "code",
      "source": [
        "x.grad == 4 * x"
      ],
      "metadata": {
        "colab": {
          "base_uri": "https://localhost:8080/"
        },
        "id": "Hcw3YdqRLcdP",
        "outputId": "51330718-e903-43c0-f629-6461b4985e2e"
      },
      "execution_count": null,
      "outputs": [
        {
          "output_type": "execute_result",
          "data": {
            "text/plain": [
              "tensor([True, True, True, True])"
            ]
          },
          "metadata": {},
          "execution_count": 22
        }
      ]
    },
    {
      "cell_type": "code",
      "source": [
        "# PyTorch accumulates the gradient in default, we need to clear the previous\n",
        "# values\n",
        "x.grad.zero_()\n",
        "y = x.sum()\n",
        "y.backward()\n",
        "x.grad"
      ],
      "metadata": {
        "colab": {
          "base_uri": "https://localhost:8080/"
        },
        "id": "bH-NltrpLh8F",
        "outputId": "b4e62786-8f2f-416c-fb18-b90c86352166"
      },
      "execution_count": null,
      "outputs": [
        {
          "output_type": "execute_result",
          "data": {
            "text/plain": [
              "tensor([1., 1., 1., 1.])"
            ]
          },
          "metadata": {},
          "execution_count": 23
        }
      ]
    },
    {
      "cell_type": "code",
      "source": [
        "# Invoking `backward` on a non-scalar requires passing in a `gradient` argument\n",
        "# which specifies the gradient of the differentiated function w.r.t `self`.\n",
        "# In our case, we simply want to sum the partial derivatives, so passing\n",
        "# in a gradient of ones is appropriate\n",
        "x.grad.zero_()\n",
        "y = x * x\n",
        "# y.backward(torch.ones(len(x))) equivalent to the below\n",
        "y.sum().backward()\n",
        "x.grad"
      ],
      "metadata": {
        "colab": {
          "base_uri": "https://localhost:8080/"
        },
        "id": "5qj83-KjLnbq",
        "outputId": "f48a2806-506b-4c2e-e88a-a24c1bd9cd9e"
      },
      "execution_count": null,
      "outputs": [
        {
          "output_type": "execute_result",
          "data": {
            "text/plain": [
              "tensor([0., 2., 4., 6.])"
            ]
          },
          "metadata": {},
          "execution_count": 24
        }
      ]
    },
    {
      "cell_type": "code",
      "source": [
        "x.grad.zero_()\n",
        "y = x * x\n",
        "u = y.detach()\n",
        "z = u * x\n",
        "\n",
        "z.sum().backward()\n",
        "x.grad == u"
      ],
      "metadata": {
        "colab": {
          "base_uri": "https://localhost:8080/"
        },
        "id": "WzHkQJUALrmt",
        "outputId": "4876bdd9-fbbf-401e-f785-044d4307163b"
      },
      "execution_count": null,
      "outputs": [
        {
          "output_type": "execute_result",
          "data": {
            "text/plain": [
              "tensor([True, True, True, True])"
            ]
          },
          "metadata": {},
          "execution_count": 25
        }
      ]
    },
    {
      "cell_type": "code",
      "source": [
        "x.grad.zero_()\n",
        "y.sum().backward()\n",
        "x.grad == 2 * x"
      ],
      "metadata": {
        "colab": {
          "base_uri": "https://localhost:8080/"
        },
        "id": "9s6U0eR2LwF-",
        "outputId": "61046b51-f861-44e7-b261-7da642074b09"
      },
      "execution_count": null,
      "outputs": [
        {
          "output_type": "execute_result",
          "data": {
            "text/plain": [
              "tensor([True, True, True, True])"
            ]
          },
          "metadata": {},
          "execution_count": 26
        }
      ]
    },
    {
      "cell_type": "code",
      "source": [
        "def f(a):\n",
        "    b = a * 2\n",
        "    while b.norm() < 1000:\n",
        "        b = b * 2\n",
        "    if b.sum() > 0:\n",
        "        c = b\n",
        "    else:\n",
        "        c = 100 * b\n",
        "    return c"
      ],
      "metadata": {
        "id": "EeNL3Np4L1Rt"
      },
      "execution_count": null,
      "outputs": []
    },
    {
      "cell_type": "code",
      "source": [
        "a = torch.randn(size=(), requires_grad=True)\n",
        "d = f(a)\n",
        "d.backward()"
      ],
      "metadata": {
        "id": "rrlyLwfEL6NL"
      },
      "execution_count": null,
      "outputs": []
    },
    {
      "cell_type": "code",
      "source": [
        "a.grad == d / a"
      ],
      "metadata": {
        "colab": {
          "base_uri": "https://localhost:8080/"
        },
        "id": "t8i8jzJlL-TV",
        "outputId": "5c3ec0d3-a3ce-4bd0-e402-d66a76bc6006"
      },
      "execution_count": null,
      "outputs": [
        {
          "output_type": "execute_result",
          "data": {
            "text/plain": [
              "tensor(True)"
            ]
          },
          "metadata": {},
          "execution_count": 29
        }
      ]
    },
    {
      "cell_type": "code",
      "source": [
        "%matplotlib inline\n",
        "import torch\n",
        "from torch.distributions import multinomial\n",
        "from d2l import torch as d2l"
      ],
      "metadata": {
        "id": "DoTumfO3M7j4"
      },
      "execution_count": null,
      "outputs": []
    },
    {
      "cell_type": "code",
      "source": [
        "fair_probs = torch.ones([6]) / 6\n",
        "multinomial.Multinomial(1, fair_probs).sample()"
      ],
      "metadata": {
        "colab": {
          "base_uri": "https://localhost:8080/"
        },
        "id": "IBz34GfONAG6",
        "outputId": "c21caec1-db0a-4239-83da-bbae09fabac6"
      },
      "execution_count": null,
      "outputs": [
        {
          "output_type": "execute_result",
          "data": {
            "text/plain": [
              "tensor([0., 0., 0., 0., 0., 1.])"
            ]
          },
          "metadata": {},
          "execution_count": 31
        }
      ]
    },
    {
      "cell_type": "code",
      "source": [
        "multinomial.Multinomial(10, fair_probs).sample()"
      ],
      "metadata": {
        "colab": {
          "base_uri": "https://localhost:8080/"
        },
        "id": "R_I5gZo6NJGR",
        "outputId": "fce1fa8e-b50f-4097-899a-77032119b3ba"
      },
      "execution_count": null,
      "outputs": [
        {
          "output_type": "execute_result",
          "data": {
            "text/plain": [
              "tensor([3., 3., 0., 1., 2., 1.])"
            ]
          },
          "metadata": {},
          "execution_count": 32
        }
      ]
    },
    {
      "cell_type": "code",
      "source": [
        "# Store the results as 32-bit floats for division\n",
        "counts = multinomial.Multinomial(1000, fair_probs).sample()\n",
        "counts / 1000  # Relative frequency as the estimate"
      ],
      "metadata": {
        "colab": {
          "base_uri": "https://localhost:8080/"
        },
        "id": "XeL4slcmNOH_",
        "outputId": "ce682995-c97a-491e-e2f5-cd59be1840a0"
      },
      "execution_count": null,
      "outputs": [
        {
          "output_type": "execute_result",
          "data": {
            "text/plain": [
              "tensor([0.1720, 0.1670, 0.1530, 0.1620, 0.1770, 0.1690])"
            ]
          },
          "metadata": {},
          "execution_count": 33
        }
      ]
    },
    {
      "cell_type": "code",
      "source": [
        "counts = multinomial.Multinomial(10, fair_probs).sample((500,))\n",
        "cum_counts = counts.cumsum(dim=0)\n",
        "estimates = cum_counts / cum_counts.sum(dim=1, keepdims=True)\n",
        "\n",
        "d2l.set_figsize((6, 4.5))\n",
        "for i in range(6):\n",
        "    d2l.plt.plot(estimates[:, i].numpy(),\n",
        "                 label=(\"P(die=\" + str(i + 1) + \")\"))\n",
        "d2l.plt.axhline(y=0.167, color='black', linestyle='dashed')\n",
        "d2l.plt.gca().set_xlabel('Groups of experiments')\n",
        "d2l.plt.gca().set_ylabel('Estimated probability')\n",
        "d2l.plt.legend();"
      ],
      "metadata": {
        "colab": {
          "base_uri": "https://localhost:8080/",
          "height": 407
        },
        "id": "SaTLyXsrNV0z",
        "outputId": "7f227939-9b93-45a9-ebd2-4f72f62983a5"
      },
      "execution_count": null,
      "outputs": [
        {
          "output_type": "display_data",
          "data": {
            "text/plain": [
              "<Figure size 432x324 with 1 Axes>"
            ],
            "image/svg+xml": "<?xml version=\"1.0\" encoding=\"utf-8\" standalone=\"no\"?>\n<!DOCTYPE svg PUBLIC \"-//W3C//DTD SVG 1.1//EN\"\n  \"http://www.w3.org/Graphics/SVG/1.1/DTD/svg11.dtd\">\n<!-- Created with matplotlib (https://matplotlib.org/) -->\n<svg height=\"289.37625pt\" version=\"1.1\" viewBox=\"0 0 392.14375 289.37625\" width=\"392.14375pt\" xmlns=\"http://www.w3.org/2000/svg\" xmlns:xlink=\"http://www.w3.org/1999/xlink\">\n <defs>\n  <style type=\"text/css\">\n*{stroke-linecap:butt;stroke-linejoin:round;}\n  </style>\n </defs>\n <g id=\"figure_1\">\n  <g id=\"patch_1\">\n   <path d=\"M 0 289.37625 \nL 392.14375 289.37625 \nL 392.14375 0 \nL 0 0 \nz\n\" style=\"fill:none;\"/>\n  </g>\n  <g id=\"axes_1\">\n   <g id=\"patch_2\">\n    <path d=\"M 50.14375 251.82 \nL 384.94375 251.82 \nL 384.94375 7.2 \nL 50.14375 7.2 \nz\n\" style=\"fill:#ffffff;\"/>\n   </g>\n   <g id=\"matplotlib.axis_1\">\n    <g id=\"xtick_1\">\n     <g id=\"line2d_1\">\n      <defs>\n       <path d=\"M 0 0 \nL 0 3.5 \n\" id=\"m843bafed5f\" style=\"stroke:#000000;stroke-width:0.8;\"/>\n      </defs>\n      <g>\n       <use style=\"stroke:#000000;stroke-width:0.8;\" x=\"65.361932\" xlink:href=\"#m843bafed5f\" y=\"251.82\"/>\n      </g>\n     </g>\n     <g id=\"text_1\">\n      <!-- 0 -->\n      <defs>\n       <path d=\"M 31.78125 66.40625 \nQ 24.171875 66.40625 20.328125 58.90625 \nQ 16.5 51.421875 16.5 36.375 \nQ 16.5 21.390625 20.328125 13.890625 \nQ 24.171875 6.390625 31.78125 6.390625 \nQ 39.453125 6.390625 43.28125 13.890625 \nQ 47.125 21.390625 47.125 36.375 \nQ 47.125 51.421875 43.28125 58.90625 \nQ 39.453125 66.40625 31.78125 66.40625 \nz\nM 31.78125 74.21875 \nQ 44.046875 74.21875 50.515625 64.515625 \nQ 56.984375 54.828125 56.984375 36.375 \nQ 56.984375 17.96875 50.515625 8.265625 \nQ 44.046875 -1.421875 31.78125 -1.421875 \nQ 19.53125 -1.421875 13.0625 8.265625 \nQ 6.59375 17.96875 6.59375 36.375 \nQ 6.59375 54.828125 13.0625 64.515625 \nQ 19.53125 74.21875 31.78125 74.21875 \nz\n\" id=\"DejaVuSans-48\"/>\n      </defs>\n      <g transform=\"translate(62.180682 266.418437)scale(0.1 -0.1)\">\n       <use xlink:href=\"#DejaVuSans-48\"/>\n      </g>\n     </g>\n    </g>\n    <g id=\"xtick_2\">\n     <g id=\"line2d_2\">\n      <g>\n       <use style=\"stroke:#000000;stroke-width:0.8;\" x=\"126.356649\" xlink:href=\"#m843bafed5f\" y=\"251.82\"/>\n      </g>\n     </g>\n     <g id=\"text_2\">\n      <!-- 100 -->\n      <defs>\n       <path d=\"M 12.40625 8.296875 \nL 28.515625 8.296875 \nL 28.515625 63.921875 \nL 10.984375 60.40625 \nL 10.984375 69.390625 \nL 28.421875 72.90625 \nL 38.28125 72.90625 \nL 38.28125 8.296875 \nL 54.390625 8.296875 \nL 54.390625 0 \nL 12.40625 0 \nz\n\" id=\"DejaVuSans-49\"/>\n      </defs>\n      <g transform=\"translate(116.812899 266.418437)scale(0.1 -0.1)\">\n       <use xlink:href=\"#DejaVuSans-49\"/>\n       <use x=\"63.623047\" xlink:href=\"#DejaVuSans-48\"/>\n       <use x=\"127.246094\" xlink:href=\"#DejaVuSans-48\"/>\n      </g>\n     </g>\n    </g>\n    <g id=\"xtick_3\">\n     <g id=\"line2d_3\">\n      <g>\n       <use style=\"stroke:#000000;stroke-width:0.8;\" x=\"187.351365\" xlink:href=\"#m843bafed5f\" y=\"251.82\"/>\n      </g>\n     </g>\n     <g id=\"text_3\">\n      <!-- 200 -->\n      <defs>\n       <path d=\"M 19.1875 8.296875 \nL 53.609375 8.296875 \nL 53.609375 0 \nL 7.328125 0 \nL 7.328125 8.296875 \nQ 12.9375 14.109375 22.625 23.890625 \nQ 32.328125 33.6875 34.8125 36.53125 \nQ 39.546875 41.84375 41.421875 45.53125 \nQ 43.3125 49.21875 43.3125 52.78125 \nQ 43.3125 58.59375 39.234375 62.25 \nQ 35.15625 65.921875 28.609375 65.921875 \nQ 23.96875 65.921875 18.8125 64.3125 \nQ 13.671875 62.703125 7.8125 59.421875 \nL 7.8125 69.390625 \nQ 13.765625 71.78125 18.9375 73 \nQ 24.125 74.21875 28.421875 74.21875 \nQ 39.75 74.21875 46.484375 68.546875 \nQ 53.21875 62.890625 53.21875 53.421875 \nQ 53.21875 48.921875 51.53125 44.890625 \nQ 49.859375 40.875 45.40625 35.40625 \nQ 44.1875 33.984375 37.640625 27.21875 \nQ 31.109375 20.453125 19.1875 8.296875 \nz\n\" id=\"DejaVuSans-50\"/>\n      </defs>\n      <g transform=\"translate(177.807615 266.418437)scale(0.1 -0.1)\">\n       <use xlink:href=\"#DejaVuSans-50\"/>\n       <use x=\"63.623047\" xlink:href=\"#DejaVuSans-48\"/>\n       <use x=\"127.246094\" xlink:href=\"#DejaVuSans-48\"/>\n      </g>\n     </g>\n    </g>\n    <g id=\"xtick_4\">\n     <g id=\"line2d_4\">\n      <g>\n       <use style=\"stroke:#000000;stroke-width:0.8;\" x=\"248.346082\" xlink:href=\"#m843bafed5f\" y=\"251.82\"/>\n      </g>\n     </g>\n     <g id=\"text_4\">\n      <!-- 300 -->\n      <defs>\n       <path d=\"M 40.578125 39.3125 \nQ 47.65625 37.796875 51.625 33 \nQ 55.609375 28.21875 55.609375 21.1875 \nQ 55.609375 10.40625 48.1875 4.484375 \nQ 40.765625 -1.421875 27.09375 -1.421875 \nQ 22.515625 -1.421875 17.65625 -0.515625 \nQ 12.796875 0.390625 7.625 2.203125 \nL 7.625 11.71875 \nQ 11.71875 9.328125 16.59375 8.109375 \nQ 21.484375 6.890625 26.8125 6.890625 \nQ 36.078125 6.890625 40.9375 10.546875 \nQ 45.796875 14.203125 45.796875 21.1875 \nQ 45.796875 27.640625 41.28125 31.265625 \nQ 36.765625 34.90625 28.71875 34.90625 \nL 20.21875 34.90625 \nL 20.21875 43.015625 \nL 29.109375 43.015625 \nQ 36.375 43.015625 40.234375 45.921875 \nQ 44.09375 48.828125 44.09375 54.296875 \nQ 44.09375 59.90625 40.109375 62.90625 \nQ 36.140625 65.921875 28.71875 65.921875 \nQ 24.65625 65.921875 20.015625 65.03125 \nQ 15.375 64.15625 9.8125 62.3125 \nL 9.8125 71.09375 \nQ 15.4375 72.65625 20.34375 73.4375 \nQ 25.25 74.21875 29.59375 74.21875 \nQ 40.828125 74.21875 47.359375 69.109375 \nQ 53.90625 64.015625 53.90625 55.328125 \nQ 53.90625 49.265625 50.4375 45.09375 \nQ 46.96875 40.921875 40.578125 39.3125 \nz\n\" id=\"DejaVuSans-51\"/>\n      </defs>\n      <g transform=\"translate(238.802332 266.418437)scale(0.1 -0.1)\">\n       <use xlink:href=\"#DejaVuSans-51\"/>\n       <use x=\"63.623047\" xlink:href=\"#DejaVuSans-48\"/>\n       <use x=\"127.246094\" xlink:href=\"#DejaVuSans-48\"/>\n      </g>\n     </g>\n    </g>\n    <g id=\"xtick_5\">\n     <g id=\"line2d_5\">\n      <g>\n       <use style=\"stroke:#000000;stroke-width:0.8;\" x=\"309.340799\" xlink:href=\"#m843bafed5f\" y=\"251.82\"/>\n      </g>\n     </g>\n     <g id=\"text_5\">\n      <!-- 400 -->\n      <defs>\n       <path d=\"M 37.796875 64.3125 \nL 12.890625 25.390625 \nL 37.796875 25.390625 \nz\nM 35.203125 72.90625 \nL 47.609375 72.90625 \nL 47.609375 25.390625 \nL 58.015625 25.390625 \nL 58.015625 17.1875 \nL 47.609375 17.1875 \nL 47.609375 0 \nL 37.796875 0 \nL 37.796875 17.1875 \nL 4.890625 17.1875 \nL 4.890625 26.703125 \nz\n\" id=\"DejaVuSans-52\"/>\n      </defs>\n      <g transform=\"translate(299.797049 266.418437)scale(0.1 -0.1)\">\n       <use xlink:href=\"#DejaVuSans-52\"/>\n       <use x=\"63.623047\" xlink:href=\"#DejaVuSans-48\"/>\n       <use x=\"127.246094\" xlink:href=\"#DejaVuSans-48\"/>\n      </g>\n     </g>\n    </g>\n    <g id=\"xtick_6\">\n     <g id=\"line2d_6\">\n      <g>\n       <use style=\"stroke:#000000;stroke-width:0.8;\" x=\"370.335515\" xlink:href=\"#m843bafed5f\" y=\"251.82\"/>\n      </g>\n     </g>\n     <g id=\"text_6\">\n      <!-- 500 -->\n      <defs>\n       <path d=\"M 10.796875 72.90625 \nL 49.515625 72.90625 \nL 49.515625 64.59375 \nL 19.828125 64.59375 \nL 19.828125 46.734375 \nQ 21.96875 47.46875 24.109375 47.828125 \nQ 26.265625 48.1875 28.421875 48.1875 \nQ 40.625 48.1875 47.75 41.5 \nQ 54.890625 34.8125 54.890625 23.390625 \nQ 54.890625 11.625 47.5625 5.09375 \nQ 40.234375 -1.421875 26.90625 -1.421875 \nQ 22.3125 -1.421875 17.546875 -0.640625 \nQ 12.796875 0.140625 7.71875 1.703125 \nL 7.71875 11.625 \nQ 12.109375 9.234375 16.796875 8.0625 \nQ 21.484375 6.890625 26.703125 6.890625 \nQ 35.15625 6.890625 40.078125 11.328125 \nQ 45.015625 15.765625 45.015625 23.390625 \nQ 45.015625 31 40.078125 35.4375 \nQ 35.15625 39.890625 26.703125 39.890625 \nQ 22.75 39.890625 18.8125 39.015625 \nQ 14.890625 38.140625 10.796875 36.28125 \nz\n\" id=\"DejaVuSans-53\"/>\n      </defs>\n      <g transform=\"translate(360.791765 266.418437)scale(0.1 -0.1)\">\n       <use xlink:href=\"#DejaVuSans-53\"/>\n       <use x=\"63.623047\" xlink:href=\"#DejaVuSans-48\"/>\n       <use x=\"127.246094\" xlink:href=\"#DejaVuSans-48\"/>\n      </g>\n     </g>\n    </g>\n    <g id=\"text_7\">\n     <!-- Groups of experiments -->\n     <defs>\n      <path d=\"M 59.515625 10.40625 \nL 59.515625 29.984375 \nL 43.40625 29.984375 \nL 43.40625 38.09375 \nL 69.28125 38.09375 \nL 69.28125 6.78125 \nQ 63.578125 2.734375 56.6875 0.65625 \nQ 49.8125 -1.421875 42 -1.421875 \nQ 24.90625 -1.421875 15.25 8.5625 \nQ 5.609375 18.5625 5.609375 36.375 \nQ 5.609375 54.25 15.25 64.234375 \nQ 24.90625 74.21875 42 74.21875 \nQ 49.125 74.21875 55.546875 72.453125 \nQ 61.96875 70.703125 67.390625 67.28125 \nL 67.390625 56.78125 \nQ 61.921875 61.421875 55.765625 63.765625 \nQ 49.609375 66.109375 42.828125 66.109375 \nQ 29.4375 66.109375 22.71875 58.640625 \nQ 16.015625 51.171875 16.015625 36.375 \nQ 16.015625 21.625 22.71875 14.15625 \nQ 29.4375 6.6875 42.828125 6.6875 \nQ 48.046875 6.6875 52.140625 7.59375 \nQ 56.25 8.5 59.515625 10.40625 \nz\n\" id=\"DejaVuSans-71\"/>\n      <path d=\"M 41.109375 46.296875 \nQ 39.59375 47.171875 37.8125 47.578125 \nQ 36.03125 48 33.890625 48 \nQ 26.265625 48 22.1875 43.046875 \nQ 18.109375 38.09375 18.109375 28.8125 \nL 18.109375 0 \nL 9.078125 0 \nL 9.078125 54.6875 \nL 18.109375 54.6875 \nL 18.109375 46.1875 \nQ 20.953125 51.171875 25.484375 53.578125 \nQ 30.03125 56 36.53125 56 \nQ 37.453125 56 38.578125 55.875 \nQ 39.703125 55.765625 41.0625 55.515625 \nz\n\" id=\"DejaVuSans-114\"/>\n      <path d=\"M 30.609375 48.390625 \nQ 23.390625 48.390625 19.1875 42.75 \nQ 14.984375 37.109375 14.984375 27.296875 \nQ 14.984375 17.484375 19.15625 11.84375 \nQ 23.34375 6.203125 30.609375 6.203125 \nQ 37.796875 6.203125 41.984375 11.859375 \nQ 46.1875 17.53125 46.1875 27.296875 \nQ 46.1875 37.015625 41.984375 42.703125 \nQ 37.796875 48.390625 30.609375 48.390625 \nz\nM 30.609375 56 \nQ 42.328125 56 49.015625 48.375 \nQ 55.71875 40.765625 55.71875 27.296875 \nQ 55.71875 13.875 49.015625 6.21875 \nQ 42.328125 -1.421875 30.609375 -1.421875 \nQ 18.84375 -1.421875 12.171875 6.21875 \nQ 5.515625 13.875 5.515625 27.296875 \nQ 5.515625 40.765625 12.171875 48.375 \nQ 18.84375 56 30.609375 56 \nz\n\" id=\"DejaVuSans-111\"/>\n      <path d=\"M 8.5 21.578125 \nL 8.5 54.6875 \nL 17.484375 54.6875 \nL 17.484375 21.921875 \nQ 17.484375 14.15625 20.5 10.265625 \nQ 23.53125 6.390625 29.59375 6.390625 \nQ 36.859375 6.390625 41.078125 11.03125 \nQ 45.3125 15.671875 45.3125 23.6875 \nL 45.3125 54.6875 \nL 54.296875 54.6875 \nL 54.296875 0 \nL 45.3125 0 \nL 45.3125 8.40625 \nQ 42.046875 3.421875 37.71875 1 \nQ 33.40625 -1.421875 27.6875 -1.421875 \nQ 18.265625 -1.421875 13.375 4.4375 \nQ 8.5 10.296875 8.5 21.578125 \nz\nM 31.109375 56 \nz\n\" id=\"DejaVuSans-117\"/>\n      <path d=\"M 18.109375 8.203125 \nL 18.109375 -20.796875 \nL 9.078125 -20.796875 \nL 9.078125 54.6875 \nL 18.109375 54.6875 \nL 18.109375 46.390625 \nQ 20.953125 51.265625 25.265625 53.625 \nQ 29.59375 56 35.59375 56 \nQ 45.5625 56 51.78125 48.09375 \nQ 58.015625 40.1875 58.015625 27.296875 \nQ 58.015625 14.40625 51.78125 6.484375 \nQ 45.5625 -1.421875 35.59375 -1.421875 \nQ 29.59375 -1.421875 25.265625 0.953125 \nQ 20.953125 3.328125 18.109375 8.203125 \nz\nM 48.6875 27.296875 \nQ 48.6875 37.203125 44.609375 42.84375 \nQ 40.53125 48.484375 33.40625 48.484375 \nQ 26.265625 48.484375 22.1875 42.84375 \nQ 18.109375 37.203125 18.109375 27.296875 \nQ 18.109375 17.390625 22.1875 11.75 \nQ 26.265625 6.109375 33.40625 6.109375 \nQ 40.53125 6.109375 44.609375 11.75 \nQ 48.6875 17.390625 48.6875 27.296875 \nz\n\" id=\"DejaVuSans-112\"/>\n      <path d=\"M 44.28125 53.078125 \nL 44.28125 44.578125 \nQ 40.484375 46.53125 36.375 47.5 \nQ 32.28125 48.484375 27.875 48.484375 \nQ 21.1875 48.484375 17.84375 46.4375 \nQ 14.5 44.390625 14.5 40.28125 \nQ 14.5 37.15625 16.890625 35.375 \nQ 19.28125 33.59375 26.515625 31.984375 \nL 29.59375 31.296875 \nQ 39.15625 29.25 43.1875 25.515625 \nQ 47.21875 21.78125 47.21875 15.09375 \nQ 47.21875 7.46875 41.1875 3.015625 \nQ 35.15625 -1.421875 24.609375 -1.421875 \nQ 20.21875 -1.421875 15.453125 -0.5625 \nQ 10.6875 0.296875 5.421875 2 \nL 5.421875 11.28125 \nQ 10.40625 8.6875 15.234375 7.390625 \nQ 20.0625 6.109375 24.8125 6.109375 \nQ 31.15625 6.109375 34.5625 8.28125 \nQ 37.984375 10.453125 37.984375 14.40625 \nQ 37.984375 18.0625 35.515625 20.015625 \nQ 33.0625 21.96875 24.703125 23.78125 \nL 21.578125 24.515625 \nQ 13.234375 26.265625 9.515625 29.90625 \nQ 5.8125 33.546875 5.8125 39.890625 \nQ 5.8125 47.609375 11.28125 51.796875 \nQ 16.75 56 26.8125 56 \nQ 31.78125 56 36.171875 55.265625 \nQ 40.578125 54.546875 44.28125 53.078125 \nz\n\" id=\"DejaVuSans-115\"/>\n      <path id=\"DejaVuSans-32\"/>\n      <path d=\"M 37.109375 75.984375 \nL 37.109375 68.5 \nL 28.515625 68.5 \nQ 23.6875 68.5 21.796875 66.546875 \nQ 19.921875 64.59375 19.921875 59.515625 \nL 19.921875 54.6875 \nL 34.71875 54.6875 \nL 34.71875 47.703125 \nL 19.921875 47.703125 \nL 19.921875 0 \nL 10.890625 0 \nL 10.890625 47.703125 \nL 2.296875 47.703125 \nL 2.296875 54.6875 \nL 10.890625 54.6875 \nL 10.890625 58.5 \nQ 10.890625 67.625 15.140625 71.796875 \nQ 19.390625 75.984375 28.609375 75.984375 \nz\n\" id=\"DejaVuSans-102\"/>\n      <path d=\"M 56.203125 29.59375 \nL 56.203125 25.203125 \nL 14.890625 25.203125 \nQ 15.484375 15.921875 20.484375 11.0625 \nQ 25.484375 6.203125 34.421875 6.203125 \nQ 39.59375 6.203125 44.453125 7.46875 \nQ 49.3125 8.734375 54.109375 11.28125 \nL 54.109375 2.78125 \nQ 49.265625 0.734375 44.1875 -0.34375 \nQ 39.109375 -1.421875 33.890625 -1.421875 \nQ 20.796875 -1.421875 13.15625 6.1875 \nQ 5.515625 13.8125 5.515625 26.8125 \nQ 5.515625 40.234375 12.765625 48.109375 \nQ 20.015625 56 32.328125 56 \nQ 43.359375 56 49.78125 48.890625 \nQ 56.203125 41.796875 56.203125 29.59375 \nz\nM 47.21875 32.234375 \nQ 47.125 39.59375 43.09375 43.984375 \nQ 39.0625 48.390625 32.421875 48.390625 \nQ 24.90625 48.390625 20.390625 44.140625 \nQ 15.875 39.890625 15.1875 32.171875 \nz\n\" id=\"DejaVuSans-101\"/>\n      <path d=\"M 54.890625 54.6875 \nL 35.109375 28.078125 \nL 55.90625 0 \nL 45.3125 0 \nL 29.390625 21.484375 \nL 13.484375 0 \nL 2.875 0 \nL 24.125 28.609375 \nL 4.6875 54.6875 \nL 15.28125 54.6875 \nL 29.78125 35.203125 \nL 44.28125 54.6875 \nz\n\" id=\"DejaVuSans-120\"/>\n      <path d=\"M 9.421875 54.6875 \nL 18.40625 54.6875 \nL 18.40625 0 \nL 9.421875 0 \nz\nM 9.421875 75.984375 \nL 18.40625 75.984375 \nL 18.40625 64.59375 \nL 9.421875 64.59375 \nz\n\" id=\"DejaVuSans-105\"/>\n      <path d=\"M 52 44.1875 \nQ 55.375 50.25 60.0625 53.125 \nQ 64.75 56 71.09375 56 \nQ 79.640625 56 84.28125 50.015625 \nQ 88.921875 44.046875 88.921875 33.015625 \nL 88.921875 0 \nL 79.890625 0 \nL 79.890625 32.71875 \nQ 79.890625 40.578125 77.09375 44.375 \nQ 74.3125 48.1875 68.609375 48.1875 \nQ 61.625 48.1875 57.5625 43.546875 \nQ 53.515625 38.921875 53.515625 30.90625 \nL 53.515625 0 \nL 44.484375 0 \nL 44.484375 32.71875 \nQ 44.484375 40.625 41.703125 44.40625 \nQ 38.921875 48.1875 33.109375 48.1875 \nQ 26.21875 48.1875 22.15625 43.53125 \nQ 18.109375 38.875 18.109375 30.90625 \nL 18.109375 0 \nL 9.078125 0 \nL 9.078125 54.6875 \nL 18.109375 54.6875 \nL 18.109375 46.1875 \nQ 21.1875 51.21875 25.484375 53.609375 \nQ 29.78125 56 35.6875 56 \nQ 41.65625 56 45.828125 52.96875 \nQ 50 49.953125 52 44.1875 \nz\n\" id=\"DejaVuSans-109\"/>\n      <path d=\"M 54.890625 33.015625 \nL 54.890625 0 \nL 45.90625 0 \nL 45.90625 32.71875 \nQ 45.90625 40.484375 42.875 44.328125 \nQ 39.84375 48.1875 33.796875 48.1875 \nQ 26.515625 48.1875 22.3125 43.546875 \nQ 18.109375 38.921875 18.109375 30.90625 \nL 18.109375 0 \nL 9.078125 0 \nL 9.078125 54.6875 \nL 18.109375 54.6875 \nL 18.109375 46.1875 \nQ 21.34375 51.125 25.703125 53.5625 \nQ 30.078125 56 35.796875 56 \nQ 45.21875 56 50.046875 50.171875 \nQ 54.890625 44.34375 54.890625 33.015625 \nz\n\" id=\"DejaVuSans-110\"/>\n      <path d=\"M 18.3125 70.21875 \nL 18.3125 54.6875 \nL 36.8125 54.6875 \nL 36.8125 47.703125 \nL 18.3125 47.703125 \nL 18.3125 18.015625 \nQ 18.3125 11.328125 20.140625 9.421875 \nQ 21.96875 7.515625 27.59375 7.515625 \nL 36.8125 7.515625 \nL 36.8125 0 \nL 27.59375 0 \nQ 17.1875 0 13.234375 3.875 \nQ 9.28125 7.765625 9.28125 18.015625 \nL 9.28125 47.703125 \nL 2.6875 47.703125 \nL 2.6875 54.6875 \nL 9.28125 54.6875 \nL 9.28125 70.21875 \nz\n\" id=\"DejaVuSans-116\"/>\n     </defs>\n     <g transform=\"translate(160.397656 280.096562)scale(0.1 -0.1)\">\n      <use xlink:href=\"#DejaVuSans-71\"/>\n      <use x=\"77.490234\" xlink:href=\"#DejaVuSans-114\"/>\n      <use x=\"116.353516\" xlink:href=\"#DejaVuSans-111\"/>\n      <use x=\"177.535156\" xlink:href=\"#DejaVuSans-117\"/>\n      <use x=\"240.914062\" xlink:href=\"#DejaVuSans-112\"/>\n      <use x=\"304.390625\" xlink:href=\"#DejaVuSans-115\"/>\n      <use x=\"356.490234\" xlink:href=\"#DejaVuSans-32\"/>\n      <use x=\"388.277344\" xlink:href=\"#DejaVuSans-111\"/>\n      <use x=\"449.458984\" xlink:href=\"#DejaVuSans-102\"/>\n      <use x=\"484.664062\" xlink:href=\"#DejaVuSans-32\"/>\n      <use x=\"516.451172\" xlink:href=\"#DejaVuSans-101\"/>\n      <use x=\"576.224609\" xlink:href=\"#DejaVuSans-120\"/>\n      <use x=\"635.404297\" xlink:href=\"#DejaVuSans-112\"/>\n      <use x=\"698.880859\" xlink:href=\"#DejaVuSans-101\"/>\n      <use x=\"760.404297\" xlink:href=\"#DejaVuSans-114\"/>\n      <use x=\"801.517578\" xlink:href=\"#DejaVuSans-105\"/>\n      <use x=\"829.300781\" xlink:href=\"#DejaVuSans-109\"/>\n      <use x=\"926.712891\" xlink:href=\"#DejaVuSans-101\"/>\n      <use x=\"988.236328\" xlink:href=\"#DejaVuSans-110\"/>\n      <use x=\"1051.615234\" xlink:href=\"#DejaVuSans-116\"/>\n      <use x=\"1090.824219\" xlink:href=\"#DejaVuSans-115\"/>\n     </g>\n    </g>\n   </g>\n   <g id=\"matplotlib.axis_2\">\n    <g id=\"ytick_1\">\n     <g id=\"line2d_7\">\n      <defs>\n       <path d=\"M 0 0 \nL -3.5 0 \n\" id=\"m19912ac828\" style=\"stroke:#000000;stroke-width:0.8;\"/>\n      </defs>\n      <g>\n       <use style=\"stroke:#000000;stroke-width:0.8;\" x=\"50.14375\" xlink:href=\"#m19912ac828\" y=\"240.700909\"/>\n      </g>\n     </g>\n     <g id=\"text_8\">\n      <!-- 0.00 -->\n      <defs>\n       <path d=\"M 10.6875 12.40625 \nL 21 12.40625 \nL 21 0 \nL 10.6875 0 \nz\n\" id=\"DejaVuSans-46\"/>\n      </defs>\n      <g transform=\"translate(20.878125 244.500128)scale(0.1 -0.1)\">\n       <use xlink:href=\"#DejaVuSans-48\"/>\n       <use x=\"63.623047\" xlink:href=\"#DejaVuSans-46\"/>\n       <use x=\"95.410156\" xlink:href=\"#DejaVuSans-48\"/>\n       <use x=\"159.033203\" xlink:href=\"#DejaVuSans-48\"/>\n      </g>\n     </g>\n    </g>\n    <g id=\"ytick_2\">\n     <g id=\"line2d_8\">\n      <g>\n       <use style=\"stroke:#000000;stroke-width:0.8;\" x=\"50.14375\" xlink:href=\"#m19912ac828\" y=\"208.932077\"/>\n      </g>\n     </g>\n     <g id=\"text_9\">\n      <!-- 0.05 -->\n      <g transform=\"translate(20.878125 212.731296)scale(0.1 -0.1)\">\n       <use xlink:href=\"#DejaVuSans-48\"/>\n       <use x=\"63.623047\" xlink:href=\"#DejaVuSans-46\"/>\n       <use x=\"95.410156\" xlink:href=\"#DejaVuSans-48\"/>\n       <use x=\"159.033203\" xlink:href=\"#DejaVuSans-53\"/>\n      </g>\n     </g>\n    </g>\n    <g id=\"ytick_3\">\n     <g id=\"line2d_9\">\n      <g>\n       <use style=\"stroke:#000000;stroke-width:0.8;\" x=\"50.14375\" xlink:href=\"#m19912ac828\" y=\"177.163246\"/>\n      </g>\n     </g>\n     <g id=\"text_10\">\n      <!-- 0.10 -->\n      <g transform=\"translate(20.878125 180.962464)scale(0.1 -0.1)\">\n       <use xlink:href=\"#DejaVuSans-48\"/>\n       <use x=\"63.623047\" xlink:href=\"#DejaVuSans-46\"/>\n       <use x=\"95.410156\" xlink:href=\"#DejaVuSans-49\"/>\n       <use x=\"159.033203\" xlink:href=\"#DejaVuSans-48\"/>\n      </g>\n     </g>\n    </g>\n    <g id=\"ytick_4\">\n     <g id=\"line2d_10\">\n      <g>\n       <use style=\"stroke:#000000;stroke-width:0.8;\" x=\"50.14375\" xlink:href=\"#m19912ac828\" y=\"145.394414\"/>\n      </g>\n     </g>\n     <g id=\"text_11\">\n      <!-- 0.15 -->\n      <g transform=\"translate(20.878125 149.193633)scale(0.1 -0.1)\">\n       <use xlink:href=\"#DejaVuSans-48\"/>\n       <use x=\"63.623047\" xlink:href=\"#DejaVuSans-46\"/>\n       <use x=\"95.410156\" xlink:href=\"#DejaVuSans-49\"/>\n       <use x=\"159.033203\" xlink:href=\"#DejaVuSans-53\"/>\n      </g>\n     </g>\n    </g>\n    <g id=\"ytick_5\">\n     <g id=\"line2d_11\">\n      <g>\n       <use style=\"stroke:#000000;stroke-width:0.8;\" x=\"50.14375\" xlink:href=\"#m19912ac828\" y=\"113.625582\"/>\n      </g>\n     </g>\n     <g id=\"text_12\">\n      <!-- 0.20 -->\n      <g transform=\"translate(20.878125 117.424801)scale(0.1 -0.1)\">\n       <use xlink:href=\"#DejaVuSans-48\"/>\n       <use x=\"63.623047\" xlink:href=\"#DejaVuSans-46\"/>\n       <use x=\"95.410156\" xlink:href=\"#DejaVuSans-50\"/>\n       <use x=\"159.033203\" xlink:href=\"#DejaVuSans-48\"/>\n      </g>\n     </g>\n    </g>\n    <g id=\"ytick_6\">\n     <g id=\"line2d_12\">\n      <g>\n       <use style=\"stroke:#000000;stroke-width:0.8;\" x=\"50.14375\" xlink:href=\"#m19912ac828\" y=\"81.856751\"/>\n      </g>\n     </g>\n     <g id=\"text_13\">\n      <!-- 0.25 -->\n      <g transform=\"translate(20.878125 85.655969)scale(0.1 -0.1)\">\n       <use xlink:href=\"#DejaVuSans-48\"/>\n       <use x=\"63.623047\" xlink:href=\"#DejaVuSans-46\"/>\n       <use x=\"95.410156\" xlink:href=\"#DejaVuSans-50\"/>\n       <use x=\"159.033203\" xlink:href=\"#DejaVuSans-53\"/>\n      </g>\n     </g>\n    </g>\n    <g id=\"ytick_7\">\n     <g id=\"line2d_13\">\n      <g>\n       <use style=\"stroke:#000000;stroke-width:0.8;\" x=\"50.14375\" xlink:href=\"#m19912ac828\" y=\"50.087919\"/>\n      </g>\n     </g>\n     <g id=\"text_14\">\n      <!-- 0.30 -->\n      <g transform=\"translate(20.878125 53.887138)scale(0.1 -0.1)\">\n       <use xlink:href=\"#DejaVuSans-48\"/>\n       <use x=\"63.623047\" xlink:href=\"#DejaVuSans-46\"/>\n       <use x=\"95.410156\" xlink:href=\"#DejaVuSans-51\"/>\n       <use x=\"159.033203\" xlink:href=\"#DejaVuSans-48\"/>\n      </g>\n     </g>\n    </g>\n    <g id=\"ytick_8\">\n     <g id=\"line2d_14\">\n      <g>\n       <use style=\"stroke:#000000;stroke-width:0.8;\" x=\"50.14375\" xlink:href=\"#m19912ac828\" y=\"18.319087\"/>\n      </g>\n     </g>\n     <g id=\"text_15\">\n      <!-- 0.35 -->\n      <g transform=\"translate(20.878125 22.118306)scale(0.1 -0.1)\">\n       <use xlink:href=\"#DejaVuSans-48\"/>\n       <use x=\"63.623047\" xlink:href=\"#DejaVuSans-46\"/>\n       <use x=\"95.410156\" xlink:href=\"#DejaVuSans-51\"/>\n       <use x=\"159.033203\" xlink:href=\"#DejaVuSans-53\"/>\n      </g>\n     </g>\n    </g>\n    <g id=\"text_16\">\n     <!-- Estimated probability -->\n     <defs>\n      <path d=\"M 9.8125 72.90625 \nL 55.90625 72.90625 \nL 55.90625 64.59375 \nL 19.671875 64.59375 \nL 19.671875 43.015625 \nL 54.390625 43.015625 \nL 54.390625 34.71875 \nL 19.671875 34.71875 \nL 19.671875 8.296875 \nL 56.78125 8.296875 \nL 56.78125 0 \nL 9.8125 0 \nz\n\" id=\"DejaVuSans-69\"/>\n      <path d=\"M 34.28125 27.484375 \nQ 23.390625 27.484375 19.1875 25 \nQ 14.984375 22.515625 14.984375 16.5 \nQ 14.984375 11.71875 18.140625 8.90625 \nQ 21.296875 6.109375 26.703125 6.109375 \nQ 34.1875 6.109375 38.703125 11.40625 \nQ 43.21875 16.703125 43.21875 25.484375 \nL 43.21875 27.484375 \nz\nM 52.203125 31.203125 \nL 52.203125 0 \nL 43.21875 0 \nL 43.21875 8.296875 \nQ 40.140625 3.328125 35.546875 0.953125 \nQ 30.953125 -1.421875 24.3125 -1.421875 \nQ 15.921875 -1.421875 10.953125 3.296875 \nQ 6 8.015625 6 15.921875 \nQ 6 25.140625 12.171875 29.828125 \nQ 18.359375 34.515625 30.609375 34.515625 \nL 43.21875 34.515625 \nL 43.21875 35.40625 \nQ 43.21875 41.609375 39.140625 45 \nQ 35.0625 48.390625 27.6875 48.390625 \nQ 23 48.390625 18.546875 47.265625 \nQ 14.109375 46.140625 10.015625 43.890625 \nL 10.015625 52.203125 \nQ 14.9375 54.109375 19.578125 55.046875 \nQ 24.21875 56 28.609375 56 \nQ 40.484375 56 46.34375 49.84375 \nQ 52.203125 43.703125 52.203125 31.203125 \nz\n\" id=\"DejaVuSans-97\"/>\n      <path d=\"M 45.40625 46.390625 \nL 45.40625 75.984375 \nL 54.390625 75.984375 \nL 54.390625 0 \nL 45.40625 0 \nL 45.40625 8.203125 \nQ 42.578125 3.328125 38.25 0.953125 \nQ 33.9375 -1.421875 27.875 -1.421875 \nQ 17.96875 -1.421875 11.734375 6.484375 \nQ 5.515625 14.40625 5.515625 27.296875 \nQ 5.515625 40.1875 11.734375 48.09375 \nQ 17.96875 56 27.875 56 \nQ 33.9375 56 38.25 53.625 \nQ 42.578125 51.265625 45.40625 46.390625 \nz\nM 14.796875 27.296875 \nQ 14.796875 17.390625 18.875 11.75 \nQ 22.953125 6.109375 30.078125 6.109375 \nQ 37.203125 6.109375 41.296875 11.75 \nQ 45.40625 17.390625 45.40625 27.296875 \nQ 45.40625 37.203125 41.296875 42.84375 \nQ 37.203125 48.484375 30.078125 48.484375 \nQ 22.953125 48.484375 18.875 42.84375 \nQ 14.796875 37.203125 14.796875 27.296875 \nz\n\" id=\"DejaVuSans-100\"/>\n      <path d=\"M 48.6875 27.296875 \nQ 48.6875 37.203125 44.609375 42.84375 \nQ 40.53125 48.484375 33.40625 48.484375 \nQ 26.265625 48.484375 22.1875 42.84375 \nQ 18.109375 37.203125 18.109375 27.296875 \nQ 18.109375 17.390625 22.1875 11.75 \nQ 26.265625 6.109375 33.40625 6.109375 \nQ 40.53125 6.109375 44.609375 11.75 \nQ 48.6875 17.390625 48.6875 27.296875 \nz\nM 18.109375 46.390625 \nQ 20.953125 51.265625 25.265625 53.625 \nQ 29.59375 56 35.59375 56 \nQ 45.5625 56 51.78125 48.09375 \nQ 58.015625 40.1875 58.015625 27.296875 \nQ 58.015625 14.40625 51.78125 6.484375 \nQ 45.5625 -1.421875 35.59375 -1.421875 \nQ 29.59375 -1.421875 25.265625 0.953125 \nQ 20.953125 3.328125 18.109375 8.203125 \nL 18.109375 0 \nL 9.078125 0 \nL 9.078125 75.984375 \nL 18.109375 75.984375 \nz\n\" id=\"DejaVuSans-98\"/>\n      <path d=\"M 9.421875 75.984375 \nL 18.40625 75.984375 \nL 18.40625 0 \nL 9.421875 0 \nz\n\" id=\"DejaVuSans-108\"/>\n      <path d=\"M 32.171875 -5.078125 \nQ 28.375 -14.84375 24.75 -17.8125 \nQ 21.140625 -20.796875 15.09375 -20.796875 \nL 7.90625 -20.796875 \nL 7.90625 -13.28125 \nL 13.1875 -13.28125 \nQ 16.890625 -13.28125 18.9375 -11.515625 \nQ 21 -9.765625 23.484375 -3.21875 \nL 25.09375 0.875 \nL 2.984375 54.6875 \nL 12.5 54.6875 \nL 29.59375 11.921875 \nL 46.6875 54.6875 \nL 56.203125 54.6875 \nz\n\" id=\"DejaVuSans-121\"/>\n     </defs>\n     <g transform=\"translate(14.798438 183.033437)rotate(-90)scale(0.1 -0.1)\">\n      <use xlink:href=\"#DejaVuSans-69\"/>\n      <use x=\"63.183594\" xlink:href=\"#DejaVuSans-115\"/>\n      <use x=\"115.283203\" xlink:href=\"#DejaVuSans-116\"/>\n      <use x=\"154.492188\" xlink:href=\"#DejaVuSans-105\"/>\n      <use x=\"182.275391\" xlink:href=\"#DejaVuSans-109\"/>\n      <use x=\"279.6875\" xlink:href=\"#DejaVuSans-97\"/>\n      <use x=\"340.966797\" xlink:href=\"#DejaVuSans-116\"/>\n      <use x=\"380.175781\" xlink:href=\"#DejaVuSans-101\"/>\n      <use x=\"441.699219\" xlink:href=\"#DejaVuSans-100\"/>\n      <use x=\"505.175781\" xlink:href=\"#DejaVuSans-32\"/>\n      <use x=\"536.962891\" xlink:href=\"#DejaVuSans-112\"/>\n      <use x=\"600.439453\" xlink:href=\"#DejaVuSans-114\"/>\n      <use x=\"639.302734\" xlink:href=\"#DejaVuSans-111\"/>\n      <use x=\"700.484375\" xlink:href=\"#DejaVuSans-98\"/>\n      <use x=\"763.960938\" xlink:href=\"#DejaVuSans-97\"/>\n      <use x=\"825.240234\" xlink:href=\"#DejaVuSans-98\"/>\n      <use x=\"888.716797\" xlink:href=\"#DejaVuSans-105\"/>\n      <use x=\"916.5\" xlink:href=\"#DejaVuSans-108\"/>\n      <use x=\"944.283203\" xlink:href=\"#DejaVuSans-105\"/>\n      <use x=\"972.066406\" xlink:href=\"#DejaVuSans-116\"/>\n      <use x=\"1011.275391\" xlink:href=\"#DejaVuSans-121\"/>\n     </g>\n    </g>\n   </g>\n   <g id=\"line2d_15\">\n    <path clip-path=\"url(#p612803584e)\" d=\"M 65.361932 177.163245 \nL 65.971879 145.39441 \nL 66.581826 134.8048 \nL 67.191773 145.39441 \nL 67.80172 126.33311 \nL 68.411668 113.62558 \nL 69.021615 131.779197 \nL 69.631562 129.51 \nL 70.241509 134.8048 \nL 70.851456 145.39441 \nL 72.071351 150.68922 \nL 72.681298 157.613191 \nL 73.291245 154.471219 \nL 73.901192 147.51234 \nL 74.511139 149.36552 \nL 75.121086 143.525655 \nL 76.340981 140.378287 \nL 76.950928 139.04065 \nL 78.170822 130.954036 \nL 78.780769 132.963133 \nL 79.390717 132.1574 \nL 80.000664 133.957636 \nL 80.610611 128.288117 \nL 81.220558 127.74506 \nL 81.830505 129.51 \nL 82.440452 126.771301 \nL 83.0504 130.56896 \nL 84.270294 129.51 \nL 84.880241 125.177881 \nL 86.710083 124.21519 \nL 87.32003 122.211755 \nL 87.929977 123.657846 \nL 89.149871 129.51 \nL 90.369766 131.779197 \nL 90.979713 131.357026 \nL 91.58966 128.065964 \nL 92.199607 127.74506 \nL 92.809554 128.819368 \nL 93.419502 125.792373 \nL 94.029449 125.53889 \nL 95.249343 130.145378 \nL 95.85929 131.067291 \nL 96.469237 130.731873 \nL 97.689132 132.451557 \nL 98.299079 134.419724 \nL 98.909026 132.913806 \nL 100.738868 131.93304 \nL 101.348815 129.51 \nL 102.568709 126.948 \nL 103.178656 128.753595 \nL 103.788603 129.51 \nL 105.008498 129.028655 \nL 105.618445 127.850428 \nL 106.228392 128.575618 \nL 106.838339 128.358956 \nL 109.278128 131.033159 \nL 109.888075 131.656541 \nL 111.107969 131.182041 \nL 112.327864 129.102703 \nL 112.937811 130.515344 \nL 113.547758 129.51 \nL 114.157705 130.098313 \nL 114.767652 129.122576 \nL 116.597494 133.060633 \nL 117.207441 133.57345 \nL 118.427335 133.120091 \nL 119.037283 131.473244 \nL 119.64723 131.27493 \nL 122.087018 133.227627 \nL 122.696966 133.021294 \nL 123.306913 132.1574 \nL 125.136754 131.595834 \nL 125.746701 130.780756 \nL 126.356649 129.35273 \nL 126.966596 129.821454 \nL 127.576543 129.047344 \nL 128.18649 127.066244 \nL 128.796437 126.33311 \nL 129.406384 127.412057 \nL 130.016332 127.283209 \nL 130.626279 126.568443 \nL 131.236226 127.032614 \nL 133.676015 124.308903 \nL 135.505856 124.032612 \nL 136.115803 124.486719 \nL 136.72575 123.317771 \nL 137.335698 123.770249 \nL 137.945645 123.15623 \nL 138.555592 123.602573 \nL 139.165539 122.999992 \nL 139.775486 123.956907 \nL 140.385433 122.84879 \nL 141.605328 124.719457 \nL 142.215275 124.131807 \nL 143.435169 125.939087 \nL 144.045116 125.355612 \nL 144.655064 125.266074 \nL 145.265011 124.696536 \nL 145.874958 125.091023 \nL 147.094852 123.979867 \nL 147.704799 123.903736 \nL 148.314747 124.292486 \nL 148.924694 123.294357 \nL 151.97443 122.956288 \nL 152.584377 123.33273 \nL 153.194324 123.265783 \nL 153.804271 123.634944 \nL 154.414218 123.134625 \nL 155.024165 123.928987 \nL 155.634113 123.433411 \nL 157.463954 125.747903 \nL 158.073901 125.253387 \nL 158.683848 125.177881 \nL 159.293796 125.51327 \nL 159.903743 125.437073 \nL 161.123637 126.091832 \nL 161.733584 126.013428 \nL 162.343531 126.33311 \nL 162.953479 125.859538 \nL 163.563426 125.784022 \nL 164.173373 126.099236 \nL 164.78332 126.798029 \nL 165.393267 127.103273 \nL 166.003214 126.63932 \nL 167.223109 127.997199 \nL 167.833056 128.288117 \nL 168.443003 127.828122 \nL 169.05295 128.116626 \nL 169.662897 128.032381 \nL 171.492739 128.874622 \nL 172.102686 129.51 \nL 172.712633 129.420254 \nL 173.32258 128.974565 \nL 173.932528 129.598742 \nL 174.542475 129.86299 \nL 175.152422 130.475351 \nL 176.372316 129.596801 \nL 176.982263 129.51 \nL 177.592211 130.111029 \nL 178.202158 130.364 \nL 178.812105 130.274491 \nL 179.422052 129.847964 \nL 180.031999 129.762129 \nL 180.641946 130.011607 \nL 181.251894 130.591134 \nL 181.861841 130.8337 \nL 182.471788 130.744541 \nL 183.081735 130.32878 \nL 183.691682 130.56896 \nL 184.301629 131.130858 \nL 185.521524 131.595834 \nL 186.131471 132.144098 \nL 186.741418 132.051502 \nL 187.351365 132.275938 \nL 187.961312 132.183617 \nL 188.57126 131.779197 \nL 189.791154 132.221971 \nL 190.401101 132.131695 \nL 191.011048 132.656185 \nL 191.620995 132.870159 \nL 192.84089 132.68688 \nL 193.450837 132.897672 \nL 195.280678 132.627498 \nL 195.890626 132.243595 \nL 197.11052 132.072 \nL 197.720467 132.278844 \nL 198.330414 132.193662 \nL 198.940361 131.820458 \nL 199.550309 131.163124 \nL 200.160256 131.656541 \nL 201.38015 132.062854 \nL 201.990097 131.98091 \nL 202.600044 132.180833 \nL 203.209992 132.099088 \nL 203.819939 131.739385 \nL 204.429886 131.660291 \nL 205.64978 132.054257 \nL 206.259727 131.427079 \nL 206.869675 131.350683 \nL 207.479622 131.817987 \nL 208.699516 131.663813 \nL 209.309463 131.051527 \nL 209.91941 130.978303 \nL 210.529358 131.171551 \nL 211.139305 130.8337 \nL 211.749252 130.762294 \nL 212.359199 130.428931 \nL 212.969146 130.621251 \nL 213.579093 131.072403 \nL 214.798988 130.41399 \nL 216.018882 130.2786 \nL 216.628829 130.466887 \nL 217.238776 130.399523 \nL 218.458671 131.27493 \nL 219.068618 131.456306 \nL 219.678565 131.135961 \nL 220.288512 131.316466 \nL 220.898459 130.99916 \nL 221.508407 130.437101 \nL 222.118354 130.618212 \nL 222.728301 131.043243 \nL 223.338248 131.220632 \nL 223.948195 131.640096 \nL 224.558142 131.81384 \nL 225.16809 131.744687 \nL 225.778037 131.916727 \nL 226.997931 132.734655 \nL 227.607878 132.663087 \nL 230.047667 133.31991 \nL 230.657614 133.013909 \nL 232.487456 132.802407 \nL 233.097403 133.193344 \nL 233.70735 133.122695 \nL 234.317297 133.28112 \nL 234.927244 132.7552 \nL 235.537191 133.140722 \nL 236.147139 132.845164 \nL 237.367033 132.709328 \nL 237.97698 132.41841 \nL 239.196874 132.731313 \nL 239.806822 132.664744 \nL 240.416769 132.37802 \nL 241.026716 131.873421 \nL 241.636663 131.810498 \nL 242.24661 130.874639 \nL 243.466505 131.1906 \nL 244.076452 131.563084 \nL 244.686399 131.502282 \nL 245.296346 131.227231 \nL 245.906293 131.167972 \nL 246.51624 130.682669 \nL 247.126188 131.050627 \nL 248.346082 131.357026 \nL 248.956029 131.298306 \nL 249.565976 131.03029 \nL 250.785871 131.332798 \nL 251.395818 131.690209 \nL 252.005765 131.424409 \nL 252.615712 131.779197 \nL 255.055501 132.361044 \nL 255.665448 132.707179 \nL 256.275395 132.848761 \nL 257.495289 132.324962 \nL 258.715184 132.207352 \nL 259.935078 132.48833 \nL 260.545025 132.825433 \nL 261.154972 132.963133 \nL 261.76492 132.509841 \nL 262.984814 132.784636 \nL 263.594761 132.530964 \nL 264.814655 132.803107 \nL 265.424603 132.744814 \nL 266.03455 133.071957 \nL 267.254444 133.337568 \nL 267.864391 133.278375 \nL 268.474338 133.409769 \nL 269.084286 132.78171 \nL 269.694233 133.102897 \nL 270.30418 133.045106 \nL 270.914127 132.799671 \nL 272.134021 132.68688 \nL 272.743969 132.817309 \nL 273.353916 133.132759 \nL 273.963863 133.261124 \nL 274.57381 133.57345 \nL 275.183757 133.33147 \nL 275.793704 133.45815 \nL 276.403652 133.767209 \nL 277.013599 133.709323 \nL 277.623546 133.46972 \nL 278.84344 133.718686 \nL 279.453387 133.4811 \nL 280.673282 133.368925 \nL 281.283229 133.492291 \nL 282.503123 133.380987 \nL 284.332965 133.74584 \nL 284.942912 133.690103 \nL 285.552859 133.810203 \nL 286.772753 134.397512 \nL 287.382701 134.514677 \nL 289.212542 135.380322 \nL 289.822489 135.493558 \nL 290.432436 135.43446 \nL 291.042384 135.718192 \nL 292.262278 135.59973 \nL 294.702067 136.040724 \nL 295.312014 136.317602 \nL 297.141855 136.138924 \nL 297.751802 135.913665 \nL 298.36175 135.855466 \nL 298.971697 135.96304 \nL 299.581644 136.235089 \nL 300.191591 136.176512 \nL 300.801538 136.446601 \nL 301.411485 136.387787 \nL 302.021433 136.492605 \nL 302.63138 136.433971 \nL 303.241327 136.213143 \nL 303.851274 136.155522 \nL 304.461221 135.936521 \nL 305.071168 136.202416 \nL 305.681116 135.984409 \nL 306.291063 136.248837 \nL 306.90101 136.191859 \nL 309.340799 136.600548 \nL 310.560693 136.486527 \nL 311.17064 136.272667 \nL 311.780587 135.902986 \nL 312.390534 136.004613 \nL 313.000482 135.949624 \nL 313.610429 135.739182 \nL 316.050217 136.141358 \nL 316.660165 136.086842 \nL 317.270112 135.879108 \nL 317.880059 135.978596 \nL 318.490006 135.772121 \nL 319.099953 135.719016 \nL 319.7099 135.970169 \nL 320.929795 135.86376 \nL 322.149689 136.059499 \nL 322.759636 135.856252 \nL 323.979531 135.751642 \nL 324.589478 135.401398 \nL 325.809372 135.002745 \nL 326.419319 134.952906 \nL 327.029266 135.051078 \nL 327.639214 134.706524 \nL 328.249161 134.657727 \nL 328.859108 134.902632 \nL 329.469055 134.560804 \nL 330.079002 134.65874 \nL 330.688949 134.610501 \nL 332.518791 134.901297 \nL 333.738685 135.381108 \nL 334.348632 135.188135 \nL 335.568527 135.091013 \nL 336.178474 135.18555 \nL 336.788421 134.709828 \nL 337.398368 134.8048 \nL 338.008315 134.757527 \nL 338.618263 134.42745 \nL 339.22821 134.522412 \nL 339.838157 134.335195 \nL 340.448104 134.570518 \nL 341.058051 134.664544 \nL 341.667998 134.478254 \nL 342.277946 134.572062 \nL 342.887893 134.526133 \nL 343.49784 134.619429 \nL 344.107787 134.018675 \nL 344.717734 134.112672 \nL 345.937629 134.023788 \nL 347.157523 134.210134 \nL 347.76747 134.165777 \nL 348.377417 133.98496 \nL 348.987365 134.213969 \nL 349.597312 134.305939 \nL 350.207259 134.261743 \nL 350.817206 134.353222 \nL 351.427153 134.579494 \nL 352.647048 134.759932 \nL 353.256995 134.715253 \nL 353.866942 134.938846 \nL 355.086836 134.849299 \nL 355.696783 135.071207 \nL 356.306731 134.893419 \nL 357.526625 134.01058 \nL 358.136572 134.232393 \nL 358.746519 134.321457 \nL 359.356466 134.541708 \nL 360.576361 134.717469 \nL 361.186308 134.674068 \nL 362.406202 134.848201 \nL 363.016149 134.8048 \nL 363.626097 134.631908 \nL 364.236044 134.718529 \nL 364.845991 134.546517 \nL 365.455938 134.761845 \nL 366.675832 134.676445 \nL 367.28578 134.8902 \nL 367.895727 134.719571 \nL 368.505674 134.677221 \nL 369.115621 134.889689 \nL 369.725568 134.847159 \nL 369.725568 134.847159 \n\" style=\"fill:none;stroke:#1f77b4;stroke-linecap:square;stroke-width:1.5;\"/>\n   </g>\n   <g id=\"line2d_16\">\n    <path clip-path=\"url(#p612803584e)\" d=\"M 65.361932 113.62558 \nL 65.971879 177.163245 \nL 66.581826 155.98402 \nL 67.191773 177.163245 \nL 67.80172 177.163245 \nL 68.411668 155.98402 \nL 69.021615 159.009623 \nL 69.631562 153.33662 \nL 70.241509 155.98402 \nL 70.851456 158.10195 \nL 72.071351 171.86844 \nL 72.681298 157.613191 \nL 73.291245 154.471219 \nL 73.901192 160.21987 \nL 74.511139 149.36552 \nL 75.121086 147.263165 \nL 75.731034 148.92428 \nL 76.340981 147.066461 \nL 76.950928 151.74818 \nL 78.170822 154.058638 \nL 78.780769 149.538176 \nL 79.390717 150.68922 \nL 80.000664 146.665166 \nL 81.220558 148.92428 \nL 81.830505 149.932814 \nL 83.0504 143.27649 \nL 83.660347 142.32001 \nL 84.270294 139.43776 \nL 84.880241 140.580955 \nL 85.490188 143.525655 \nL 86.100135 144.486737 \nL 86.710083 141.86454 \nL 88.539924 139.692313 \nL 89.149871 139.04065 \nL 89.759819 136.871073 \nL 90.369766 139.343204 \nL 91.58966 141.062301 \nL 92.199607 140.4526 \nL 92.809554 141.250654 \nL 93.419502 143.366615 \nL 94.029449 144.07071 \nL 94.639396 142.152694 \nL 95.249343 144.123664 \nL 95.85929 141.033983 \nL 97.689132 139.511297 \nL 98.299079 136.730192 \nL 99.518973 135.919498 \nL 100.12892 136.630599 \nL 100.738868 136.240685 \nL 101.348815 136.92273 \nL 101.958762 136.540806 \nL 102.568709 138.22081 \nL 103.178656 138.838937 \nL 103.788603 138.44498 \nL 105.618445 140.178638 \nL 106.228392 139.788146 \nL 106.838339 140.329821 \nL 107.448286 141.763689 \nL 109.278128 137.996195 \nL 109.888075 137.666865 \nL 110.498022 138.193476 \nL 111.107969 137.870215 \nL 111.717917 138.380514 \nL 112.937811 136.145258 \nL 114.157705 138.726885 \nL 114.767652 137.645922 \nL 115.987547 138.586809 \nL 117.207441 135.051078 \nL 117.817388 134.074488 \nL 118.427335 134.564127 \nL 119.037283 133.614957 \nL 120.257177 135.968494 \nL 120.867124 135.725643 \nL 121.477071 136.85441 \nL 122.087018 137.283218 \nL 122.696966 137.034195 \nL 123.306913 136.1285 \nL 124.526807 136.965951 \nL 125.136754 136.088394 \nL 125.746701 135.86376 \nL 126.966596 136.673555 \nL 127.576543 135.832923 \nL 128.18649 136.841268 \nL 129.406384 137.602057 \nL 130.016332 137.377982 \nL 130.626279 137.746366 \nL 131.236226 136.942158 \nL 131.846173 137.307806 \nL 132.45612 137.094448 \nL 133.066067 136.317602 \nL 133.676015 137.241351 \nL 134.285962 135.919498 \nL 135.505856 136.630599 \nL 136.115803 135.890914 \nL 136.72575 135.702229 \nL 140.385433 137.70841 \nL 140.995381 137.007439 \nL 141.605328 137.830403 \nL 142.215275 137.139525 \nL 142.825222 137.45221 \nL 143.435169 136.774965 \nL 144.045116 137.085643 \nL 144.655064 136.42154 \nL 145.265011 136.248837 \nL 145.874958 136.556466 \nL 146.484905 136.385344 \nL 147.094852 136.687397 \nL 147.704799 136.517828 \nL 149.534641 137.395071 \nL 150.144588 137.225284 \nL 150.754535 135.706045 \nL 151.364482 135.103104 \nL 153.194324 135.973313 \nL 153.804271 135.820246 \nL 154.414218 136.101489 \nL 155.024165 135.949624 \nL 155.634113 136.226227 \nL 156.24406 136.075556 \nL 156.854007 135.506103 \nL 157.463954 135.362154 \nL 158.073901 135.635358 \nL 158.683848 135.07986 \nL 159.293796 135.76128 \nL 161.123637 135.340983 \nL 161.733584 135.604019 \nL 162.343531 136.26087 \nL 162.953479 136.120282 \nL 163.563426 136.373632 \nL 164.173373 136.234076 \nL 164.78332 135.321366 \nL 165.393267 135.960029 \nL 166.613162 136.453484 \nL 167.223109 136.317602 \nL 167.833056 135.80737 \nL 169.662897 135.420476 \nL 170.272845 136.029041 \nL 171.492739 136.499138 \nL 172.102686 135.647155 \nL 172.712633 135.522747 \nL 173.32258 135.756679 \nL 173.932528 135.633038 \nL 174.542475 135.86376 \nL 175.152422 134.687787 \nL 175.762369 134.572062 \nL 176.982263 133.653756 \nL 177.592211 132.515162 \nL 178.202158 132.7552 \nL 178.812105 133.332455 \nL 180.641946 133.021294 \nL 181.251894 133.585057 \nL 181.861841 132.81925 \nL 182.471788 132.7198 \nL 183.081735 132.948893 \nL 183.691682 132.849803 \nL 184.301629 133.075886 \nL 184.911577 132.977155 \nL 185.521524 133.200322 \nL 186.131471 132.463382 \nL 186.741418 132.369196 \nL 187.351365 131.959834 \nL 187.961312 131.869066 \nL 188.57126 132.092195 \nL 189.181207 132.624591 \nL 189.791154 132.221971 \nL 191.620995 131.953756 \nL 192.230943 132.170068 \nL 192.84089 132.081761 \nL 194.060784 132.507057 \nL 194.670731 132.120116 \nL 195.280678 132.033693 \nL 196.500573 132.451557 \nL 197.11052 131.486404 \nL 197.720467 131.404469 \nL 198.330414 131.903539 \nL 198.940361 131.531651 \nL 199.550309 132.025627 \nL 200.770203 132.430453 \nL 201.38015 132.346501 \nL 201.990097 131.98091 \nL 203.209992 131.81919 \nL 203.819939 132.296738 \nL 204.429886 131.937746 \nL 205.64978 132.879418 \nL 206.259727 132.796433 \nL 207.479622 133.175629 \nL 208.089569 133.633182 \nL 209.309463 133.464342 \nL 209.91941 133.114022 \nL 211.749252 133.662353 \nL 212.359199 133.579556 \nL 212.969146 134.020389 \nL 213.579093 134.197201 \nL 214.189041 134.631908 \nL 214.798988 134.8048 \nL 215.408935 134.204586 \nL 216.018882 134.634 \nL 216.628829 134.549632 \nL 217.238776 134.974237 \nL 217.848724 134.889187 \nL 218.458671 135.309067 \nL 219.068618 135.223364 \nL 219.678565 134.387893 \nL 220.288512 134.306469 \nL 222.118354 135.543614 \nL 222.728301 135.458991 \nL 223.338248 135.619386 \nL 223.948195 135.535122 \nL 224.558142 135.936521 \nL 225.16809 135.368507 \nL 226.997931 135.839882 \nL 227.607878 135.518714 \nL 228.217825 135.437016 \nL 228.827773 135.592137 \nL 229.43772 135.981427 \nL 230.047667 135.898933 \nL 230.657614 135.583455 \nL 231.267561 135.735755 \nL 231.877508 135.423174 \nL 233.097403 135.725643 \nL 233.70735 136.104613 \nL 234.317297 136.023748 \nL 234.927244 136.1712 \nL 235.537191 136.090686 \nL 237.367033 136.526084 \nL 237.97698 136.892897 \nL 238.586927 137.034195 \nL 240.416769 136.79036 \nL 242.856557 137.343405 \nL 244.076452 137.182064 \nL 245.906293 137.585915 \nL 247.126188 137.425643 \nL 249.565976 137.950228 \nL 250.175923 138.28823 \nL 250.785871 137.790723 \nL 251.395818 137.919391 \nL 252.005765 137.633301 \nL 253.225659 137.889161 \nL 253.835606 137.81089 \nL 254.445554 136.915913 \nL 255.055501 137.044912 \nL 256.275395 136.895746 \nL 256.885342 137.023581 \nL 257.495289 136.949533 \nL 258.105237 137.076393 \nL 258.715184 137.002648 \nL 259.325131 137.128542 \nL 259.935078 137.0551 \nL 261.154972 136.514931 \nL 261.76492 136.837481 \nL 262.374867 136.765838 \nL 263.594761 136.234076 \nL 264.204708 135.387717 \nL 264.814655 135.708791 \nL 265.424603 135.641673 \nL 266.03455 135.960029 \nL 266.644497 135.892561 \nL 267.254444 135.634108 \nL 267.864391 135.949624 \nL 268.474338 136.073019 \nL 269.084286 136.385344 \nL 270.30418 136.250266 \nL 270.914127 136.559297 \nL 271.524074 136.49164 \nL 272.134021 136.237513 \nL 272.743969 136.1712 \nL 273.353916 135.919498 \nL 273.963863 136.224987 \nL 274.57381 136.15929 \nL 275.183757 135.909802 \nL 275.793704 135.845402 \nL 276.403652 135.598263 \nL 277.013599 135.169966 \nL 277.623546 135.108235 \nL 278.84344 135.347857 \nL 279.453387 135.286146 \nL 280.063335 135.044791 \nL 280.673282 135.163774 \nL 281.283229 135.103104 \nL 281.893176 135.221253 \nL 282.503123 134.982777 \nL 283.11307 135.278079 \nL 283.723018 135.394751 \nL 284.942912 135.97817 \nL 286.162806 135.855012 \nL 286.772753 135.444836 \nL 287.382701 135.21098 \nL 287.992648 135.152005 \nL 288.602595 134.573965 \nL 289.822489 134.8048 \nL 290.432436 134.232393 \nL 292.262278 134.577676 \nL 293.482172 134.465936 \nL 294.092119 134.748476 \nL 294.702067 134.860982 \nL 295.921961 134.078342 \nL 296.531908 133.857315 \nL 297.141855 133.970976 \nL 297.751802 133.91772 \nL 298.971697 134.47388 \nL 299.581644 134.584758 \nL 300.191591 134.859676 \nL 301.411485 134.750218 \nL 303.851274 135.831352 \nL 304.461221 135.451502 \nL 306.291063 135.286146 \nL 307.510957 135.496588 \nL 308.120904 135.441769 \nL 309.340799 135.649863 \nL 309.950746 135.437016 \nL 312.390534 135.848119 \nL 313.000482 135.637403 \nL 313.610429 135.89491 \nL 315.44027 135.732356 \nL 316.050217 135.524489 \nL 317.270112 135.418696 \nL 317.880059 135.519282 \nL 319.099953 136.023748 \nL 319.7099 136.122176 \nL 320.319848 136.068484 \nL 321.539742 136.263701 \nL 322.149689 136.210056 \nL 322.759636 136.457082 \nL 323.369583 136.253381 \nL 323.979531 136.499138 \nL 324.589478 136.594593 \nL 325.199425 136.838409 \nL 325.809372 136.932624 \nL 326.419319 136.730192 \nL 327.029266 136.824217 \nL 327.639214 137.06523 \nL 328.249161 137.01097 \nL 328.859108 137.103698 \nL 329.469055 137.342402 \nL 331.298897 137.615776 \nL 331.908844 137.561005 \nL 332.518791 137.79595 \nL 333.128738 137.741017 \nL 333.738685 137.830403 \nL 334.348632 137.775641 \nL 335.568527 138.239272 \nL 336.788421 138.413821 \nL 337.398368 138.64265 \nL 338.008315 138.586809 \nL 338.618263 138.67272 \nL 339.838157 138.561652 \nL 340.448104 138.365914 \nL 341.058051 138.311294 \nL 341.667998 138.536828 \nL 342.887893 138.706236 \nL 343.49784 138.65136 \nL 344.107787 138.735444 \nL 344.717734 138.680739 \nL 345.327681 138.902523 \nL 345.937629 138.985519 \nL 346.547576 138.930624 \nL 347.157523 138.738739 \nL 348.377417 138.63073 \nL 348.987365 138.849759 \nL 349.597312 138.523639 \nL 350.207259 138.33467 \nL 350.817206 138.552942 \nL 352.0371 138.716887 \nL 352.647048 138.932953 \nL 353.256995 138.74512 \nL 354.476889 138.906888 \nL 355.086836 138.853773 \nL 355.696783 138.934089 \nL 356.916678 139.358997 \nL 357.526625 139.43776 \nL 358.136572 139.648287 \nL 358.746519 139.726113 \nL 359.966414 139.618264 \nL 360.576361 139.695674 \nL 361.186308 139.642029 \nL 361.796255 139.849545 \nL 364.236044 140.153529 \nL 365.455938 140.045908 \nL 366.065885 139.863804 \nL 369.725568 140.311396 \nL 369.725568 140.311396 \n\" style=\"fill:none;stroke:#ff7f0e;stroke-linecap:square;stroke-width:1.5;\"/>\n   </g>\n   <g id=\"line2d_17\">\n    <path clip-path=\"url(#p612803584e)\" d=\"M 65.361932 50.087911 \nL 66.581826 113.62558 \nL 67.191773 81.856751 \nL 67.80172 100.91805 \nL 68.411668 124.21519 \nL 69.021615 140.856006 \nL 69.631562 153.33662 \nL 70.241509 148.92428 \nL 70.851456 145.39441 \nL 71.461403 130.954036 \nL 72.071351 129.51 \nL 72.681298 133.175629 \nL 73.291245 131.779197 \nL 73.901192 134.8048 \nL 75.121086 147.263165 \nL 75.731034 148.92428 \nL 76.340981 147.066461 \nL 77.560875 149.932814 \nL 78.170822 145.39441 \nL 79.390717 148.04182 \nL 80.000664 146.665166 \nL 81.220558 148.92428 \nL 81.830505 152.202021 \nL 83.660347 154.61762 \nL 84.270294 155.32217 \nL 85.490188 149.13192 \nL 86.100135 148.117458 \nL 86.710083 145.39441 \nL 87.32003 139.384096 \nL 87.929977 137.034195 \nL 89.149871 135.86376 \nL 89.759819 138.420771 \nL 90.979713 137.267502 \nL 92.199607 141.86454 \nL 92.809554 142.631909 \nL 93.419502 144.718481 \nL 94.029449 144.07071 \nL 94.639396 142.152694 \nL 95.249343 136.499138 \nL 95.85929 138.54231 \nL 98.299079 141.351108 \nL 98.909026 139.721407 \nL 99.518973 139.263589 \nL 100.12892 137.726077 \nL 101.348815 141.15857 \nL 101.958762 140.707209 \nL 102.568709 142.32001 \nL 103.178656 140.856006 \nL 105.008498 139.618264 \nL 105.618445 137.333663 \nL 106.228392 136.985019 \nL 106.838339 135.725643 \nL 107.448286 133.594563 \nL 108.668181 134.8048 \nL 109.278128 134.514677 \nL 109.888075 135.091013 \nL 110.498022 133.957636 \nL 111.107969 134.526133 \nL 111.717917 135.905021 \nL 113.547758 137.45221 \nL 114.157705 137.158053 \nL 115.3776 138.122032 \nL 115.987547 137.830403 \nL 116.597494 139.04065 \nL 117.207441 138.74512 \nL 117.817388 137.726077 \nL 118.427335 138.896246 \nL 119.037283 139.32621 \nL 121.477071 138.22081 \nL 123.306913 139.43776 \nL 123.91686 138.516623 \nL 125.746701 139.676028 \nL 126.356649 140.676268 \nL 126.966596 139.788146 \nL 128.18649 140.506898 \nL 129.406384 139.999705 \nL 130.016332 139.159405 \nL 130.626279 140.09961 \nL 131.236226 139.273815 \nL 131.846173 139.04065 \nL 132.45612 139.956503 \nL 134.285962 139.263589 \nL 134.895909 138.488144 \nL 135.505856 138.273811 \nL 136.115803 138.606199 \nL 136.72575 139.471409 \nL 137.945645 137.98169 \nL 138.555592 137.780394 \nL 139.165539 138.624008 \nL 140.385433 137.19601 \nL 140.995381 138.024049 \nL 141.605328 137.830403 \nL 142.215275 138.140115 \nL 144.045116 140.506898 \nL 145.265011 141.062301 \nL 146.484905 140.652797 \nL 147.094852 139.981944 \nL 148.314747 139.59718 \nL 149.534641 140.137699 \nL 151.364482 142.262275 \nL 151.97443 142.062021 \nL 152.584377 142.30578 \nL 153.194324 141.669796 \nL 153.804271 141.477712 \nL 155.024165 140.242707 \nL 156.24406 140.734988 \nL 156.854007 140.555449 \nL 158.683848 138.793094 \nL 159.293796 139.04065 \nL 159.903743 139.692313 \nL 160.51369 138.716887 \nL 161.123637 138.558083 \nL 161.733584 137.602057 \nL 162.343531 137.0551 \nL 163.563426 135.197015 \nL 164.173373 135.844275 \nL 165.393267 135.574953 \nL 166.003214 136.208248 \nL 166.613162 136.453484 \nL 167.223109 136.317602 \nL 169.05295 137.034195 \nL 169.662897 136.898094 \nL 170.272845 136.396308 \nL 170.882792 136.630599 \nL 171.492739 136.136065 \nL 172.712633 136.599649 \nL 173.932528 136.342957 \nL 174.542475 135.86376 \nL 175.152422 136.091935 \nL 176.372316 137.235207 \nL 176.982263 137.45221 \nL 177.592211 136.979963 \nL 178.812105 136.730192 \nL 179.422052 136.269325 \nL 180.641946 136.69979 \nL 181.251894 136.578981 \nL 182.471788 136.999542 \nL 183.691682 136.759807 \nL 184.911577 137.169992 \nL 185.521524 136.088394 \nL 186.131471 135.975519 \nL 187.351365 135.120913 \nL 187.961312 134.385412 \nL 188.57126 134.596138 \nL 189.181207 135.116264 \nL 190.401101 135.524489 \nL 191.011048 135.111748 \nL 192.230943 135.51416 \nL 192.84089 135.409928 \nL 193.450837 135.005557 \nL 194.060784 135.504115 \nL 194.670731 135.699701 \nL 195.280678 135.299647 \nL 195.890626 135.198833 \nL 196.500573 135.393113 \nL 197.11052 135.878407 \nL 197.720467 135.484866 \nL 198.330414 135.385056 \nL 199.550309 135.763136 \nL 200.160256 135.663421 \nL 200.770203 136.134437 \nL 201.990097 136.499138 \nL 202.600044 135.83565 \nL 203.209992 135.457911 \nL 203.819939 135.640821 \nL 205.039833 135.44939 \nL 206.259727 135.808989 \nL 206.869675 136.259166 \nL 207.479622 135.890914 \nL 208.089569 136.066543 \nL 208.699516 135.971457 \nL 209.91941 136.851532 \nL 210.529358 136.488506 \nL 211.139305 136.65799 \nL 212.969146 137.942465 \nL 214.189041 138.262639 \nL 214.798988 138.679054 \nL 215.408935 138.834857 \nL 216.018882 138.73321 \nL 216.628829 138.887545 \nL 217.238776 138.786495 \nL 217.848724 138.939391 \nL 218.458671 138.838937 \nL 219.068618 138.237009 \nL 219.678565 138.140115 \nL 220.288512 138.293144 \nL 220.898459 137.94859 \nL 221.508407 137.85395 \nL 222.118354 137.51377 \nL 222.728301 137.421543 \nL 223.338248 137.085643 \nL 223.948195 137.239193 \nL 224.558142 137.149068 \nL 225.16809 137.301217 \nL 225.778037 137.211537 \nL 226.387984 136.882766 \nL 226.997931 136.317602 \nL 227.607878 136.708558 \nL 228.827773 137.009332 \nL 229.43772 135.746103 \nL 230.047667 135.898933 \nL 230.657614 136.284237 \nL 231.267561 135.735755 \nL 231.877508 136.118843 \nL 232.487456 136.03705 \nL 233.70735 135.41648 \nL 236.147139 135.106285 \nL 236.757086 135.255423 \nL 237.367033 135.178998 \nL 237.97698 135.326829 \nL 238.586927 135.250679 \nL 239.806822 135.542753 \nL 240.416769 135.90789 \nL 244.686399 135.379158 \nL 246.51624 135.799805 \nL 247.126188 136.150636 \nL 247.736135 136.075556 \nL 248.346082 135.789883 \nL 248.956029 135.716488 \nL 249.565976 135.853279 \nL 250.175923 135.571156 \nL 252.005765 135.35671 \nL 252.615712 135.07986 \nL 253.225659 135.216046 \nL 253.835606 134.94144 \nL 255.055501 135.212098 \nL 255.665448 134.940134 \nL 256.275395 135.074606 \nL 256.885342 134.8048 \nL 258.715184 135.20441 \nL 259.325131 134.937587 \nL 260.545025 135.200679 \nL 261.154972 135.133675 \nL 261.76492 135.460506 \nL 262.374867 135.393113 \nL 262.984814 135.52164 \nL 263.594761 135.454475 \nL 264.814655 135.708791 \nL 265.424603 135.255423 \nL 266.03455 135.574953 \nL 267.254444 135.825491 \nL 268.474338 135.312088 \nL 269.084286 135.247356 \nL 269.694233 134.993902 \nL 270.30418 135.119038 \nL 270.914127 135.431411 \nL 271.524074 135.367086 \nL 272.743969 135.612218 \nL 273.963863 136.224987 \nL 274.57381 135.420476 \nL 275.183757 135.541475 \nL 275.793704 135.110858 \nL 276.403652 135.048948 \nL 277.623546 135.290283 \nL 278.233493 134.865319 \nL 278.84344 134.985826 \nL 279.453387 135.286146 \nL 280.063335 135.044791 \nL 280.673282 135.163774 \nL 281.283229 135.103104 \nL 281.893176 135.221253 \nL 282.503123 135.516707 \nL 283.11307 135.278079 \nL 283.723018 135.217769 \nL 284.332965 134.9813 \nL 284.942912 134.922135 \nL 285.552859 134.687787 \nL 286.772753 134.572062 \nL 287.382701 134.340601 \nL 287.992648 134.457605 \nL 288.602595 134.747094 \nL 289.822489 134.632618 \nL 290.432436 134.747558 \nL 291.042384 135.033155 \nL 291.652331 134.9756 \nL 292.262278 134.748022 \nL 294.702067 134.523908 \nL 296.531908 134.860537 \nL 297.141855 135.138334 \nL 297.751802 135.24835 \nL 298.36175 134.694206 \nL 298.971697 133.97749 \nL 300.191591 134.201253 \nL 300.801538 133.9839 \nL 302.63138 134.316051 \nL 303.241327 134.100638 \nL 303.851274 134.048404 \nL 304.461221 134.319781 \nL 305.071168 134.105997 \nL 305.681116 134.215001 \nL 306.291063 134.483906 \nL 306.90101 134.591414 \nL 308.120904 134.167832 \nL 308.730851 133.798794 \nL 310.560693 134.1216 \nL 311.780587 134.647918 \nL 313.000482 134.544614 \nL 314.220376 134.131627 \nL 314.830323 134.391548 \nL 316.050217 134.599177 \nL 316.660165 134.394549 \nL 317.270112 134.651326 \nL 317.880059 134.600664 \nL 319.099953 134.8048 \nL 319.7099 134.754138 \nL 320.319848 134.855349 \nL 321.539742 135.358177 \nL 322.149689 135.156114 \nL 323.979531 135.004136 \nL 324.589478 135.252251 \nL 325.199425 135.201607 \nL 326.419319 135.397232 \nL 327.029266 135.198833 \nL 327.639214 135.148786 \nL 329.469055 134.560804 \nL 330.079002 134.65874 \nL 330.688949 134.901959 \nL 331.298897 134.853266 \nL 331.908844 134.949867 \nL 332.518791 134.611827 \nL 333.128738 134.564127 \nL 334.348632 134.181882 \nL 334.95858 134.422337 \nL 335.568527 134.3755 \nL 336.788421 134.567366 \nL 337.398368 134.094087 \nL 338.618263 134.568956 \nL 339.22821 134.381218 \nL 339.838157 134.616958 \nL 340.448104 134.429949 \nL 341.058051 134.524287 \nL 341.667998 134.758152 \nL 342.277946 134.851354 \nL 342.887893 134.8048 \nL 343.49784 134.89749 \nL 344.717734 134.8048 \nL 345.327681 134.896885 \nL 345.937629 134.850748 \nL 346.547576 135.07986 \nL 347.76747 135.261255 \nL 348.377417 134.94144 \nL 348.987365 134.759355 \nL 350.207259 134.940569 \nL 350.817206 134.624173 \nL 351.427153 134.444302 \nL 352.0371 134.130311 \nL 352.647048 134.086863 \nL 353.256995 134.312264 \nL 353.866942 134.000525 \nL 355.086836 133.914917 \nL 356.306731 133.564181 \nL 357.526625 133.74584 \nL 358.136572 133.704011 \nL 358.746519 133.794174 \nL 359.356466 134.015513 \nL 359.966414 134.104662 \nL 361.796255 133.978513 \nL 362.406202 134.066999 \nL 364.236044 133.942109 \nL 364.845991 134.029951 \nL 366.065885 133.690103 \nL 366.675832 133.906292 \nL 367.28578 133.8654 \nL 367.895727 133.696835 \nL 368.505674 133.784119 \nL 369.115621 133.743719 \nL 369.725568 133.576413 \nL 369.725568 133.576413 \n\" style=\"fill:none;stroke:#2ca02c;stroke-linecap:square;stroke-width:1.5;\"/>\n   </g>\n   <g id=\"line2d_18\">\n    <path clip-path=\"url(#p612803584e)\" d=\"M 65.361932 50.087911 \nL 65.971879 18.319091 \nL 66.581826 50.087911 \nL 67.191773 65.972331 \nL 67.80172 88.21052 \nL 68.411668 92.44636 \nL 69.021615 104.548772 \nL 69.631562 105.683371 \nL 70.851456 107.27182 \nL 71.461403 119.401736 \nL 72.071351 124.21519 \nL 72.681298 118.513093 \nL 73.901192 126.33311 \nL 74.511139 121.56779 \nL 75.731034 120.68532 \nL 76.340981 127.001929 \nL 76.950928 119.97935 \nL 77.560875 116.651183 \nL 78.170822 119.401736 \nL 79.390717 118.92039 \nL 80.000664 123.791608 \nL 81.220558 127.74506 \nL 81.830505 127.240793 \nL 82.440452 128.962256 \nL 83.0504 122.09727 \nL 83.660347 123.87359 \nL 84.270294 121.56779 \nL 85.490188 128.575618 \nL 86.100135 129.963841 \nL 87.929977 138.706236 \nL 88.539924 139.692313 \nL 89.149871 142.21753 \nL 89.759819 143.069864 \nL 90.369766 140.856006 \nL 90.979713 141.700368 \nL 92.199607 146.10039 \nL 93.419502 142.014748 \nL 94.029449 142.74701 \nL 94.639396 142.152694 \nL 95.249343 142.852908 \nL 95.85929 142.279819 \nL 96.469237 140.506898 \nL 97.079185 139.999705 \nL 97.689132 138.33467 \nL 98.909026 139.721407 \nL 99.518973 139.263589 \nL 100.12892 137.726077 \nL 101.958762 136.540806 \nL 102.568709 135.1464 \nL 103.178656 136.821869 \nL 103.788603 136.45943 \nL 104.398551 134.153138 \nL 105.008498 134.8048 \nL 105.618445 136.385344 \nL 106.228392 136.985019 \nL 106.838339 135.725643 \nL 108.058234 136.892897 \nL 109.278128 136.255436 \nL 109.888075 136.808245 \nL 110.498022 136.499138 \nL 111.107969 137.034195 \nL 111.717917 135.905021 \nL 112.327864 137.248556 \nL 114.767652 136.096215 \nL 115.3776 134.294464 \nL 115.987547 134.8048 \nL 116.597494 134.555635 \nL 117.207441 135.789883 \nL 117.817388 136.265443 \nL 118.427335 135.286146 \nL 119.037283 135.756679 \nL 119.64723 135.51078 \nL 120.257177 133.873846 \nL 120.867124 134.344388 \nL 121.477071 132.7552 \nL 122.087018 131.87576 \nL 123.306913 131.49555 \nL 124.526807 132.427546 \nL 125.136754 131.595834 \nL 125.746701 132.051502 \nL 126.356649 131.869066 \nL 126.966596 132.313127 \nL 127.576543 132.131695 \nL 128.18649 132.564698 \nL 129.406384 131.008524 \nL 130.016332 130.846075 \nL 130.626279 131.27493 \nL 131.236226 131.113011 \nL 131.846173 131.531651 \nL 132.45612 131.370338 \nL 133.676015 132.180833 \nL 134.285962 133.132759 \nL 134.895909 133.515629 \nL 135.505856 132.248689 \nL 136.115803 132.089516 \nL 136.72575 132.471496 \nL 137.335698 131.779197 \nL 138.555592 132.529354 \nL 139.775486 132.221971 \nL 140.385433 133.0968 \nL 140.995381 133.449336 \nL 142.215275 132.136552 \nL 143.435169 131.849562 \nL 144.045116 131.220632 \nL 144.655064 131.086312 \nL 145.265011 130.472691 \nL 145.874958 130.346021 \nL 146.484905 131.169563 \nL 147.094852 131.039607 \nL 148.314747 129.85783 \nL 149.534641 127.795855 \nL 150.144588 127.694635 \nL 150.754535 128.045475 \nL 151.97443 127.8438 \nL 152.584377 127.30383 \nL 153.194324 127.647683 \nL 153.804271 127.116452 \nL 154.414218 127.889142 \nL 155.024165 128.222069 \nL 155.634113 128.124106 \nL 156.24406 127.180284 \nL 157.463954 127.837959 \nL 158.073901 128.575618 \nL 158.683848 128.891125 \nL 159.293796 128.38272 \nL 159.903743 128.288117 \nL 162.953479 131.779197 \nL 163.563426 131.667145 \nL 164.78332 132.221971 \nL 165.393267 132.109266 \nL 166.003214 131.615157 \nL 167.223109 131.401004 \nL 167.833056 131.671785 \nL 168.443003 132.313127 \nL 169.05295 132.575415 \nL 169.662897 132.465238 \nL 171.492739 131.053051 \nL 172.102686 131.315046 \nL 172.712633 131.93304 \nL 176.372316 133.415999 \nL 176.982263 133.308444 \nL 177.592211 133.888947 \nL 178.202158 133.4384 \nL 179.422052 133.903556 \nL 181.251894 132.58708 \nL 181.861841 132.48833 \nL 183.081735 133.603917 \nL 183.691682 133.501466 \nL 184.301629 132.751716 \nL 184.911577 132.332101 \nL 185.521524 132.879418 \nL 186.131471 132.463382 \nL 187.961312 133.127239 \nL 189.791154 132.84185 \nL 190.401101 133.057007 \nL 191.011048 132.656185 \nL 191.620995 132.564698 \nL 192.84089 131.779197 \nL 194.060784 132.207352 \nL 194.670731 132.716713 \nL 195.890626 133.130165 \nL 196.500573 133.03987 \nL 197.11052 133.536004 \nL 197.720467 133.736126 \nL 198.330414 133.644298 \nL 199.550309 134.038132 \nL 200.160256 133.659976 \nL 200.770203 133.855061 \nL 201.38015 133.4811 \nL 201.990097 133.39286 \nL 203.819939 134.8048 \nL 204.429886 134.712318 \nL 205.039833 134.344388 \nL 205.64978 133.704589 \nL 206.259727 133.89191 \nL 207.479622 133.718686 \nL 208.089569 133.903556 \nL 208.699516 133.548407 \nL 209.309463 133.732434 \nL 209.91941 133.380987 \nL 210.529358 133.298333 \nL 211.749252 132.607786 \nL 212.359199 132.529354 \nL 212.969146 132.71303 \nL 213.579093 132.113999 \nL 214.189041 132.038541 \nL 215.408935 132.403924 \nL 216.018882 132.3282 \nL 217.238776 131.670279 \nL 217.848724 131.59839 \nL 218.458671 131.779197 \nL 219.068618 131.456306 \nL 219.678565 131.886411 \nL 220.288512 132.063962 \nL 220.898459 131.99194 \nL 221.508407 131.673243 \nL 222.118354 131.110758 \nL 222.728301 131.043243 \nL 223.948195 130.4229 \nL 224.558142 129.873764 \nL 225.16809 129.811987 \nL 225.778037 129.51 \nL 227.607878 129.331522 \nL 228.217825 129.035841 \nL 228.827773 129.214745 \nL 229.43772 129.15701 \nL 230.047667 128.396335 \nL 230.657614 128.575618 \nL 231.267561 128.986333 \nL 231.877508 128.930274 \nL 232.487456 128.412525 \nL 233.097403 128.128745 \nL 233.70735 128.076388 \nL 234.317297 128.481507 \nL 235.537191 128.375401 \nL 237.97698 129.062549 \nL 239.806822 128.901189 \nL 240.416769 129.06876 \nL 241.026716 129.015324 \nL 241.636663 128.524065 \nL 242.856557 129.2924 \nL 243.466505 129.238935 \nL 244.076452 128.969708 \nL 245.296346 129.295345 \nL 245.906293 129.028655 \nL 246.51624 129.190176 \nL 247.126188 128.713119 \nL 247.736135 128.45104 \nL 248.346082 128.82396 \nL 250.785871 128.624633 \nL 251.395818 128.367979 \nL 252.005765 128.319958 \nL 253.225659 128.636099 \nL 253.835606 128.9976 \nL 254.445554 129.152475 \nL 255.055501 128.899059 \nL 257.495289 129.51 \nL 258.105237 128.858584 \nL 258.715184 129.010486 \nL 259.325131 128.763081 \nL 259.935078 128.31867 \nL 260.545025 128.272893 \nL 261.154972 128.424729 \nL 261.76492 128.1822 \nL 262.374867 128.529481 \nL 262.984814 128.288117 \nL 264.204708 128.975663 \nL 264.814655 128.928863 \nL 265.424603 129.268598 \nL 266.03455 129.028655 \nL 266.644497 129.174071 \nL 267.864391 129.08069 \nL 269.694233 130.077295 \nL 270.30418 130.028478 \nL 270.914127 129.603987 \nL 271.524074 129.931707 \nL 272.743969 129.836073 \nL 273.353916 129.231323 \nL 273.963863 128.815344 \nL 275.183757 129.463958 \nL 275.793704 129.601819 \nL 276.403652 129.555777 \nL 277.013599 129.875156 \nL 277.623546 129.828593 \nL 278.233493 129.963841 \nL 278.84344 129.917288 \nL 280.063335 130.184972 \nL 283.11307 129.953701 \nL 283.723018 130.0852 \nL 284.332965 129.86299 \nL 284.942912 129.465993 \nL 286.162806 129.378719 \nL 286.772753 129.51 \nL 287.992648 129.423199 \nL 288.602595 129.726407 \nL 289.212542 129.164689 \nL 289.822489 129.122576 \nL 290.432436 129.252418 \nL 291.042384 129.039031 \nL 294.702067 128.793729 \nL 298.971697 129.67546 \nL 299.581644 129.303705 \nL 300.191591 129.098489 \nL 300.801538 129.222679 \nL 301.411485 129.182488 \nL 302.63138 128.125204 \nL 303.241327 127.925622 \nL 305.681116 127.780811 \nL 306.291063 127.424166 \nL 306.90101 127.709499 \nL 307.510957 127.833755 \nL 308.730851 127.762708 \nL 309.340799 127.252117 \nL 309.950746 127.376269 \nL 310.560693 127.342146 \nL 312.390534 127.710285 \nL 313.000482 127.67568 \nL 313.610429 127.796972 \nL 314.220376 128.073017 \nL 314.830323 127.882817 \nL 315.44027 128.002718 \nL 316.050217 127.96782 \nL 317.270112 128.512429 \nL 317.880059 128.62966 \nL 319.099953 128.557695 \nL 319.7099 128.673979 \nL 320.929795 128.299753 \nL 322.149689 128.531337 \nL 322.759636 128.796512 \nL 323.369583 128.760733 \nL 324.589478 128.987971 \nL 325.199425 128.951993 \nL 325.809372 129.213098 \nL 327.639214 129.104596 \nL 328.249161 129.215843 \nL 328.859108 129.179837 \nL 329.469055 129.290393 \nL 330.079002 129.254387 \nL 330.688949 129.364271 \nL 331.298897 129.328255 \nL 333.128738 129.654404 \nL 333.738685 129.473975 \nL 334.348632 129.725621 \nL 334.95858 128.97215 \nL 336.788421 129.296311 \nL 338.618263 129.191606 \nL 339.22821 129.015816 \nL 339.838157 129.122576 \nL 340.448104 128.947714 \nL 342.277946 128.008835 \nL 342.887893 127.837959 \nL 343.49784 127.806857 \nL 344.107787 128.053352 \nL 344.717734 127.88349 \nL 345.327681 127.852492 \nL 345.937629 127.95946 \nL 346.547576 127.928434 \nL 347.157523 127.760313 \nL 348.377417 128.24608 \nL 349.597312 128.18346 \nL 350.207259 128.288117 \nL 350.817206 128.121379 \nL 353.256995 127.998799 \nL 353.866942 128.236565 \nL 354.476889 128.339565 \nL 355.086836 128.041688 \nL 355.696783 128.14467 \nL 356.306731 128.114297 \nL 357.526625 128.58341 \nL 358.136572 128.156022 \nL 358.746519 128.125876 \nL 360.576361 128.429207 \nL 362.406202 128.338193 \nL 363.016149 128.567977 \nL 364.236044 128.507109 \nL 364.845991 128.60601 \nL 365.455938 128.446742 \nL 366.675832 128.386857 \nL 367.28578 128.1009 \nL 367.895727 128.071767 \nL 369.115621 127.377225 \nL 369.725568 127.476789 \nL 369.725568 127.476789 \n\" style=\"fill:none;stroke:#d62728;stroke-linecap:square;stroke-width:1.5;\"/>\n   </g>\n   <g id=\"line2d_19\">\n    <path clip-path=\"url(#p612803584e)\" d=\"M 65.361932 177.163245 \nL 68.411668 177.163245 \nL 69.021615 168.086436 \nL 69.631562 161.27883 \nL 70.241509 163.043765 \nL 71.461403 130.954036 \nL 72.071351 124.21519 \nL 72.681298 123.400605 \nL 73.291245 127.240793 \nL 73.901192 122.09727 \nL 74.511139 125.53889 \nL 75.121086 121.100599 \nL 76.340981 127.001929 \nL 77.560875 131.779197 \nL 78.170822 133.842109 \nL 78.780769 132.963133 \nL 79.390717 129.51 \nL 80.000664 128.874622 \nL 80.610611 130.731873 \nL 81.220558 130.098313 \nL 81.830505 127.240793 \nL 82.440452 128.962256 \nL 83.660347 136.1712 \nL 84.880241 138.655574 \nL 85.490188 137.919391 \nL 86.100135 135.409928 \nL 86.710083 136.56974 \nL 87.32003 139.384096 \nL 87.929977 137.034195 \nL 89.149871 129.51 \nL 90.369766 128.753595 \nL 90.979713 129.879407 \nL 91.58966 128.065964 \nL 92.199607 124.92117 \nL 92.809554 124.675612 \nL 93.419502 127.144231 \nL 94.029449 124.21519 \nL 94.639396 125.295765 \nL 95.249343 125.062364 \nL 95.85929 126.083945 \nL 96.469237 128.288117 \nL 97.079185 126.812648 \nL 97.689132 126.568443 \nL 98.299079 125.177881 \nL 99.518973 127.001929 \nL 100.12892 128.962256 \nL 101.348815 128.45104 \nL 102.568709 130.0224 \nL 103.788603 129.51 \nL 104.398551 131.220632 \nL 105.008498 129.028655 \nL 105.618445 128.798756 \nL 106.228392 127.641245 \nL 107.448286 130.871524 \nL 108.058234 128.838824 \nL 109.278128 130.16278 \nL 109.888075 129.08069 \nL 110.498022 128.874622 \nL 111.717917 130.128875 \nL 112.327864 129.102703 \nL 112.937811 128.906794 \nL 113.547758 130.30422 \nL 114.767652 131.447122 \nL 115.3776 132.763437 \nL 116.597494 130.818125 \nL 117.817388 131.883533 \nL 118.427335 131.676055 \nL 119.037283 132.901052 \nL 119.64723 132.68688 \nL 120.257177 133.175629 \nL 122.087018 132.551698 \nL 122.696966 131.683657 \nL 123.306913 132.1574 \nL 124.526807 131.779197 \nL 125.136754 132.879418 \nL 125.746701 132.68688 \nL 126.356649 133.127239 \nL 126.966596 131.690209 \nL 128.18649 133.786571 \nL 128.796437 134.199682 \nL 129.406384 134.005591 \nL 130.016332 134.408931 \nL 130.626279 135.393113 \nL 131.236226 135.776325 \nL 131.846173 134.997338 \nL 133.676015 136.116789 \nL 134.285962 135.919498 \nL 134.895909 136.27814 \nL 135.505856 137.178333 \nL 136.72575 136.77914 \nL 137.335698 137.652426 \nL 137.945645 137.98169 \nL 138.555592 137.255288 \nL 139.775486 136.871073 \nL 140.385433 137.19601 \nL 140.995381 136.499138 \nL 141.605328 136.821869 \nL 142.215275 137.639815 \nL 142.825222 137.94859 \nL 143.435169 137.760047 \nL 144.045116 138.063142 \nL 145.265011 139.618264 \nL 146.484905 139.23031 \nL 147.094852 139.511297 \nL 148.924694 141.711076 \nL 149.534641 141.509013 \nL 150.144588 141.763689 \nL 150.754535 142.46537 \nL 151.97443 142.062021 \nL 152.584377 142.30578 \nL 153.804271 141.912902 \nL 154.414218 142.152694 \nL 155.634113 140.916932 \nL 156.24406 141.582152 \nL 158.073901 142.279819 \nL 158.683848 142.918918 \nL 161.123637 142.17732 \nL 161.733584 142.397353 \nL 162.343531 141.42331 \nL 162.953479 142.039942 \nL 163.563426 142.256755 \nL 164.173373 141.301497 \nL 164.78332 141.520166 \nL 165.393267 142.121261 \nL 166.003214 142.332356 \nL 166.613162 141.399527 \nL 167.223109 140.856006 \nL 167.833056 140.694882 \nL 168.443003 140.161899 \nL 169.662897 139.853342 \nL 170.272845 140.069 \nL 170.882792 139.917032 \nL 171.492739 140.129869 \nL 172.102686 139.979274 \nL 172.712633 140.189356 \nL 173.32258 139.683167 \nL 173.932528 139.537589 \nL 174.542475 139.74662 \nL 175.152422 140.304381 \nL 175.762369 139.808682 \nL 176.982263 140.214711 \nL 177.592211 140.070989 \nL 178.202158 139.58721 \nL 178.812105 139.448373 \nL 179.422052 139.986952 \nL 180.031999 139.847472 \nL 180.641946 139.375054 \nL 181.861841 139.76868 \nL 182.471788 139.633224 \nL 183.081735 140.154192 \nL 183.691682 140.018149 \nL 184.301629 139.235148 \nL 185.521524 138.976467 \nL 186.131471 139.168362 \nL 186.741418 139.04065 \nL 188.57126 139.604034 \nL 189.181207 139.165228 \nL 189.791154 139.660529 \nL 191.011048 139.408978 \nL 191.620995 138.979554 \nL 192.230943 138.858242 \nL 192.84089 139.343204 \nL 193.450837 139.221325 \nL 194.060784 137.901762 \nL 194.670731 137.489494 \nL 195.280678 137.674884 \nL 195.890626 137.563031 \nL 196.500573 137.158053 \nL 197.11052 137.342402 \nL 197.720467 137.233616 \nL 198.330414 137.415938 \nL 198.940361 137.885421 \nL 199.550309 138.063142 \nL 200.770203 137.274129 \nL 201.38015 137.45221 \nL 201.990097 137.346312 \nL 203.209992 137.697124 \nL 203.819939 137.312871 \nL 204.429886 137.764346 \nL 205.039833 137.659395 \nL 206.259727 137.999944 \nL 206.869675 137.349948 \nL 208.089569 137.688783 \nL 208.699516 138.12527 \nL 209.309463 138.0219 \nL 209.91941 138.453321 \nL 210.529358 138.615288 \nL 211.749252 138.407904 \nL 212.359199 138.568053 \nL 212.969146 138.465412 \nL 213.579093 138.884411 \nL 214.189041 138.262639 \nL 214.798988 137.904205 \nL 215.408935 138.063142 \nL 216.628829 137.866864 \nL 217.238776 138.024049 \nL 217.848724 137.926843 \nL 218.458671 137.578274 \nL 219.678565 138.390265 \nL 220.288512 138.043979 \nL 221.508407 138.348408 \nL 222.118354 138.252584 \nL 222.728301 138.648141 \nL 223.338248 138.796275 \nL 223.948195 138.212952 \nL 225.16809 138.509153 \nL 225.778037 138.414901 \nL 226.387984 138.081585 \nL 226.997931 137.989652 \nL 227.607878 137.660427 \nL 228.217825 137.807832 \nL 228.827773 137.717934 \nL 229.43772 138.099347 \nL 230.047667 138.243495 \nL 230.657614 138.152992 \nL 231.267561 138.29588 \nL 231.877508 137.973955 \nL 232.487456 138.116465 \nL 233.70735 137.939634 \nL 234.317297 138.080724 \nL 234.927244 138.44854 \nL 235.537191 138.132967 \nL 236.147139 138.271861 \nL 236.757086 137.959156 \nL 237.367033 138.09769 \nL 237.97698 138.011514 \nL 238.586927 138.148892 \nL 239.196874 137.840988 \nL 239.806822 137.977997 \nL 240.416769 137.67282 \nL 241.636663 137.945172 \nL 242.24661 138.298285 \nL 243.466505 138.129871 \nL 244.686399 138.825266 \nL 245.296346 138.310821 \nL 246.51624 138.998007 \nL 247.126188 138.70065 \nL 247.736135 139.04065 \nL 248.346082 138.956216 \nL 249.565976 139.208401 \nL 250.175923 139.124251 \nL 250.785871 139.457292 \nL 251.395818 138.957588 \nL 252.005765 139.289001 \nL 252.615712 139.205684 \nL 253.225659 138.917274 \nL 253.835606 139.04065 \nL 254.445554 139.367527 \nL 255.665448 139.609033 \nL 256.275395 139.121591 \nL 256.885342 139.242353 \nL 258.105237 139.882474 \nL 258.715184 139.799905 \nL 259.325131 139.917032 \nL 259.935078 139.83487 \nL 260.545025 139.951154 \nL 261.154972 139.67208 \nL 261.76492 139.788146 \nL 262.374867 139.511297 \nL 262.984814 139.822647 \nL 264.204708 140.05103 \nL 264.814655 139.970468 \nL 265.424603 140.27664 \nL 266.644497 140.115601 \nL 267.864391 140.338115 \nL 268.474338 140.067902 \nL 269.084286 140.178638 \nL 270.30418 139.64397 \nL 270.914127 139.75498 \nL 271.524074 139.303042 \nL 272.134021 139.227526 \nL 273.353916 139.449367 \nL 273.963863 139.374079 \nL 277.013599 139.917032 \nL 277.623546 139.841696 \nL 278.233493 139.58526 \nL 278.84344 139.149256 \nL 279.453387 138.896246 \nL 280.673282 139.112445 \nL 281.283229 139.04065 \nL 281.893176 138.790784 \nL 282.503123 138.720286 \nL 283.11307 138.827671 \nL 283.723018 138.403501 \nL 284.332965 138.33467 \nL 285.552859 138.900232 \nL 286.162806 138.480532 \nL 286.772753 138.761358 \nL 287.382701 138.866574 \nL 288.602595 138.729016 \nL 289.212542 139.006121 \nL 289.822489 138.765145 \nL 290.432436 138.868922 \nL 291.042384 138.458358 \nL 291.652331 138.22081 \nL 292.262278 138.154866 \nL 292.872225 138.259164 \nL 293.482172 138.193476 \nL 294.702067 138.400216 \nL 295.921961 138.269475 \nL 296.531908 138.539034 \nL 297.751802 138.408595 \nL 298.36175 138.509788 \nL 298.971697 138.77591 \nL 299.581644 138.710582 \nL 300.191591 138.480986 \nL 302.021433 138.779309 \nL 303.241327 139.300647 \nL 303.851274 139.235148 \nL 304.461221 139.493336 \nL 305.681116 139.684066 \nL 306.291063 139.618264 \nL 306.90101 138.912616 \nL 307.510957 139.008715 \nL 308.730851 138.881808 \nL 309.340799 139.135717 \nL 309.950746 138.914207 \nL 310.560693 138.851454 \nL 311.780587 138.413111 \nL 312.390534 138.352063 \nL 313.000482 138.603529 \nL 314.830323 138.88568 \nL 315.44027 138.669624 \nL 316.660165 138.856036 \nL 317.270112 138.641618 \nL 319.099953 138.461644 \nL 319.7099 138.250226 \nL 320.319848 138.343097 \nL 320.929795 138.284244 \nL 321.539742 138.376594 \nL 322.149689 138.317941 \nL 322.759636 138.409779 \nL 323.369583 138.651029 \nL 325.199425 138.475211 \nL 325.809372 138.268698 \nL 326.419319 138.211247 \nL 327.029266 138.4496 \nL 327.639214 138.392008 \nL 328.249161 138.481753 \nL 328.859108 138.42435 \nL 330.079002 138.602459 \nL 330.688949 138.253711 \nL 331.298897 138.05196 \nL 331.908844 137.996195 \nL 332.518791 138.08541 \nL 333.128738 138.029824 \nL 333.738685 137.830403 \nL 334.348632 137.919391 \nL 334.95858 138.151411 \nL 335.568527 138.096166 \nL 336.178474 137.755617 \nL 338.008315 138.019504 \nL 338.618263 137.965178 \nL 339.22821 138.193476 \nL 339.838157 137.998126 \nL 341.667998 138.25692 \nL 342.277946 138.202793 \nL 344.107787 138.874177 \nL 345.327681 139.04065 \nL 345.937629 138.985519 \nL 346.547576 138.655574 \nL 347.157523 138.875976 \nL 348.377417 139.04065 \nL 348.987365 138.713413 \nL 349.597312 138.795745 \nL 350.817206 138.688417 \nL 351.427153 138.364712 \nL 352.647048 138.259884 \nL 353.866942 138.424037 \nL 354.476889 138.104298 \nL 355.086836 138.319844 \nL 355.696783 138.13487 \nL 356.306731 138.34944 \nL 356.916678 138.032532 \nL 357.526625 137.84932 \nL 358.136572 137.931046 \nL 358.746519 137.7488 \nL 359.356466 137.830403 \nL 360.576361 137.46858 \nL 361.186308 137.550259 \nL 363.016149 136.623877 \nL 364.236044 136.789006 \nL 364.845991 136.741932 \nL 365.455938 136.823914 \nL 366.065885 137.034195 \nL 366.675832 136.858547 \nL 368.505674 137.101341 \nL 369.115621 137.054305 \nL 369.725568 137.134516 \nL 369.725568 137.134516 \n\" style=\"fill:none;stroke:#9467bd;stroke-linecap:square;stroke-width:1.5;\"/>\n   </g>\n   <g id=\"line2d_20\">\n    <path clip-path=\"url(#p612803584e)\" d=\"M 65.361932 240.700909 \nL 66.581826 177.163245 \nL 67.191773 161.27883 \nL 67.80172 139.04065 \nL 68.411668 145.39441 \nL 69.021615 104.548772 \nL 69.631562 105.683371 \nL 70.241509 99.5061 \nL 71.461403 113.62558 \nL 72.071351 108.33078 \nL 72.681298 118.513093 \nL 73.901192 117.86143 \nL 74.511139 121.56779 \nL 75.121086 128.575618 \nL 76.340981 120.313755 \nL 76.950928 119.97935 \nL 78.170822 125.177881 \nL 79.390717 129.51 \nL 80.610611 128.288117 \nL 81.830505 122.702389 \nL 83.0504 126.33311 \nL 83.660347 121.82399 \nL 84.270294 125.53889 \nL 84.880241 127.103273 \nL 85.490188 124.838109 \nL 86.710083 127.74506 \nL 87.32003 130.797921 \nL 88.539924 133.175629 \nL 89.149871 132.68688 \nL 89.759819 130.672273 \nL 90.369766 130.266396 \nL 90.979713 128.401779 \nL 92.809554 127.438122 \nL 93.419502 125.792373 \nL 94.029449 128.1863 \nL 95.249343 130.145378 \nL 96.469237 129.51 \nL 98.299079 132.109266 \nL 98.909026 134.048404 \nL 100.12892 135.535122 \nL 100.738868 135.163774 \nL 101.348815 135.86376 \nL 101.958762 137.582402 \nL 102.568709 136.1712 \nL 103.178656 133.796266 \nL 104.398551 135.130636 \nL 105.618445 138.281991 \nL 106.838339 139.408978 \nL 107.448286 137.225284 \nL 108.058234 138.682689 \nL 108.668181 138.33467 \nL 109.278128 138.866574 \nL 109.888075 138.525476 \nL 110.498022 139.887814 \nL 111.107969 138.706236 \nL 111.717917 138.380514 \nL 112.327864 139.692313 \nL 112.937811 139.362358 \nL 114.157705 135.589221 \nL 114.767652 136.871073 \nL 115.3776 135.059978 \nL 115.987547 134.048404 \nL 116.597494 134.555635 \nL 117.207441 134.312264 \nL 117.817388 135.535122 \nL 118.427335 135.286146 \nL 119.037283 135.756679 \nL 120.867124 135.035011 \nL 121.477071 135.488 \nL 122.087018 135.255423 \nL 123.306913 137.45221 \nL 123.91686 137.8616 \nL 124.526807 136.965951 \nL 125.746701 137.769894 \nL 126.356649 137.53084 \nL 126.966596 138.54231 \nL 127.576543 138.917274 \nL 128.18649 138.063142 \nL 128.796437 139.04065 \nL 129.406384 138.800886 \nL 130.016332 139.753219 \nL 130.626279 137.746366 \nL 131.846173 139.618264 \nL 132.45612 139.384096 \nL 133.066067 140.288711 \nL 133.676015 139.490467 \nL 134.285962 140.378287 \nL 134.895909 140.145652 \nL 136.72575 141.086775 \nL 137.335698 140.856006 \nL 137.945645 141.15857 \nL 139.775486 140.487034 \nL 140.385433 140.78281 \nL 140.995381 140.057251 \nL 141.605328 138.838937 \nL 142.215275 139.641006 \nL 142.825222 137.45221 \nL 143.435169 136.774965 \nL 144.655064 136.42154 \nL 145.265011 136.730192 \nL 145.874958 136.556466 \nL 146.484905 136.859503 \nL 147.094852 137.6287 \nL 147.704799 137.919391 \nL 148.314747 137.278285 \nL 149.534641 138.766385 \nL 150.144588 138.132967 \nL 150.754535 137.959156 \nL 151.97443 138.507468 \nL 152.584377 137.89344 \nL 153.194324 138.164268 \nL 153.804271 138.866574 \nL 154.414218 138.694865 \nL 155.024165 138.954786 \nL 155.634113 139.637645 \nL 157.463954 137.870215 \nL 158.073901 137.711752 \nL 158.683848 137.967933 \nL 159.293796 137.40097 \nL 159.903743 137.248556 \nL 160.51369 137.502797 \nL 161.123637 136.949533 \nL 162.343531 136.65799 \nL 162.953479 136.909569 \nL 163.563426 137.550259 \nL 164.78332 137.258498 \nL 165.393267 135.960029 \nL 166.613162 135.692553 \nL 167.223109 135.939408 \nL 167.833056 135.80737 \nL 168.443003 136.050637 \nL 169.05295 135.547932 \nL 169.662897 136.15929 \nL 170.882792 135.900278 \nL 171.492739 136.136065 \nL 172.102686 136.008164 \nL 172.712633 135.163774 \nL 173.32258 135.756679 \nL 175.152422 134.336757 \nL 175.762369 134.572062 \nL 176.372316 134.457605 \nL 176.982263 134.6897 \nL 178.202158 135.8296 \nL 178.812105 135.371091 \nL 179.422052 135.593387 \nL 180.641946 136.69979 \nL 181.251894 135.913665 \nL 181.861841 136.1285 \nL 182.471788 135.682697 \nL 183.081735 134.913974 \nL 183.691682 135.130636 \nL 184.301629 135.669262 \nL 185.521524 136.088394 \nL 186.741418 137.134516 \nL 187.351365 137.333663 \nL 187.961312 137.845381 \nL 188.57126 137.726077 \nL 189.181207 136.985019 \nL 189.791154 136.561134 \nL 190.401101 136.449792 \nL 191.011048 136.953425 \nL 192.84089 137.527848 \nL 193.450837 137.414566 \nL 194.060784 137.901762 \nL 196.500573 138.628827 \nL 197.11052 138.513603 \nL 197.720467 138.690898 \nL 198.330414 138.286318 \nL 198.940361 138.174228 \nL 199.550309 137.775641 \nL 200.160256 137.953069 \nL 200.770203 137.274129 \nL 201.38015 137.168553 \nL 201.990097 137.6287 \nL 203.209992 137.417217 \nL 203.819939 137.034195 \nL 204.429886 137.209435 \nL 205.039833 137.106889 \nL 205.64978 136.730192 \nL 206.869675 137.077255 \nL 207.479622 136.705499 \nL 208.089569 135.796169 \nL 209.309463 136.145258 \nL 210.529358 135.95681 \nL 211.139305 136.39324 \nL 212.359199 136.205086 \nL 212.969146 135.066274 \nL 213.579093 134.457605 \nL 214.189041 134.891251 \nL 214.798988 134.8048 \nL 215.408935 134.976291 \nL 216.018882 134.8902 \nL 216.628829 135.059978 \nL 217.238776 134.974237 \nL 217.848724 134.636045 \nL 218.458671 134.048404 \nL 219.678565 134.888184 \nL 220.288512 134.8048 \nL 220.898459 134.97027 \nL 222.118354 135.789883 \nL 222.728301 135.213669 \nL 223.338248 135.375011 \nL 223.948195 135.778559 \nL 224.558142 135.694011 \nL 225.16809 136.09327 \nL 226.997931 136.556466 \nL 227.607878 136.946523 \nL 228.217825 136.859503 \nL 228.827773 136.30073 \nL 230.047667 137.071214 \nL 230.657614 137.21861 \nL 231.267561 137.132187 \nL 232.487456 137.885421 \nL 233.70735 138.169011 \nL 234.317297 137.623625 \nL 235.537191 137.906051 \nL 236.757086 137.73384 \nL 238.586927 136.811255 \nL 239.196874 136.952345 \nL 239.806822 136.871073 \nL 240.416769 137.01097 \nL 241.636663 137.726077 \nL 242.24661 137.8616 \nL 242.856557 137.343405 \nL 243.466505 137.479316 \nL 244.076452 137.182064 \nL 244.686399 136.671444 \nL 245.296346 137.0229 \nL 245.906293 136.730192 \nL 246.51624 136.652659 \nL 247.126188 136.788144 \nL 248.346082 136.212064 \nL 250.175923 135.989171 \nL 250.785871 136.124164 \nL 252.005765 136.805442 \nL 253.835606 135.96624 \nL 254.445554 136.098714 \nL 255.665448 135.549125 \nL 256.885342 135.813335 \nL 257.495289 135.542052 \nL 258.105237 135.673352 \nL 258.715184 135.604019 \nL 259.325131 135.734297 \nL 259.935078 136.06232 \nL 260.545025 135.794484 \nL 261.154972 136.120282 \nL 262.984814 135.912643 \nL 264.204708 136.164933 \nL 264.814655 135.708791 \nL 265.424603 135.641673 \nL 266.03455 134.997338 \nL 266.644497 134.740817 \nL 269.694233 134.426607 \nL 270.30418 134.741953 \nL 270.914127 134.679484 \nL 272.134021 135.303141 \nL 272.743969 135.053237 \nL 273.353916 135.176366 \nL 273.963863 134.928299 \nL 274.57381 135.051078 \nL 275.183757 134.988969 \nL 275.793704 135.110858 \nL 277.013599 134.987378 \nL 278.233493 135.591455 \nL 279.453387 135.827659 \nL 280.063335 136.124751 \nL 280.673282 135.881711 \nL 282.503123 136.228613 \nL 283.11307 135.987997 \nL 284.332965 136.21675 \nL 285.552859 136.091935 \nL 286.162806 136.380118 \nL 286.772753 136.143052 \nL 287.382701 136.429512 \nL 288.602595 135.958988 \nL 289.212542 135.898299 \nL 289.822489 136.010124 \nL 290.432436 136.29307 \nL 291.042384 136.231974 \nL 292.262278 136.79213 \nL 292.872225 136.730192 \nL 293.482172 136.838011 \nL 294.092119 136.438307 \nL 294.702067 136.209261 \nL 295.312014 136.149519 \nL 295.921961 136.425374 \nL 296.531908 136.198174 \nL 297.141855 135.8054 \nL 298.36175 136.021362 \nL 299.581644 135.905021 \nL 300.191591 136.011913 \nL 300.801538 135.789883 \nL 302.63138 135.619386 \nL 303.241327 135.725643 \nL 303.851274 135.669262 \nL 304.461221 135.774848 \nL 305.071168 135.718628 \nL 305.681116 135.82355 \nL 306.291063 135.767491 \nL 306.90101 136.031815 \nL 307.510957 135.815872 \nL 308.730851 136.340296 \nL 309.340799 136.28365 \nL 309.950746 136.5434 \nL 311.17064 136.429938 \nL 311.780587 136.530515 \nL 312.390534 136.317602 \nL 313.000482 136.417961 \nL 313.610429 136.362101 \nL 314.830323 135.941245 \nL 317.270112 135.725643 \nL 317.880059 135.519282 \nL 318.490006 135.46665 \nL 319.7099 135.058141 \nL 320.319848 135.158633 \nL 320.929795 135.107364 \nL 321.539742 134.452653 \nL 322.149689 134.553864 \nL 322.759636 134.20397 \nL 323.369583 134.305295 \nL 323.979531 134.107133 \nL 324.589478 134.059056 \nL 325.199425 134.160002 \nL 325.809372 134.112028 \nL 326.419319 134.360484 \nL 327.029266 134.164499 \nL 327.639214 134.411686 \nL 328.249161 134.510644 \nL 328.859108 134.462414 \nL 329.469055 134.560804 \nL 330.079002 134.220549 \nL 330.688949 134.173314 \nL 331.298897 134.271685 \nL 333.128738 133.697706 \nL 333.738685 133.940348 \nL 334.95858 134.13548 \nL 335.568527 133.946189 \nL 336.178474 133.900526 \nL 337.398368 134.094087 \nL 338.008315 133.906576 \nL 339.838157 134.194313 \nL 340.448104 134.429949 \nL 341.058051 134.524287 \nL 341.667998 134.478254 \nL 342.277946 134.572062 \nL 342.887893 134.526133 \nL 343.49784 134.202333 \nL 344.717734 134.389521 \nL 345.327681 134.068135 \nL 345.937629 134.023788 \nL 346.547576 134.117169 \nL 347.157523 134.072907 \nL 347.76747 133.754967 \nL 348.377417 133.98496 \nL 350.207259 134.261743 \nL 352.0371 134.939698 \nL 352.647048 134.759932 \nL 353.256995 134.715253 \nL 353.866942 134.402663 \nL 355.086836 134.849299 \nL 356.306731 134.760491 \nL 357.526625 135.20191 \nL 358.746519 135.112382 \nL 359.356466 134.541708 \nL 360.576361 134.455456 \nL 363.626097 134.891251 \nL 364.236044 134.718529 \nL 365.455938 134.890721 \nL 366.065885 135.104912 \nL 367.28578 135.0183 \nL 368.505674 135.442734 \nL 369.115621 135.526336 \nL 369.725568 135.482537 \nL 369.725568 135.482537 \n\" style=\"fill:none;stroke:#8c564b;stroke-linecap:square;stroke-width:1.5;\"/>\n   </g>\n   <g id=\"line2d_21\">\n    <path clip-path=\"url(#p612803584e)\" d=\"M 50.14375 134.593011 \nL 384.94375 134.593011 \n\" style=\"fill:none;stroke:#000000;stroke-dasharray:5.55,2.4;stroke-dashoffset:0;stroke-width:1.5;\"/>\n   </g>\n   <g id=\"patch_3\">\n    <path d=\"M 50.14375 251.82 \nL 50.14375 7.2 \n\" style=\"fill:none;stroke:#000000;stroke-linecap:square;stroke-linejoin:miter;stroke-width:0.8;\"/>\n   </g>\n   <g id=\"patch_4\">\n    <path d=\"M 384.94375 251.82 \nL 384.94375 7.2 \n\" style=\"fill:none;stroke:#000000;stroke-linecap:square;stroke-linejoin:miter;stroke-width:0.8;\"/>\n   </g>\n   <g id=\"patch_5\">\n    <path d=\"M 50.14375 251.82 \nL 384.94375 251.82 \n\" style=\"fill:none;stroke:#000000;stroke-linecap:square;stroke-linejoin:miter;stroke-width:0.8;\"/>\n   </g>\n   <g id=\"patch_6\">\n    <path d=\"M 50.14375 7.2 \nL 384.94375 7.2 \n\" style=\"fill:none;stroke:#000000;stroke-linecap:square;stroke-linejoin:miter;stroke-width:0.8;\"/>\n   </g>\n   <g id=\"legend_1\">\n    <g id=\"patch_7\">\n     <path d=\"M 302.089063 103.26875 \nL 377.94375 103.26875 \nQ 379.94375 103.26875 379.94375 101.26875 \nL 379.94375 14.2 \nQ 379.94375 12.2 377.94375 12.2 \nL 302.089063 12.2 \nQ 300.089063 12.2 300.089063 14.2 \nL 300.089063 101.26875 \nQ 300.089063 103.26875 302.089063 103.26875 \nz\n\" style=\"fill:#ffffff;opacity:0.8;stroke:#cccccc;stroke-linejoin:miter;\"/>\n    </g>\n    <g id=\"line2d_22\">\n     <path d=\"M 304.089063 20.298437 \nL 324.089063 20.298437 \n\" style=\"fill:none;stroke:#1f77b4;stroke-linecap:square;stroke-width:1.5;\"/>\n    </g>\n    <g id=\"line2d_23\"/>\n    <g id=\"text_17\">\n     <!-- P(die=1) -->\n     <defs>\n      <path d=\"M 19.671875 64.796875 \nL 19.671875 37.40625 \nL 32.078125 37.40625 \nQ 38.96875 37.40625 42.71875 40.96875 \nQ 46.484375 44.53125 46.484375 51.125 \nQ 46.484375 57.671875 42.71875 61.234375 \nQ 38.96875 64.796875 32.078125 64.796875 \nz\nM 9.8125 72.90625 \nL 32.078125 72.90625 \nQ 44.34375 72.90625 50.609375 67.359375 \nQ 56.890625 61.8125 56.890625 51.125 \nQ 56.890625 40.328125 50.609375 34.8125 \nQ 44.34375 29.296875 32.078125 29.296875 \nL 19.671875 29.296875 \nL 19.671875 0 \nL 9.8125 0 \nz\n\" id=\"DejaVuSans-80\"/>\n      <path d=\"M 31 75.875 \nQ 24.46875 64.65625 21.28125 53.65625 \nQ 18.109375 42.671875 18.109375 31.390625 \nQ 18.109375 20.125 21.3125 9.0625 \nQ 24.515625 -2 31 -13.1875 \nL 23.1875 -13.1875 \nQ 15.875 -1.703125 12.234375 9.375 \nQ 8.59375 20.453125 8.59375 31.390625 \nQ 8.59375 42.28125 12.203125 53.3125 \nQ 15.828125 64.359375 23.1875 75.875 \nz\n\" id=\"DejaVuSans-40\"/>\n      <path d=\"M 10.59375 45.40625 \nL 73.1875 45.40625 \nL 73.1875 37.203125 \nL 10.59375 37.203125 \nz\nM 10.59375 25.484375 \nL 73.1875 25.484375 \nL 73.1875 17.1875 \nL 10.59375 17.1875 \nz\n\" id=\"DejaVuSans-61\"/>\n      <path d=\"M 8.015625 75.875 \nL 15.828125 75.875 \nQ 23.140625 64.359375 26.78125 53.3125 \nQ 30.421875 42.28125 30.421875 31.390625 \nQ 30.421875 20.453125 26.78125 9.375 \nQ 23.140625 -1.703125 15.828125 -13.1875 \nL 8.015625 -13.1875 \nQ 14.5 -2 17.703125 9.0625 \nQ 20.90625 20.125 20.90625 31.390625 \nQ 20.90625 42.671875 17.703125 53.65625 \nQ 14.5 64.65625 8.015625 75.875 \nz\n\" id=\"DejaVuSans-41\"/>\n     </defs>\n     <g transform=\"translate(332.089063 23.798437)scale(0.1 -0.1)\">\n      <use xlink:href=\"#DejaVuSans-80\"/>\n      <use x=\"60.302734\" xlink:href=\"#DejaVuSans-40\"/>\n      <use x=\"99.316406\" xlink:href=\"#DejaVuSans-100\"/>\n      <use x=\"162.792969\" xlink:href=\"#DejaVuSans-105\"/>\n      <use x=\"190.576172\" xlink:href=\"#DejaVuSans-101\"/>\n      <use x=\"252.099609\" xlink:href=\"#DejaVuSans-61\"/>\n      <use x=\"335.888672\" xlink:href=\"#DejaVuSans-49\"/>\n      <use x=\"399.511719\" xlink:href=\"#DejaVuSans-41\"/>\n     </g>\n    </g>\n    <g id=\"line2d_24\">\n     <path d=\"M 304.089063 34.976562 \nL 324.089063 34.976562 \n\" style=\"fill:none;stroke:#ff7f0e;stroke-linecap:square;stroke-width:1.5;\"/>\n    </g>\n    <g id=\"line2d_25\"/>\n    <g id=\"text_18\">\n     <!-- P(die=2) -->\n     <g transform=\"translate(332.089063 38.476562)scale(0.1 -0.1)\">\n      <use xlink:href=\"#DejaVuSans-80\"/>\n      <use x=\"60.302734\" xlink:href=\"#DejaVuSans-40\"/>\n      <use x=\"99.316406\" xlink:href=\"#DejaVuSans-100\"/>\n      <use x=\"162.792969\" xlink:href=\"#DejaVuSans-105\"/>\n      <use x=\"190.576172\" xlink:href=\"#DejaVuSans-101\"/>\n      <use x=\"252.099609\" xlink:href=\"#DejaVuSans-61\"/>\n      <use x=\"335.888672\" xlink:href=\"#DejaVuSans-50\"/>\n      <use x=\"399.511719\" xlink:href=\"#DejaVuSans-41\"/>\n     </g>\n    </g>\n    <g id=\"line2d_26\">\n     <path d=\"M 304.089063 49.654687 \nL 324.089063 49.654687 \n\" style=\"fill:none;stroke:#2ca02c;stroke-linecap:square;stroke-width:1.5;\"/>\n    </g>\n    <g id=\"line2d_27\"/>\n    <g id=\"text_19\">\n     <!-- P(die=3) -->\n     <g transform=\"translate(332.089063 53.154687)scale(0.1 -0.1)\">\n      <use xlink:href=\"#DejaVuSans-80\"/>\n      <use x=\"60.302734\" xlink:href=\"#DejaVuSans-40\"/>\n      <use x=\"99.316406\" xlink:href=\"#DejaVuSans-100\"/>\n      <use x=\"162.792969\" xlink:href=\"#DejaVuSans-105\"/>\n      <use x=\"190.576172\" xlink:href=\"#DejaVuSans-101\"/>\n      <use x=\"252.099609\" xlink:href=\"#DejaVuSans-61\"/>\n      <use x=\"335.888672\" xlink:href=\"#DejaVuSans-51\"/>\n      <use x=\"399.511719\" xlink:href=\"#DejaVuSans-41\"/>\n     </g>\n    </g>\n    <g id=\"line2d_28\">\n     <path d=\"M 304.089063 64.332812 \nL 324.089063 64.332812 \n\" style=\"fill:none;stroke:#d62728;stroke-linecap:square;stroke-width:1.5;\"/>\n    </g>\n    <g id=\"line2d_29\"/>\n    <g id=\"text_20\">\n     <!-- P(die=4) -->\n     <g transform=\"translate(332.089063 67.832812)scale(0.1 -0.1)\">\n      <use xlink:href=\"#DejaVuSans-80\"/>\n      <use x=\"60.302734\" xlink:href=\"#DejaVuSans-40\"/>\n      <use x=\"99.316406\" xlink:href=\"#DejaVuSans-100\"/>\n      <use x=\"162.792969\" xlink:href=\"#DejaVuSans-105\"/>\n      <use x=\"190.576172\" xlink:href=\"#DejaVuSans-101\"/>\n      <use x=\"252.099609\" xlink:href=\"#DejaVuSans-61\"/>\n      <use x=\"335.888672\" xlink:href=\"#DejaVuSans-52\"/>\n      <use x=\"399.511719\" xlink:href=\"#DejaVuSans-41\"/>\n     </g>\n    </g>\n    <g id=\"line2d_30\">\n     <path d=\"M 304.089063 79.010937 \nL 324.089063 79.010937 \n\" style=\"fill:none;stroke:#9467bd;stroke-linecap:square;stroke-width:1.5;\"/>\n    </g>\n    <g id=\"line2d_31\"/>\n    <g id=\"text_21\">\n     <!-- P(die=5) -->\n     <g transform=\"translate(332.089063 82.510937)scale(0.1 -0.1)\">\n      <use xlink:href=\"#DejaVuSans-80\"/>\n      <use x=\"60.302734\" xlink:href=\"#DejaVuSans-40\"/>\n      <use x=\"99.316406\" xlink:href=\"#DejaVuSans-100\"/>\n      <use x=\"162.792969\" xlink:href=\"#DejaVuSans-105\"/>\n      <use x=\"190.576172\" xlink:href=\"#DejaVuSans-101\"/>\n      <use x=\"252.099609\" xlink:href=\"#DejaVuSans-61\"/>\n      <use x=\"335.888672\" xlink:href=\"#DejaVuSans-53\"/>\n      <use x=\"399.511719\" xlink:href=\"#DejaVuSans-41\"/>\n     </g>\n    </g>\n    <g id=\"line2d_32\">\n     <path d=\"M 304.089063 93.689062 \nL 324.089063 93.689062 \n\" style=\"fill:none;stroke:#8c564b;stroke-linecap:square;stroke-width:1.5;\"/>\n    </g>\n    <g id=\"line2d_33\"/>\n    <g id=\"text_22\">\n     <!-- P(die=6) -->\n     <defs>\n      <path d=\"M 33.015625 40.375 \nQ 26.375 40.375 22.484375 35.828125 \nQ 18.609375 31.296875 18.609375 23.390625 \nQ 18.609375 15.53125 22.484375 10.953125 \nQ 26.375 6.390625 33.015625 6.390625 \nQ 39.65625 6.390625 43.53125 10.953125 \nQ 47.40625 15.53125 47.40625 23.390625 \nQ 47.40625 31.296875 43.53125 35.828125 \nQ 39.65625 40.375 33.015625 40.375 \nz\nM 52.59375 71.296875 \nL 52.59375 62.3125 \nQ 48.875 64.0625 45.09375 64.984375 \nQ 41.3125 65.921875 37.59375 65.921875 \nQ 27.828125 65.921875 22.671875 59.328125 \nQ 17.53125 52.734375 16.796875 39.40625 \nQ 19.671875 43.65625 24.015625 45.921875 \nQ 28.375 48.1875 33.59375 48.1875 \nQ 44.578125 48.1875 50.953125 41.515625 \nQ 57.328125 34.859375 57.328125 23.390625 \nQ 57.328125 12.15625 50.6875 5.359375 \nQ 44.046875 -1.421875 33.015625 -1.421875 \nQ 20.359375 -1.421875 13.671875 8.265625 \nQ 6.984375 17.96875 6.984375 36.375 \nQ 6.984375 53.65625 15.1875 63.9375 \nQ 23.390625 74.21875 37.203125 74.21875 \nQ 40.921875 74.21875 44.703125 73.484375 \nQ 48.484375 72.75 52.59375 71.296875 \nz\n\" id=\"DejaVuSans-54\"/>\n     </defs>\n     <g transform=\"translate(332.089063 97.189062)scale(0.1 -0.1)\">\n      <use xlink:href=\"#DejaVuSans-80\"/>\n      <use x=\"60.302734\" xlink:href=\"#DejaVuSans-40\"/>\n      <use x=\"99.316406\" xlink:href=\"#DejaVuSans-100\"/>\n      <use x=\"162.792969\" xlink:href=\"#DejaVuSans-105\"/>\n      <use x=\"190.576172\" xlink:href=\"#DejaVuSans-101\"/>\n      <use x=\"252.099609\" xlink:href=\"#DejaVuSans-61\"/>\n      <use x=\"335.888672\" xlink:href=\"#DejaVuSans-54\"/>\n      <use x=\"399.511719\" xlink:href=\"#DejaVuSans-41\"/>\n     </g>\n    </g>\n   </g>\n  </g>\n </g>\n <defs>\n  <clipPath id=\"p612803584e\">\n   <rect height=\"244.62\" width=\"334.8\" x=\"50.14375\" y=\"7.2\"/>\n  </clipPath>\n </defs>\n</svg>\n"
          },
          "metadata": {
            "needs_background": "light"
          }
        }
      ]
    },
    {
      "cell_type": "code",
      "source": [
        "import torch\n",
        "\n",
        "print(dir(torch.distributions))"
      ],
      "metadata": {
        "colab": {
          "base_uri": "https://localhost:8080/"
        },
        "id": "KpC0NQliN-v_",
        "outputId": "deb1bb52-7d2c-449c-83d6-fa3e8f72272e"
      },
      "execution_count": null,
      "outputs": [
        {
          "output_type": "stream",
          "name": "stdout",
          "text": [
            "['AbsTransform', 'AffineTransform', 'Bernoulli', 'Beta', 'Binomial', 'CatTransform', 'Categorical', 'Cauchy', 'Chi2', 'ComposeTransform', 'ContinuousBernoulli', 'CorrCholeskyTransform', 'Dirichlet', 'Distribution', 'ExpTransform', 'Exponential', 'ExponentialFamily', 'FisherSnedecor', 'Gamma', 'Geometric', 'Gumbel', 'HalfCauchy', 'HalfNormal', 'Independent', 'IndependentTransform', 'Kumaraswamy', 'LKJCholesky', 'Laplace', 'LogNormal', 'LogisticNormal', 'LowRankMultivariateNormal', 'LowerCholeskyTransform', 'MixtureSameFamily', 'Multinomial', 'MultivariateNormal', 'NegativeBinomial', 'Normal', 'OneHotCategorical', 'OneHotCategoricalStraightThrough', 'Pareto', 'Poisson', 'PowerTransform', 'RelaxedBernoulli', 'RelaxedOneHotCategorical', 'ReshapeTransform', 'SigmoidTransform', 'SoftmaxTransform', 'StackTransform', 'StickBreakingTransform', 'StudentT', 'TanhTransform', 'Transform', 'TransformedDistribution', 'Uniform', 'VonMises', 'Weibull', '__all__', '__builtins__', '__cached__', '__doc__', '__file__', '__loader__', '__name__', '__package__', '__path__', '__spec__', 'bernoulli', 'beta', 'biject_to', 'binomial', 'categorical', 'cauchy', 'chi2', 'constraint_registry', 'constraints', 'continuous_bernoulli', 'dirichlet', 'distribution', 'exp_family', 'exponential', 'fishersnedecor', 'gamma', 'geometric', 'gumbel', 'half_cauchy', 'half_normal', 'identity_transform', 'independent', 'kl', 'kl_divergence', 'kumaraswamy', 'laplace', 'lkj_cholesky', 'log_normal', 'logistic_normal', 'lowrank_multivariate_normal', 'mixture_same_family', 'multinomial', 'multivariate_normal', 'negative_binomial', 'normal', 'one_hot_categorical', 'pareto', 'poisson', 'register_kl', 'relaxed_bernoulli', 'relaxed_categorical', 'studentT', 'transform_to', 'transformed_distribution', 'transforms', 'uniform', 'utils', 'von_mises', 'weibull']\n"
          ]
        }
      ]
    },
    {
      "cell_type": "code",
      "source": [
        "help(torch.ones)"
      ],
      "metadata": {
        "colab": {
          "base_uri": "https://localhost:8080/"
        },
        "id": "IuvpWv_SODXM",
        "outputId": "af698aef-32f3-47ff-ae96-bbf84b4ac5b7"
      },
      "execution_count": null,
      "outputs": [
        {
          "output_type": "stream",
          "name": "stdout",
          "text": [
            "Help on built-in function ones:\n",
            "\n",
            "ones(...)\n",
            "    ones(*size, *, out=None, dtype=None, layout=torch.strided, device=None, requires_grad=False) -> Tensor\n",
            "    \n",
            "    Returns a tensor filled with the scalar value `1`, with the shape defined\n",
            "    by the variable argument :attr:`size`.\n",
            "    \n",
            "    Args:\n",
            "        size (int...): a sequence of integers defining the shape of the output tensor.\n",
            "            Can be a variable number of arguments or a collection like a list or tuple.\n",
            "    \n",
            "    Keyword arguments:\n",
            "        out (Tensor, optional): the output tensor.\n",
            "        dtype (:class:`torch.dtype`, optional): the desired data type of returned tensor.\n",
            "            Default: if ``None``, uses a global default (see :func:`torch.set_default_tensor_type`).\n",
            "        layout (:class:`torch.layout`, optional): the desired layout of returned Tensor.\n",
            "            Default: ``torch.strided``.\n",
            "        device (:class:`torch.device`, optional): the desired device of returned tensor.\n",
            "            Default: if ``None``, uses the current device for the default tensor type\n",
            "            (see :func:`torch.set_default_tensor_type`). :attr:`device` will be the CPU\n",
            "            for CPU tensor types and the current CUDA device for CUDA tensor types.\n",
            "        requires_grad (bool, optional): If autograd should record operations on the\n",
            "            returned tensor. Default: ``False``.\n",
            "    \n",
            "    Example::\n",
            "    \n",
            "        >>> torch.ones(2, 3)\n",
            "        tensor([[ 1.,  1.,  1.],\n",
            "                [ 1.,  1.,  1.]])\n",
            "    \n",
            "        >>> torch.ones(5)\n",
            "        tensor([ 1.,  1.,  1.,  1.,  1.])\n",
            "\n"
          ]
        }
      ]
    },
    {
      "cell_type": "code",
      "source": [
        "torch.ones(4)"
      ],
      "metadata": {
        "id": "Kpms16fjOJK2",
        "outputId": "8273ed1a-d78a-42f4-fc51-bd11c1fa31d4",
        "colab": {
          "base_uri": "https://localhost:8080/"
        }
      },
      "execution_count": null,
      "outputs": [
        {
          "output_type": "execute_result",
          "data": {
            "text/plain": [
              "tensor([1., 1., 1., 1.])"
            ]
          },
          "metadata": {},
          "execution_count": 37
        }
      ]
    }
  ]
}